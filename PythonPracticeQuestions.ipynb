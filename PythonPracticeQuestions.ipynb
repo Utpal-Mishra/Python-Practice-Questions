{
  "nbformat": 4,
  "nbformat_minor": 0,
  "metadata": {
    "colab": {
      "name": "PythonPracticeQuestions.ipynb",
      "provenance": [],
      "collapsed_sections": [
        "bsSQJBNw0R-Q",
        "ARN6lSjS1Zyw",
        "KCBSl5fd1XFn",
        "NqYE0XKQ1VXd",
        "Sj1no9r51TmC",
        "Xzvoqg2c1R2D",
        "_VRZtk3J1QHp",
        "5bzLQp321Ouu",
        "oQbLVck61M52",
        "2V1kShdE1DBv",
        "IXQFc54E1Ayr",
        "Py44xf5C0-0-",
        "RSrdO7q9088e",
        "a53OZ-ZP06wv",
        "QrE2Hslr04Z7",
        "9K5Q6w4P0suS",
        "GWKIGWyV0tHt",
        "3S4jCI_v0Ssv",
        "-vCqBOes0TGJ",
        "X7S1ZQ0l0Tg1",
        "242qXPIGnNV_",
        "hnRp_L7GGofg",
        "937Z-P32IQNl",
        "ekqpnlkL7uw4",
        "4V6kRrHi90oD",
        "yEDpVkZUAC_o",
        "ggJqkIHbRIEH",
        "gwkEvO3NyOTN",
        "oJKof6Do0xw5",
        "bZNx26_rAiaD",
        "N_mkUqagU7mB",
        "1lkzndLdXRrz",
        "uhGmjz_sbXT9",
        "fFjGPJmWATS-",
        "yh-UV3qFHqLT",
        "HzZAmc72I9FC",
        "qowz1CDKMk2d",
        "U9YZ0MICMg_u",
        "Yj264YAuunPL",
        "fSMGEJvf_Y_a",
        "w-vhg2o-Dtr0",
        "zcFmN_YhHhxQ",
        "CEIdFy6wHkjB",
        "Ua-0oCPHHnxX",
        "PGYOhBUKa3X1",
        "eetNqK35nZWd",
        "0geQLgoRny5c",
        "Xv7PliWgov3Y",
        "7Igwssnepa67",
        "JpzE4TA0qote",
        "1qh_O3Rdqvl9",
        "rksmAmijqydw",
        "hQUv9swnq1bz",
        "7AiyLhbGq4Or",
        "y8u9R78fq7Zc",
        "aNVglWHnq71n",
        "rWM16DsjrEwF",
        "IJ4UmdYqrIXu",
        "je7vr7torLEj",
        "LftUj09erNsW",
        "7CJqdhU9rSVr",
        "XVRYx6YorR2D",
        "zy7EHkCAzK-T",
        "xDJEvYvszLcz",
        "z6cmiVOZzL19",
        "B--iRT0GzMWF",
        "1IMO9W_lzM5v",
        "Q0eRrfPP04P-",
        "HqGCVzWK1SWK",
        "5_iLFYsy1S5v",
        "H5BSekwR1UEr",
        "HqRlh_OP1l91",
        "4KXAIF9q1mjx",
        "XmD_wnsh1u2y",
        "jLlpkF1QPwT0",
        "DKGygWPMPwyt",
        "H7HCuv59PxRA",
        "QS6GTrEnPx2b",
        "kre7mG0mP8SL",
        "VQ2CUMAnQDjJ"
      ],
      "authorship_tag": "ABX9TyOIUapaBOf3YXvgEjaxpY1E",
      "include_colab_link": true
    },
    "kernelspec": {
      "name": "python3",
      "display_name": "Python 3"
    },
    "language_info": {
      "name": "python"
    }
  },
  "cells": [
    {
      "cell_type": "markdown",
      "metadata": {
        "id": "view-in-github",
        "colab_type": "text"
      },
      "source": [
        "<a href=\"https://colab.research.google.com/github/Utpal-Mishra/Python-Practice-Questions/blob/main/PythonPracticeQuestions.ipynb\" target=\"_parent\"><img src=\"https://colab.research.google.com/assets/colab-badge.svg\" alt=\"Open In Colab\"/></a>"
      ]
    },
    {
      "cell_type": "markdown",
      "metadata": {
        "id": "uLCMillv0NVX"
      },
      "source": [
        "# Simple Python Programs"
      ]
    },
    {
      "cell_type": "markdown",
      "metadata": {
        "id": "bsSQJBNw0R-Q"
      },
      "source": [
        "### Python Program to Calculate the Average of Numbers in a Given List"
      ]
    },
    {
      "cell_type": "code",
      "metadata": {
        "id": "VDBZMzjr29Gf"
      },
      "source": [
        "def sum_len(n):\n",
        "  sum = 0\n",
        "  len = 0\n",
        "\n",
        "  for i in n:\n",
        "    sum+=i\n",
        "    len+=1\n",
        "  return sum, len"
      ],
      "execution_count": null,
      "outputs": []
    },
    {
      "cell_type": "code",
      "metadata": {
        "colab": {
          "base_uri": "https://localhost:8080/"
        },
        "id": "SNoEHlr62EcO",
        "outputId": "1db84d9c-018f-40ca-c615-b0d2a57aad64"
      },
      "source": [
        "def main():\n",
        "  n = [int(i) for i in input(\"Enter a list of numbers:\\n\").split()]\n",
        "  print(\"\\nObtained List: \", n)\n",
        "\n",
        "  sum, len = sum_len(n)\n",
        "  print(\"\\nAverage of {} Numbers in a Given List {}: {}\".format(len, n, sum/len))\n",
        "\n",
        "if __name__ == \"__main__\":\n",
        "  main()"
      ],
      "execution_count": null,
      "outputs": [
        {
          "output_type": "stream",
          "name": "stdout",
          "text": [
            "Enter a list of numbers:\n",
            "1 2 3 4 5 6 7\n",
            "\n",
            "Obtained List:  [1, 2, 3, 4, 5, 6, 7]\n",
            "\n",
            "Average of 7 Numbers in a Given List [1, 2, 3, 4, 5, 6, 7]: 4.0\n"
          ]
        }
      ]
    },
    {
      "cell_type": "markdown",
      "metadata": {
        "id": "ARN6lSjS1Zyw"
      },
      "source": [
        "### Python Program to Exchange the Values of Two Numbers Without Using a Temporary Variable"
      ]
    },
    {
      "cell_type": "code",
      "metadata": {
        "id": "9dPbvv0t5KSU"
      },
      "source": [
        "def swap(m, n):\n",
        "  n, m = m, n \n",
        "  return m, n"
      ],
      "execution_count": null,
      "outputs": []
    },
    {
      "cell_type": "code",
      "metadata": {
        "colab": {
          "base_uri": "https://localhost:8080/"
        },
        "id": "QuufXAsT4IAj",
        "outputId": "635fc7b5-3f27-4ae9-816a-9bc170a94906"
      },
      "source": [
        "def main():\n",
        "  m, n = input(\"Enter 2 numbers:\\n\").split() #[int(i) for i in input(\"Enter 2 numbers:\\n\").split()]\n",
        "\n",
        "  print(\"Numbers before swapping [ {} :: {} ]\".format(m, n))\n",
        "\n",
        "  m, n = swap(m, n)\n",
        "  print(\"Numbers before swapping [ {} :: {} ]\".format(m, n))\n",
        "\n",
        "if __name__ == \"__main__\":\n",
        "  main()"
      ],
      "execution_count": null,
      "outputs": [
        {
          "output_type": "stream",
          "name": "stdout",
          "text": [
            "Enter 2 numbers:\n",
            "1 2\n",
            "Numbers before swapping [ 1 :: 2 ]\n",
            "Numbers before swapping [ 2 :: 1 ]\n"
          ]
        }
      ]
    },
    {
      "cell_type": "markdown",
      "metadata": {
        "id": "KCBSl5fd1XFn"
      },
      "source": [
        "### Python Program to Read a Number n and Compute n+nn+nnn"
      ]
    },
    {
      "cell_type": "code",
      "metadata": {
        "id": "QuwSpHNC5UgY"
      },
      "source": [
        "def compute(n):\n",
        "  return n + n*n + n*n*n"
      ],
      "execution_count": null,
      "outputs": []
    },
    {
      "cell_type": "code",
      "metadata": {
        "colab": {
          "base_uri": "https://localhost:8080/"
        },
        "id": "0A1TgOGG5cTm",
        "outputId": "cef8935a-3cac-499c-eb42-507e90dbf495"
      },
      "source": [
        "def main():\n",
        "  n = int(input(\"Enter a number n: \"))\n",
        "\n",
        "  print(\"\\nComputation :: n+nn+nnn : {}\".format(compute(n)))\n",
        "\n",
        "if __name__ == \"__main__\":\n",
        "  main()"
      ],
      "execution_count": null,
      "outputs": [
        {
          "output_type": "stream",
          "name": "stdout",
          "text": [
            "Enter a number n: 2\n",
            "\n",
            "Computation :: n+nn+nnn : 14\n"
          ]
        }
      ]
    },
    {
      "cell_type": "markdown",
      "metadata": {
        "id": "NqYE0XKQ1VXd"
      },
      "source": [
        "### Python Program to Reverse a Given Number"
      ]
    },
    {
      "cell_type": "markdown",
      "source": [
        "Approach 1: \n",
        "- Take input as string\n",
        "- Using string reversal using [::-1]\n",
        "\n",
        "Approach 2:\n",
        "- Take input as number\n",
        "- Find length of number l\n",
        "- Loop over the length\n",
        "  - Take the number\n",
        "  - x = number%10\n",
        "  - sum = sum + x*10**l\n",
        "  - l--\n",
        "  - number = number/10\n",
        "- Print the final output\n",
        "\n",
        "Approach 3:\n",
        "- Take input number (int or string)\n",
        "- Loop over and split the number into list\n",
        "- Using List Reversal [::-1]\n",
        "- Using join() \"\".join()\n",
        "- Print the output"
      ],
      "metadata": {
        "id": "hDhjlS8e58pY"
      }
    },
    {
      "cell_type": "code",
      "metadata": {
        "id": "dGRO79cD54xG"
      },
      "source": [
        "def reverse(n):\n",
        "  temp = 0\n",
        "  l = 0\n",
        "  for i in str(n):\n",
        "    temp+=10**(l)*(int(i))\n",
        "    l+=1\n",
        "  return temp"
      ],
      "execution_count": null,
      "outputs": []
    },
    {
      "cell_type": "code",
      "metadata": {
        "colab": {
          "base_uri": "https://localhost:8080/"
        },
        "id": "0S9Tq7VP6GEj",
        "outputId": "4c023f8e-0a20-429a-fc3e-e7c7bc433946"
      },
      "source": [
        "def main():\n",
        "  n = int(input(\"Enter a Number: \"))\n",
        "\n",
        "  print(\"\\nReverse of Number {} :: {}\".format(n, reverse(n)))\n",
        "  # print(\"Reverse of number {} :: {}\".format(n, n[::-1]))\n",
        "\n",
        "if __name__ == \"__main__\":\n",
        "  main()"
      ],
      "execution_count": null,
      "outputs": [
        {
          "output_type": "stream",
          "name": "stdout",
          "text": [
            "Enter a Number: 12345\n",
            "\n",
            "Reverse of Number 12345 :: 54321\n"
          ]
        }
      ]
    },
    {
      "cell_type": "markdown",
      "metadata": {
        "id": "Sj1no9r51TmC"
      },
      "source": [
        "### Python Program to Check Whether a Number is Positive or Negative"
      ]
    },
    {
      "cell_type": "code",
      "metadata": {
        "id": "mm-fS2UEArco"
      },
      "source": [
        "def sign(n):\n",
        "  if n > 0:\n",
        "    return \"\\nPositive Number :: {}\".format(n)\n",
        "  elif n < 0:\n",
        "    return \"\\nNegative Number :: {}\".format(n)\n",
        "  else:\n",
        "    return \"\\nSpecial Number :: {}\".format(n)"
      ],
      "execution_count": null,
      "outputs": []
    },
    {
      "cell_type": "code",
      "metadata": {
        "colab": {
          "base_uri": "https://localhost:8080/"
        },
        "id": "IvXkwZ9ABWJ4",
        "outputId": "505d3665-0c8d-495c-97a3-754559ca31a2"
      },
      "source": [
        "def main():\n",
        "  n = int(input(\"Enter a Number: \"))\n",
        "\n",
        "  print(sign(n))\n",
        "\n",
        "if __name__ == \"__main__\":\n",
        "  main()"
      ],
      "execution_count": null,
      "outputs": [
        {
          "output_type": "stream",
          "name": "stdout",
          "text": [
            "Enter a Number: 1\n",
            "\n",
            "Positive Number :: 1\n"
          ]
        }
      ]
    },
    {
      "cell_type": "markdown",
      "metadata": {
        "id": "Xzvoqg2c1R2D"
      },
      "source": [
        "### Python Program to Take in the Marks of 5 Subjects and Display the Grade"
      ]
    },
    {
      "cell_type": "markdown",
      "source": [
        "Approach 1:\n",
        "- Layman Approach\n",
        "- Feed the marks of subject separately\n",
        "- Calculate average marks\n",
        "- Use if else condidition to return Grade\n",
        "\n",
        "Approach 2: \n",
        "- import statistics\n",
        "- def grades(avg):\n",
        "  if avg > 90:\n",
        "    return \"A\"\n",
        "  elif avg < 90 and avg > 80:\n",
        "    return \"B\"\n",
        "  elif avg < 80 and avg > 70:\n",
        "    return \"C\"\n",
        "  elif avg < 70 and avg > 60:\n",
        "    return \"D\"\n",
        "  else:\n",
        "    return \"E\"\n",
        "- def main():\n",
        "  marks = [int(i) for i in input(\"Enter Marks: \").split()]\n",
        "  print(\"Grades for 5 subject :: {}\".format(grades(statistics.mean(marks))))\n",
        "\n",
        "if __name__ == \"__main__\":\n",
        "  main()"
      ],
      "metadata": {
        "id": "hk_mR3he__bU"
      }
    },
    {
      "cell_type": "code",
      "metadata": {
        "id": "EBoqWIPUC27q"
      },
      "source": [
        "def average(s1, s2, s3, s4, s5):\n",
        "  return (s1+s2+s3+s4+s5)*100/5\n",
        "\n",
        "def grades(s1, s2, s3, s4, s5):\n",
        "  avg = average(s1, s2, s3, s4, s5)\n",
        "  if avg > 90:\n",
        "    return \"A\"\n",
        "  elif avg < 90 and avg > 80:\n",
        "    return \"B\"\n",
        "  elif avg < 80 and avg > 70:\n",
        "    return \"C\"\n",
        "  elif avg < 70 and avg > 60:\n",
        "    return \"D\"\n",
        "  else:\n",
        "    return \"E\""
      ],
      "execution_count": null,
      "outputs": []
    },
    {
      "cell_type": "code",
      "metadata": {
        "colab": {
          "base_uri": "https://localhost:8080/"
        },
        "id": "goW7901_FFdA",
        "outputId": "52ee0ca7-387c-44ce-bc9f-233ed73009c4"
      },
      "source": [
        "def main():\n",
        "  s1 = int(input(\"Enter marks for Subject 1: \"))\n",
        "  s2 = int(input(\"Enter marks for Subject 2: \"))\n",
        "  s3 = int(input(\"Enter marks for Subject 3: \"))\n",
        "  s4 = int(input(\"Enter marks for Subject 4: \"))\n",
        "  s5 = int(input(\"Enter marks for Subject 5: \"))\n",
        "\n",
        "  print(\"Grades for 5 subject :: {}\".format(grades(s1, s2, s3, s4, s5)))\n",
        "\n",
        "if __name__ == \"__main__\":\n",
        "  main()"
      ],
      "execution_count": null,
      "outputs": [
        {
          "output_type": "stream",
          "name": "stdout",
          "text": [
            "Enter marks for Subject 1: 90\n",
            "Enter marks for Subject 2: 90\n",
            "Enter marks for Subject 3: 9\n",
            "Enter marks for Subject 4: 90\n",
            "Enter marks for Subject 5: 90\n",
            "Grades for 5 subject :: A\n"
          ]
        }
      ]
    },
    {
      "cell_type": "markdown",
      "metadata": {
        "id": "_VRZtk3J1QHp"
      },
      "source": [
        "### Python Program to Print all Numbers in a Range Divisible by a Given Number"
      ]
    },
    {
      "cell_type": "code",
      "metadata": {
        "id": "Qk3dXyH4RXiN"
      },
      "source": [
        "def multiples(n, r1, r2):\n",
        "  return list(range(r1, r2+1, n))"
      ],
      "execution_count": null,
      "outputs": []
    },
    {
      "cell_type": "code",
      "metadata": {
        "colab": {
          "base_uri": "https://localhost:8080/"
        },
        "id": "64kALgBQQGlx",
        "outputId": "6862f0a1-e952-4cea-9df2-ce48302cfe20"
      },
      "source": [
        "def main():\n",
        "  n = int(input(\"Enter a Number: \"))\n",
        "  r1 = int(input(\"SET RANGE: \\nFrom: \"))\n",
        "  r2 = int(input(\"To: \"))\n",
        "\n",
        "  print(\"\\nFactors of {} in range [{}, {}] :: \\n{}\".format(n, r1, r2, multiples(n, r1, r2)))\n",
        "\n",
        "if __name__ == \"__main__\":\n",
        "  main()"
      ],
      "execution_count": null,
      "outputs": [
        {
          "output_type": "stream",
          "name": "stdout",
          "text": [
            "Enter a Number: 5\n",
            "SET RANGE: \n",
            "From: 10\n",
            "To: 55\n",
            "\n",
            "Factors of 5 in range [10, 55] :: \n",
            "[10, 15, 20, 25, 30, 35, 40, 45, 50, 55]\n"
          ]
        }
      ]
    },
    {
      "cell_type": "code",
      "source": [
        "\n"
      ],
      "metadata": {
        "colab": {
          "base_uri": "https://localhost:8080/"
        },
        "id": "o3BCe4mrQOp5",
        "outputId": "4a9ae5f6-af52-4ca5-d322-3a0589b4c66d"
      },
      "execution_count": null,
      "outputs": [
        {
          "output_type": "execute_result",
          "data": {
            "text/plain": [
              "[10, 15, 20, 25, 30, 35, 40, 45, 50]"
            ]
          },
          "metadata": {},
          "execution_count": 35
        }
      ]
    },
    {
      "cell_type": "markdown",
      "metadata": {
        "id": "5bzLQp321Ouu"
      },
      "source": [
        "### Python Program to Read Two Numbers and Print Their Quotient and Remainder"
      ]
    },
    {
      "cell_type": "code",
      "metadata": {
        "id": "-Qht5r-mUIPn"
      },
      "source": [
        "def division(d1, d2):\n",
        "  q = d1//d2\n",
        "  r = d1%d2\n",
        "  return q, r"
      ],
      "execution_count": null,
      "outputs": []
    },
    {
      "cell_type": "code",
      "metadata": {
        "colab": {
          "base_uri": "https://localhost:8080/"
        },
        "id": "dzb4JRxDUI7c",
        "outputId": "626be458-717d-4bd6-960a-62ac3549a91b"
      },
      "source": [
        "def main():\n",
        "  d1 = float(input(\"Enter a dividend: \"))\n",
        "  d2 = float(input(\"Enter a divisor: \"))\n",
        "\n",
        "  q, r = division(d1, d2)\n",
        "  print(\"\\nDIVISON:\\nDivident: {}\\nDivisor: {}\\nQuotient: {}\\nRemainder: {}\".format(d1, d2, q, r))\n",
        "\n",
        "if __name__ == \"__main__\":\n",
        "  main()"
      ],
      "execution_count": null,
      "outputs": [
        {
          "output_type": "stream",
          "name": "stdout",
          "text": [
            "Enter a dividend: 2\n",
            "Enter a divisor: 6\n",
            "\n",
            "DIVISON:\n",
            "Divident: 2.0\n",
            "Divisor: 6.0\n",
            "Quotient: 0.0\n",
            "Remainder: 2.0\n"
          ]
        }
      ]
    },
    {
      "cell_type": "markdown",
      "metadata": {
        "id": "oQbLVck61M52"
      },
      "source": [
        "### Python Program to Accept Three Digits and Print all Possible Combinations from the Digits:: APRIORI ALGORITHM"
      ]
    },
    {
      "cell_type": "code",
      "metadata": {
        "colab": {
          "base_uri": "https://localhost:8080/"
        },
        "id": "-TmxeONZ1fFB",
        "outputId": "22ed9198-54b6-4623-972c-30fbf4a47c55"
      },
      "source": [
        "n = input(\" Enter a number: \")"
      ],
      "execution_count": null,
      "outputs": [
        {
          "name": "stdout",
          "output_type": "stream",
          "text": [
            " Enter a number: 123\n"
          ]
        }
      ]
    },
    {
      "cell_type": "code",
      "metadata": {
        "id": "HOk5-c5fjhiA"
      },
      "source": [
        "def one(n):\n",
        "  one = []\n",
        "  for i in n:\n",
        "    one.append(int(i))\n",
        "  return one\n",
        "\n",
        "def two(n):\n",
        "  two = []\n",
        "  for i in n:\n",
        "    for k in n:\n",
        "      two.append(int(str(i)+str(k)))\n",
        "  return two\n",
        "\n",
        "def three(n):\n",
        "  three = []\n",
        "  for i in n:\n",
        "    for k in n:\n",
        "      for m in n:\n",
        "        three.append(int(str(i)+str(k)+str(m)))\n",
        "  return three"
      ],
      "execution_count": null,
      "outputs": []
    },
    {
      "cell_type": "code",
      "metadata": {
        "colab": {
          "base_uri": "https://localhost:8080/"
        },
        "id": "QsjajJmIl64v",
        "outputId": "90e9f915-9c51-4c3d-b199-3ed305875164"
      },
      "source": [
        "def main():\n",
        "  print(\"ALL POSSIBLE COMBINATIONS\\n\")\n",
        "  print(\"\\nSingle Digit Combinations:\\n\", one(n))\n",
        "  print(\"\\nTwo Digit Combnations:\\n\", two(n))\n",
        "  print(\"\\nThree Digit Combinations:\\n\", three(n))\n",
        "\n",
        "if __name__ == \"__main__\":\n",
        "  main()"
      ],
      "execution_count": null,
      "outputs": [
        {
          "output_type": "stream",
          "name": "stdout",
          "text": [
            "ALL POSSIBLE COMBINATIONS\n",
            "\n",
            "\n",
            "Single Digit Combinations:\n",
            " [1, 2, 3]\n",
            "\n",
            "Two Digit Combnations:\n",
            " [11, 12, 13, 21, 22, 23, 31, 32, 33]\n",
            "\n",
            "Three Digit Combinations:\n",
            " [111, 112, 113, 121, 122, 123, 131, 132, 133, 211, 212, 213, 221, 222, 223, 231, 232, 233, 311, 312, 313, 321, 322, 323, 331, 332, 333]\n"
          ]
        }
      ]
    },
    {
      "cell_type": "markdown",
      "metadata": {
        "id": "2V1kShdE1DBv"
      },
      "source": [
        "### Python Program to Print Odd Numbers Within a Given Range"
      ]
    },
    {
      "cell_type": "code",
      "metadata": {
        "colab": {
          "base_uri": "https://localhost:8080/"
        },
        "id": "nmB_XhkW1EAL",
        "outputId": "1d0413b4-9e23-44d0-deea-10e15c0d9187"
      },
      "source": [
        "print(\"PRINT ODD NUMBERS WITHIN A GIVEN RANGE\\n\")\n",
        "r1 = int(input(\"From: \"))\n",
        "r2 = int(input(\"To  : \"))"
      ],
      "execution_count": null,
      "outputs": [
        {
          "name": "stdout",
          "output_type": "stream",
          "text": [
            "PRINT ODD NUMBERS WITHIN A GIVEN RANGE\n",
            "\n",
            "From: 1\n",
            "To  : 51\n"
          ]
        }
      ]
    },
    {
      "cell_type": "code",
      "metadata": {
        "id": "0qsR9fnKodqa"
      },
      "source": [
        "def odd(r1, r2):\n",
        "  odd = []\n",
        "  for i in range(r1, r2):\n",
        "    if i%2 != 0:\n",
        "      odd.append(i)\n",
        "  return odd"
      ],
      "execution_count": null,
      "outputs": []
    },
    {
      "cell_type": "code",
      "metadata": {
        "colab": {
          "base_uri": "https://localhost:8080/"
        },
        "id": "GPRUiEyLodtu",
        "outputId": "99b38993-0cbc-44b8-a78f-2d8e9175d026"
      },
      "source": [
        "def main():\n",
        "  print(\"Possible Odd Numbers: \", odd(r1, r2))\n",
        "\n",
        "\n",
        "if __name__ == \"__main__\":\n",
        "  main()"
      ],
      "execution_count": null,
      "outputs": [
        {
          "output_type": "stream",
          "name": "stdout",
          "text": [
            "Possible Odd Numbers:  [1, 3, 5, 7, 9, 11, 13, 15, 17, 19, 21, 23, 25, 27, 29, 31, 33, 35, 37, 39, 41, 43, 45, 47, 49]\n"
          ]
        }
      ]
    },
    {
      "cell_type": "markdown",
      "metadata": {
        "id": "IXQFc54E1Ayr"
      },
      "source": [
        "### Python Program to Find the Sum of Digits in a Number"
      ]
    },
    {
      "cell_type": "code",
      "metadata": {
        "id": "PcU5MrEQp0KS"
      },
      "source": [
        "def sum(n):\n",
        "  sum = 0\n",
        "  for i in n:\n",
        "    sum += int(i)\n",
        "  return sum"
      ],
      "execution_count": null,
      "outputs": []
    },
    {
      "cell_type": "code",
      "metadata": {
        "colab": {
          "base_uri": "https://localhost:8080/"
        },
        "id": "IJ3OoKhFqAYC",
        "outputId": "7f85d135-3265-4582-d3d8-3449813acc8b"
      },
      "source": [
        "def main():\n",
        "  n = input(\"Enter a number: \")\n",
        "  \n",
        "  print(\"Number: {} :: Sum of Digits: {}\".format(n, sum(n)))\n",
        "\n",
        "if __name__ == \"__main__\":\n",
        "  main()"
      ],
      "execution_count": null,
      "outputs": [
        {
          "output_type": "stream",
          "name": "stdout",
          "text": [
            "Number: 123 :: Sum of Digits: 6\n"
          ]
        }
      ]
    },
    {
      "cell_type": "markdown",
      "metadata": {
        "id": "Py44xf5C0-0-"
      },
      "source": [
        "### Python Program to Find the Smallest Divisor of an Integer"
      ]
    },
    {
      "cell_type": "code",
      "metadata": {
        "id": "lPmw43892bh8"
      },
      "source": [
        "def divisor(n):\n",
        "  for i in range(2, int(n**(1/2))):\n",
        "    if n%i == 0:\n",
        "      return i\n",
        "    else:\n",
        "      continue"
      ],
      "execution_count": null,
      "outputs": []
    },
    {
      "cell_type": "code",
      "metadata": {
        "colab": {
          "base_uri": "https://localhost:8080/"
        },
        "id": "awk17ymz2qdF",
        "outputId": "fcdc12f8-fb53-4444-f549-07d5483d750b"
      },
      "source": [
        "def main():\n",
        "  n = int(input(\"Enter a number: \"))\n",
        "  \n",
        "  print(\"Smallest Divisor of {} :: {}\".format(n, divisor(n)))\n",
        "\n",
        "if __name__ == \"__main__\":\n",
        "  main()"
      ],
      "execution_count": null,
      "outputs": [
        {
          "output_type": "stream",
          "name": "stdout",
          "text": [
            "Smallest Divisor of 10 :: 2\n"
          ]
        }
      ]
    },
    {
      "cell_type": "markdown",
      "metadata": {
        "id": "RSrdO7q9088e"
      },
      "source": [
        "### Python Program to Count the Number of Digits in a Number"
      ]
    },
    {
      "cell_type": "code",
      "metadata": {
        "id": "W3Io7wxG3NbE"
      },
      "source": [
        "def digits(n):\n",
        "  len = 0\n",
        "  for i in n:\n",
        "    len += 1\n",
        "  return len"
      ],
      "execution_count": null,
      "outputs": []
    },
    {
      "cell_type": "code",
      "metadata": {
        "colab": {
          "base_uri": "https://localhost:8080/"
        },
        "id": "t50HdCbr3Xd8",
        "outputId": "34850c56-6a3f-430c-8eac-33d3ab1d8d34"
      },
      "source": [
        "def main():\n",
        "  n = input(\"Enter a number: \")\n",
        "  \n",
        "  print(\"Total Digits in {} :: {}\".format(n, digits(n)))\n",
        "\n",
        "if __name__ == \"__main__\":\n",
        "  main()"
      ],
      "execution_count": null,
      "outputs": [
        {
          "output_type": "stream",
          "name": "stdout",
          "text": [
            "Total Digits in 12345 :: 5\n"
          ]
        }
      ]
    },
    {
      "cell_type": "markdown",
      "metadata": {
        "id": "a53OZ-ZP06wv"
      },
      "source": [
        "### Python Program to Check if a Number is a Palindrome"
      ]
    },
    {
      "cell_type": "code",
      "metadata": {
        "id": "ipd_O7u-3vEy"
      },
      "source": [
        "def check(n, m):\n",
        "  return n == m\n",
        "  \n",
        "def palindrome(n):\n",
        "  m = 0\n",
        "  l = 0\n",
        "  for i in n:\n",
        "     m += 10**(l)*(int(i))\n",
        "     l += 1\n",
        "  \n",
        "  return check(n, str(m))"
      ],
      "execution_count": null,
      "outputs": []
    },
    {
      "cell_type": "code",
      "metadata": {
        "colab": {
          "base_uri": "https://localhost:8080/"
        },
        "id": "wdp2yWK05UDd",
        "outputId": "5f5bb16d-ba1e-4e0a-8c6f-ccb1c5fe7bc1"
      },
      "source": [
        "def main():\n",
        "  n = input(\"Enter a nummber: \")\n",
        "  \n",
        "  print(\"Number {} is a Palindrome :: {}\".format(n, palindrome(n)))\n",
        "\n",
        "if __name__ == \"__main__\":\n",
        "  main()"
      ],
      "execution_count": null,
      "outputs": [
        {
          "output_type": "stream",
          "name": "stdout",
          "text": [
            "Number 12321 is a Palindrome :: True\n"
          ]
        }
      ]
    },
    {
      "cell_type": "markdown",
      "metadata": {
        "id": "QrE2Hslr04Z7"
      },
      "source": [
        "### Python Program to Print all Integers that Aren't Divisible by Either 2 or 3 and Lie between 1 and 50."
      ]
    },
    {
      "cell_type": "code",
      "metadata": {
        "id": "VgX8dO0o7PJB"
      },
      "source": [
        "def non_multiples(r1, r2):\n",
        "  num = []\n",
        "  for i in range(r1, r2):\n",
        "    if i%2 !=0 or i%3 !=0:\n",
        "      num.append(i)\n",
        "  return num"
      ],
      "execution_count": null,
      "outputs": []
    },
    {
      "cell_type": "code",
      "metadata": {
        "colab": {
          "base_uri": "https://localhost:8080/"
        },
        "id": "QHsjWgpH7p-b",
        "outputId": "a24a5c57-c360-4c4b-fb20-7c104493c786"
      },
      "source": [
        "def main():\n",
        "  print(\"SETTING THE RANGE\\n\")\n",
        "  r1 = int(input(\"From: \"))\n",
        "  r2 = int(input(\"To  : \"))\n",
        "\n",
        "  print(\"Non-multiples of {} or {} between {} and {} :: {}\".format(2, 3, r1, r2, non_multiples(r1, r2)))\n",
        "\n",
        "if __name__ == \"__main__\":\n",
        "  main()"
      ],
      "execution_count": null,
      "outputs": [
        {
          "output_type": "stream",
          "name": "stdout",
          "text": [
            "Non-multiples of 2 or 3 between 1 and 50 :: [1, 5, 7, 11, 13, 17, 19, 23, 25, 29, 31, 35, 37, 41, 43, 47, 49]\n"
          ]
        }
      ]
    },
    {
      "cell_type": "markdown",
      "metadata": {
        "id": "9K5Q6w4P0suS"
      },
      "source": [
        "### Python Program to Read a Number n And Print the Series \"1+2+…..+n= \""
      ]
    },
    {
      "cell_type": "code",
      "metadata": {
        "colab": {
          "base_uri": "https://localhost:8080/"
        },
        "id": "AqkI_B8F0s7g",
        "outputId": "579e7ef9-fbeb-4b9f-f77b-d9dad26cf153"
      },
      "source": [
        "n = int(input(\"Enter a number: \"))"
      ],
      "execution_count": null,
      "outputs": [
        {
          "name": "stdout",
          "output_type": "stream",
          "text": [
            "Enter a number: 3\n"
          ]
        }
      ]
    },
    {
      "cell_type": "code",
      "metadata": {
        "id": "_pIYb9-P86Jc"
      },
      "source": [
        "def series(n):\n",
        "  if n < 2:\n",
        "    return 1\n",
        "  else: \n",
        "    return n + series(n-1)"
      ],
      "execution_count": null,
      "outputs": []
    },
    {
      "cell_type": "code",
      "metadata": {
        "colab": {
          "base_uri": "https://localhost:8080/"
        },
        "id": "PPuvZS7j9SzR",
        "outputId": "67f3b428-5c5e-40c0-8e5e-78219e1484e8"
      },
      "source": [
        "def main():\n",
        "  print(\"Sum of series : 1+2+…..+n :: {}\".format(series(n)))\n",
        "\n",
        "if __name__ == \"__main__\":\n",
        "  main()"
      ],
      "execution_count": null,
      "outputs": [
        {
          "output_type": "stream",
          "name": "stdout",
          "text": [
            "Sum of series : 1+2+…..+n :: 6\n"
          ]
        }
      ]
    },
    {
      "cell_type": "markdown",
      "metadata": {
        "id": "GWKIGWyV0tHt"
      },
      "source": [
        "### Python Program to Read a Number n and Print the Natural Numbers Summation Pattern"
      ]
    },
    {
      "cell_type": "code",
      "metadata": {
        "colab": {
          "base_uri": "https://localhost:8080/"
        },
        "id": "MdOpg5_w0tVW",
        "outputId": "9e7bbfb8-e8c0-4355-c2ec-f478f626de44"
      },
      "source": [
        "n = int(input(\"Enter a number: \"))"
      ],
      "execution_count": null,
      "outputs": [
        {
          "name": "stdout",
          "output_type": "stream",
          "text": [
            "Enter a number: 7\n"
          ]
        }
      ]
    },
    {
      "cell_type": "code",
      "metadata": {
        "colab": {
          "base_uri": "https://localhost:8080/"
        },
        "id": "rnsAM8AGGgVL",
        "outputId": "ff6a9714-786a-45c8-d827-7e7bf4532d23"
      },
      "source": [
        "def main():\n",
        "  sum = 0\n",
        "  exp = \"\"\n",
        "  for k in range(1, n + 1):\n",
        "    sum += k\n",
        "    exp = exp + str(k) \n",
        "    print(exp + \" = \", sum)\n",
        "    exp = exp + \" + \"\n",
        "\n",
        "if __name__ == \"__main__\":\n",
        "  main()"
      ],
      "execution_count": null,
      "outputs": [
        {
          "output_type": "stream",
          "name": "stdout",
          "text": [
            "1 =  1\n",
            "1 + 2 =  3\n",
            "1 + 2 + 3 =  6\n",
            "1 + 2 + 3 + 4 =  10\n",
            "1 + 2 + 3 + 4 + 5 =  15\n",
            "1 + 2 + 3 + 4 + 5 + 6 =  21\n",
            "1 + 2 + 3 + 4 + 5 + 6 + 7 =  28\n"
          ]
        }
      ]
    },
    {
      "cell_type": "markdown",
      "metadata": {
        "id": "3S4jCI_v0Ssv"
      },
      "source": [
        "### Python Program to Print an Identity Matrix"
      ]
    },
    {
      "cell_type": "code",
      "metadata": {
        "colab": {
          "base_uri": "https://localhost:8080/"
        },
        "id": "Yu2hPIDi0S5d",
        "outputId": "c3d654fd-5d07-4970-fb81-a696fb875b33"
      },
      "source": [
        "n = int(input(\"Enter dimensions of identity matrix: \"))"
      ],
      "execution_count": null,
      "outputs": [
        {
          "name": "stdout",
          "output_type": "stream",
          "text": [
            "Enter dimensions of identity matrix: 3\n"
          ]
        }
      ]
    },
    {
      "cell_type": "code",
      "metadata": {
        "id": "-g0ZscSKNqN9"
      },
      "source": [
        "def matrix(n):\n",
        "  pattern = \"\"\n",
        "  for i in range(n):\n",
        "    for k in range(n):\n",
        "      if i == k:\n",
        "        pattern += \"1  \"\n",
        "      else:\n",
        "        pattern += \"0  \"\n",
        "    pattern += \"\\n\"\n",
        "  return pattern"
      ],
      "execution_count": null,
      "outputs": []
    },
    {
      "cell_type": "code",
      "metadata": {
        "colab": {
          "base_uri": "https://localhost:8080/"
        },
        "id": "TNe23DIKOCy9",
        "outputId": "a0916db3-9f9d-40b9-e3e1-cc4b61455103"
      },
      "source": [
        "def main():\n",
        "  print(\"Identity matrix [{}, {}]\\n\\n{}\".format(n, n, matrix(n)))\n",
        "\n",
        "if __name__ == \"__main__\":\n",
        "  main()"
      ],
      "execution_count": null,
      "outputs": [
        {
          "output_type": "stream",
          "name": "stdout",
          "text": [
            "Identity matrix [3, 3]\n",
            "\n",
            "1  0  0  \n",
            "0  1  0  \n",
            "0  0  1  \n",
            "\n"
          ]
        }
      ]
    },
    {
      "cell_type": "markdown",
      "metadata": {
        "id": "-vCqBOes0TGJ"
      },
      "source": [
        "### Python Program to Print an Inverted Star Pattern"
      ]
    },
    {
      "cell_type": "code",
      "metadata": {
        "id": "UqJ0RhOG0TTm"
      },
      "source": [
        ""
      ],
      "execution_count": null,
      "outputs": []
    },
    {
      "cell_type": "markdown",
      "metadata": {
        "id": "X7S1ZQ0l0Tg1"
      },
      "source": [
        "### Python Program to Read Print Prime Numbers in a Range using Sieve of Eratosthenes"
      ]
    },
    {
      "cell_type": "code",
      "source": [
        "\"\"\"r1 = 10\n",
        "r2 = 100\n",
        "\n",
        "def prime(n):\n",
        "  for i in range(2, int(n**(1/2))):\n",
        "    if n%i==0:\n",
        "      return 0\n",
        "  return 1\n",
        "\n",
        "def solve(r1, r2):\n",
        "  for m in range(r1, r2):\n",
        "    x = prime(m)\n",
        "    if x==1:\n",
        "      print(m, \"Prime\")\n",
        "\n",
        "solve(r1, r2)\"\"\""
      ],
      "metadata": {
        "colab": {
          "base_uri": "https://localhost:8080/",
          "height": 54
        },
        "id": "kHBs2ujGCdcb",
        "outputId": "49205ae2-703b-4572-9875-10880c7824fb"
      },
      "execution_count": null,
      "outputs": [
        {
          "output_type": "execute_result",
          "data": {
            "application/vnd.google.colaboratory.intrinsic+json": {
              "type": "string"
            },
            "text/plain": [
              "'r1 = 10\\nr2 = 100\\n\\ndef prime(n):\\n  for i in range(2, int(n**(1/2))):\\n    if n%i==0:\\n      return 0\\n  return 1\\n\\ndef solve(r1, r2):\\n  for m in range(r1, r2):\\n    x = prime(m)\\n    if x==1:\\n      print(m, \"Prime\")\\n\\nsolve(r1, r2)'"
            ]
          },
          "metadata": {},
          "execution_count": 54
        }
      ]
    },
    {
      "cell_type": "code",
      "metadata": {
        "id": "6kEPaiWkSOar"
      },
      "source": [
        "def prime(n, r2):\n",
        "  for i in range(2, int(n**(1/2)+1)):\n",
        "    if n%i == 0:\n",
        "      return n, 0\n",
        "  return n, 1\n",
        "\n",
        "def solve(r1, r2):\n",
        "  out = []\n",
        "  for i in range(r1, r2):\n",
        "    n, x = prime(i, r2)\n",
        "    if x == 1:\n",
        "      out.append(n)\n",
        "  return out"
      ],
      "execution_count": null,
      "outputs": []
    },
    {
      "cell_type": "code",
      "metadata": {
        "colab": {
          "base_uri": "https://localhost:8080/"
        },
        "id": "oLKSSiivaGLC",
        "outputId": "7d59f705-a7b3-4356-b15e-ed9bdc6d9213"
      },
      "source": [
        "def main():\n",
        "  print(\"SET A RANGE\\n\")\n",
        "  r1 = int(input(\"From: \"))\n",
        "  r2 = int(input(\"To  : \"))\n",
        "\n",
        "  print(\"Prime number between [{}, {}] :: {}\".format(r1, r2, solve(r1, r2)))\n",
        "\n",
        "if __name__ == \"__main__\":\n",
        "  main()"
      ],
      "execution_count": null,
      "outputs": [
        {
          "output_type": "stream",
          "name": "stdout",
          "text": [
            "SET A RANGE\n",
            "\n",
            "From: 15\n",
            "To  : 100\n",
            "Prime number between [15, 100] :: [17, 19, 23, 29, 31, 37, 41, 43, 47, 53, 59, 61, 67, 71, 73, 79, 83, 89, 97]\n"
          ]
        }
      ]
    },
    {
      "cell_type": "markdown",
      "metadata": {
        "id": "702QgIIVXJQt"
      },
      "source": [
        "11# Mathematical Functions"
      ]
    },
    {
      "cell_type": "markdown",
      "metadata": {
        "id": "242qXPIGnNV_"
      },
      "source": [
        "### Python Program to Check if a Date is Valid and Print the Incremented Date if it is"
      ]
    },
    {
      "cell_type": "code",
      "metadata": {
        "id": "tMeNxrOsnNjZ",
        "colab": {
          "base_uri": "https://localhost:8080/"
        },
        "outputId": "0a0df035-1b5f-4887-8ab4-33809a8c13c6"
      },
      "source": [
        "dt = input(\"Enter a Date (DD/MM/YYYY): \")"
      ],
      "execution_count": null,
      "outputs": [
        {
          "name": "stdout",
          "output_type": "stream",
          "text": [
            "Enter a Date (DD/MM/YYYY): 29/2/2004\n"
          ]
        }
      ]
    },
    {
      "cell_type": "code",
      "metadata": {
        "id": "MwQWv1LPvPX0"
      },
      "source": [
        "def feb(dt):\n",
        "  if (dt[1] == 2 and 1 < dt[0] < 29):\n",
        "    print(\"FEBURARY MONTH WITH 28 DAYS: Checked\")\n",
        "  else:\n",
        "    print(\"FEBURARY MONTH WITH 28 DAYS: No, Checked\")\n",
        "\n",
        "\n",
        "def even(dt): \n",
        "  if ((dt[1] == 4 or dt[1] == 6 or dt[1] == 9 or dt[1] == 11) and (0 < dt[0] < 31)):\n",
        "    print(\"MONTHS WITH 30 DAYS: Yes, Checked\")\n",
        "    feb(dt)\n",
        "  else:\n",
        "    print(\"MONTHS WITH 30 DAYS: No, Checked\")\n",
        "\n",
        "\n",
        "def odd(dt):\n",
        "  if ((dt[1] == 1 or dt[1] == 3 or dt[1] == 5 or dt[1] == 7 or dt[1] == 8 or dt[1] == 10 or dt[1] == 12) and (0 < dt[0] < 32)):\n",
        "    print(\"MONTHS WITH 31 DAYS: Yes, Checked\")\n",
        "    even(dt)\n",
        "  else:\n",
        "    print(\"MONTHS WITH 31 DAYS: No Checked\")\n",
        "\n",
        "\n",
        "def month(dt):\n",
        "    if (0 < dt[1] <= 12):\n",
        "      print(\"WITHIN MONTHS: Yes, Checked\")\n",
        "      odd(dt)\n",
        "    else:\n",
        "      print(\"WITHIN MONTHS: No, Checked\")\n",
        "\n",
        "\n",
        "def leap(dt):\n",
        "    if (dt[2]%4 == 0 and dt[2]%100 != 0):\n",
        "      print(\"LEAP YEAR: Yes, Checked\")\n",
        "    else:\n",
        "      print(\"LEAP YEAR: No, Checked\")\n",
        "    month(dt)\n",
        "    \n",
        "  \n",
        "\n",
        "def year(dt):\n",
        "  if (1000 < dt[2]):\n",
        "    print(\"VALID YEAR: Yes, Checked\")\n",
        "  else:\n",
        "    print(\"VALID YEAR: No, Checked\")\n",
        "  leap(dt)\n",
        "\n",
        "\n",
        "def check(dt):\n",
        "  dt = dt.split(\"/\")\n",
        "  dt[0] = int(dt[0])\n",
        "  dt[1] = int(dt[1])\n",
        "  dt[2] = int(dt[2])\n",
        "  \n",
        "  year(dt)"
      ],
      "execution_count": null,
      "outputs": []
    },
    {
      "cell_type": "code",
      "metadata": {
        "id": "qFIV_O9gvPfW",
        "colab": {
          "base_uri": "https://localhost:8080/"
        },
        "outputId": "f063e36d-0587-4c94-b709-6d9f090f3268"
      },
      "source": [
        "def main():\n",
        "  check(dt)\n",
        "\n",
        "if __name__ == \"__main__\":\n",
        "  main()"
      ],
      "execution_count": null,
      "outputs": [
        {
          "output_type": "stream",
          "name": "stdout",
          "text": [
            "VALID YEAR: Yes, Checked\n",
            "LEAP YEAR: Yes, Checked\n",
            "WITHIN MONTHS: Yes, Checked\n",
            "MONTHS WITH 31 DAYS: No Checked\n"
          ]
        }
      ]
    },
    {
      "cell_type": "markdown",
      "metadata": {
        "id": "hnRp_L7GGofg"
      },
      "source": [
        "### Python Program to Compute Simple Interest Given all the Required Values"
      ]
    },
    {
      "cell_type": "code",
      "metadata": {
        "colab": {
          "base_uri": "https://localhost:8080/"
        },
        "id": "PO5mRzYXGpgC",
        "outputId": "f7445602-5875-4926-a97d-2b93c5f65b81"
      },
      "source": [
        "p = float(input(\"Enter Principle Amount: \"))\n",
        "r = float(input(\"Enter Rate of Interest (in %): \"))\n",
        "t = float(input(\"Enter Time for Interest (in Years): \"))"
      ],
      "execution_count": null,
      "outputs": [
        {
          "name": "stdout",
          "output_type": "stream",
          "text": [
            "Enter Principle Amount: 10000\n",
            "Enter Rate of Interest (in %): 3.5\n",
            "Enter Time for Interest (in Years): 2\n"
          ]
        }
      ]
    },
    {
      "cell_type": "code",
      "metadata": {
        "id": "8rkVvDS-HiHg"
      },
      "source": [
        "def si(p, r, t):\n",
        "  return p*r*t/100"
      ],
      "execution_count": null,
      "outputs": []
    },
    {
      "cell_type": "code",
      "metadata": {
        "colab": {
          "base_uri": "https://localhost:8080/"
        },
        "id": "o6qMfh_MHiKz",
        "outputId": "8bdafed1-d082-4b68-f87b-7357d619ade2"
      },
      "source": [
        "def main():\n",
        "  print(\"Simple Interest (S.I): \", si(p, r, t))\n",
        "\n",
        "if __name__ == \"__main__\":\n",
        "  main()"
      ],
      "execution_count": null,
      "outputs": [
        {
          "output_type": "stream",
          "name": "stdout",
          "text": [
            "Simple Interest (S.I):  700.0\n"
          ]
        }
      ]
    },
    {
      "cell_type": "markdown",
      "metadata": {
        "id": "937Z-P32IQNl"
      },
      "source": [
        "### Python Program to Check Whether a Given Year is a Leap Year"
      ]
    },
    {
      "cell_type": "code",
      "metadata": {
        "colab": {
          "base_uri": "https://localhost:8080/"
        },
        "id": "fqxiYaHVIUMj",
        "outputId": "81c0dca1-2294-49f4-eaaf-72c99209ff4e"
      },
      "source": [
        "n = int(input(\"Enter a YEAR: \"))"
      ],
      "execution_count": null,
      "outputs": [
        {
          "name": "stdout",
          "output_type": "stream",
          "text": [
            "Enter a YEAR: 2004\n"
          ]
        }
      ]
    },
    {
      "cell_type": "code",
      "metadata": {
        "id": "edZ-NxCbIUOz"
      },
      "source": [
        "def year(n):\n",
        "  if n%4 == 0 and n%100 != 400:\n",
        "    return \"LEAP YEAR\"\n",
        "  else:\n",
        "    return \"NOT a LEAP YEAR\""
      ],
      "execution_count": null,
      "outputs": []
    },
    {
      "cell_type": "code",
      "metadata": {
        "colab": {
          "base_uri": "https://localhost:8080/"
        },
        "id": "DPXxce6RIUSt",
        "outputId": "03df8aab-0f90-4fb2-babf-f368f574fae9"
      },
      "source": [
        "def main():\n",
        "  print(\"YEAR - {} :: {}\".format(n, year(n)))\n",
        "\n",
        "if __name__ == \"__main__\":\n",
        "  main()"
      ],
      "execution_count": null,
      "outputs": [
        {
          "output_type": "stream",
          "name": "stdout",
          "text": [
            "YEAR - 2004 :: LEAP YEAR\n"
          ]
        }
      ]
    },
    {
      "cell_type": "markdown",
      "metadata": {
        "id": "ekqpnlkL7uw4"
      },
      "source": [
        "### Python Program to Read Height in Centimeters and then Convert the Height to Feet and Inches"
      ]
    },
    {
      "cell_type": "code",
      "metadata": {
        "colab": {
          "base_uri": "https://localhost:8080/"
        },
        "id": "Samj21EV7t9K",
        "outputId": "1198213c-9a64-4901-db8c-7f2742578a59"
      },
      "source": [
        "h = float(input(\"Enter HEIGHT (cm): \"))"
      ],
      "execution_count": null,
      "outputs": [
        {
          "name": "stdout",
          "output_type": "stream",
          "text": [
            "Enter HEIGHT (cm): 10\n"
          ]
        }
      ]
    },
    {
      "cell_type": "code",
      "metadata": {
        "id": "38-03-Yp7x87"
      },
      "source": [
        "def convert(h):\n",
        "  return h/30.48, h*0.39370078740157"
      ],
      "execution_count": null,
      "outputs": []
    },
    {
      "cell_type": "code",
      "metadata": {
        "colab": {
          "base_uri": "https://localhost:8080/"
        },
        "id": "UoERj2Ji7yEE",
        "outputId": "2ad83b62-b66b-4a2a-a4e4-f4af5e482775"
      },
      "source": [
        "def main():\n",
        "  f, i = convert(h)\n",
        "  print(\"HEIGHT (cm) : {:.2f} :: HEIGHT (feet) : {:.2f} :: HEIGHT (inches) : {:.2f}\".format(h, f, i))\n",
        "\n",
        "if __name__ == \"__main__\":\n",
        "  main()"
      ],
      "execution_count": null,
      "outputs": [
        {
          "output_type": "stream",
          "name": "stdout",
          "text": [
            "HEIGHT (cm) : 10.00 :: HEIGHT (feet) : 0.33 :: HEIGHT (inches) : 3.94\n"
          ]
        }
      ]
    },
    {
      "cell_type": "markdown",
      "metadata": {
        "id": "4V6kRrHi90oD"
      },
      "source": [
        "### Python Program to Take the Temperature in Celcius and Covert it to Farenheit"
      ]
    },
    {
      "cell_type": "code",
      "metadata": {
        "colab": {
          "base_uri": "https://localhost:8080/"
        },
        "id": "71fqFU6Y91Xj",
        "outputId": "48e605b8-48b5-487f-d91d-f0988d2a3b11"
      },
      "source": [
        "tc = float(input(\"Enter TEMPERATURE (in Celcius): \"))"
      ],
      "execution_count": null,
      "outputs": [
        {
          "name": "stdout",
          "output_type": "stream",
          "text": [
            "Enter TEMPERATURE (in Celcius): 100\n"
          ]
        }
      ]
    },
    {
      "cell_type": "code",
      "metadata": {
        "id": "wABuUg6V91aa"
      },
      "source": [
        "def convert(tc):\n",
        "  return (tc*1.8) + 32"
      ],
      "execution_count": null,
      "outputs": []
    },
    {
      "cell_type": "code",
      "metadata": {
        "colab": {
          "base_uri": "https://localhost:8080/"
        },
        "id": "EbTtxjlb91d9",
        "outputId": "c227de22-e195-4669-a98a-c5c70dde840f"
      },
      "source": [
        "def main():\n",
        "  print(\"TEMPERATURE (C) : {:.2f} :: TEMPERATURE (F) : {:.2f}\".format(tc, convert(tc)))\n",
        "\n",
        "if __name__ == \"__main__\":\n",
        "  main()"
      ],
      "execution_count": null,
      "outputs": [
        {
          "output_type": "stream",
          "name": "stdout",
          "text": [
            "TEMPERATURE (C) : 100.00 :: TEMPERATURE (F) : 212.00\n"
          ]
        }
      ]
    },
    {
      "cell_type": "markdown",
      "metadata": {
        "id": "yEDpVkZUAC_o"
      },
      "source": [
        "### Python Program to Compute Prime Factors of an Integer"
      ]
    },
    {
      "cell_type": "code",
      "metadata": {
        "colab": {
          "base_uri": "https://localhost:8080/"
        },
        "id": "y0FAsUK9AD1D",
        "outputId": "c248fb76-a2d1-4e48-813d-cabdeed5890d"
      },
      "source": [
        "n = int(input(\"Enter an integer: \"))"
      ],
      "execution_count": null,
      "outputs": [
        {
          "name": "stdout",
          "output_type": "stream",
          "text": [
            "Enter an integer: 99\n"
          ]
        }
      ]
    },
    {
      "cell_type": "code",
      "metadata": {
        "id": "fiAjg9LCAD3u"
      },
      "source": [
        "def pf(n):\n",
        "  prime = [i for i in range(2, n)]\n",
        "  for i in prime:\n",
        "    for k in prime:\n",
        "      if((i!=k) and (k%i==0)):\n",
        "        prime.remove(k)\n",
        "    \n",
        "  fact = []\n",
        "  for i in prime:\n",
        "    if n%i==0:\n",
        "      fact.append(i)\n",
        "\n",
        "  return fact"
      ],
      "execution_count": null,
      "outputs": []
    },
    {
      "cell_type": "code",
      "metadata": {
        "colab": {
          "base_uri": "https://localhost:8080/"
        },
        "id": "0AhY4r3BAD7H",
        "outputId": "0a94846d-17ee-4c03-c845-92395b1ccf1c"
      },
      "source": [
        "def main():\n",
        "  print(\"PRIME FACTORS of {} : {}\".format(n, pf(n)))\n",
        "  \n",
        "if __name__ == \"__main__\":\n",
        "  main()"
      ],
      "execution_count": null,
      "outputs": [
        {
          "output_type": "stream",
          "name": "stdout",
          "text": [
            "PRIME FACTORS of 99 : [3, 11]\n"
          ]
        }
      ]
    },
    {
      "cell_type": "markdown",
      "metadata": {
        "id": "ggJqkIHbRIEH"
      },
      "source": [
        "### Python Program to Generate all the Divisors of an Integer"
      ]
    },
    {
      "cell_type": "code",
      "metadata": {
        "colab": {
          "base_uri": "https://localhost:8080/"
        },
        "id": "XFe0R90DROMc",
        "outputId": "995172c8-03f8-4389-8221-84050551ea90"
      },
      "source": [
        "n = int(input(\"Enter an Integer: \"))"
      ],
      "execution_count": null,
      "outputs": [
        {
          "name": "stdout",
          "output_type": "stream",
          "text": [
            "Enter an Integer: 50\n"
          ]
        }
      ]
    },
    {
      "cell_type": "code",
      "metadata": {
        "id": "f9rbAyw5ROPw"
      },
      "source": [
        "def divisor(n):\n",
        "  d = []\n",
        "  for i in range(1, n+1):\n",
        "    if (n%i == 0):\n",
        "      d.append(i)\n",
        "  \n",
        "  return d"
      ],
      "execution_count": null,
      "outputs": []
    },
    {
      "cell_type": "code",
      "metadata": {
        "colab": {
          "base_uri": "https://localhost:8080/"
        },
        "id": "dto3oM-cwuKM",
        "outputId": "25ac5f2a-1ba3-4946-cfc1-2806ac8784fe"
      },
      "source": [
        "def main():\n",
        "  print(\"List of DIVISOR of {} :: {}\".format(n, divisor(n)))\n",
        "\n",
        "if __name__ == \"__main__\":\n",
        "  main()"
      ],
      "execution_count": null,
      "outputs": [
        {
          "output_type": "stream",
          "name": "stdout",
          "text": [
            "List of DIVISOR of 50 : [1, 2, 5, 10, 25, 50]\n"
          ]
        }
      ]
    },
    {
      "cell_type": "markdown",
      "metadata": {
        "id": "gwkEvO3NyOTN"
      },
      "source": [
        "### Python Program to Print Table of a Given Number"
      ]
    },
    {
      "cell_type": "code",
      "metadata": {
        "colab": {
          "base_uri": "https://localhost:8080/"
        },
        "id": "lCmSBUAGyPJD",
        "outputId": "00354288-e409-4247-ef71-58c104b04f7f"
      },
      "source": [
        "n = int(input(\"Enter a NUMBER: \"))"
      ],
      "execution_count": null,
      "outputs": [
        {
          "name": "stdout",
          "output_type": "stream",
          "text": [
            "Enter a NUMBER: 10\n",
            "Enter TABLE FREQUENCY: 10\n"
          ]
        }
      ]
    },
    {
      "cell_type": "code",
      "metadata": {
        "id": "F_NHF-9gyPLi"
      },
      "source": [
        "def table(n, times):\n",
        "  table = []\n",
        "  for i in range(1, times+1):\n",
        "    table.append(n*i)\n",
        "  \n",
        "  return table"
      ],
      "execution_count": null,
      "outputs": []
    },
    {
      "cell_type": "code",
      "metadata": {
        "colab": {
          "base_uri": "https://localhost:8080/"
        },
        "id": "o7WpQFCyyPPI",
        "outputId": "ff678fd5-f696-48f8-b320-8769372852dd"
      },
      "source": [
        "def main():\n",
        "  print(\"TABLE of {} :: {}\".format(n, table(n, times)))\n",
        "\n",
        "if __name__ == \"__main__\":\n",
        "  main()"
      ],
      "execution_count": null,
      "outputs": [
        {
          "output_type": "stream",
          "name": "stdout",
          "text": [
            "TABLE of 10 :: [10, 20, 30, 40, 50, 60, 70, 80, 90, 100]\n"
          ]
        }
      ]
    },
    {
      "cell_type": "markdown",
      "metadata": {
        "id": "yVChrl_hXT0s"
      },
      "source": [
        "# List"
      ]
    },
    {
      "cell_type": "markdown",
      "metadata": {
        "id": "oJKof6Do0xw5"
      },
      "source": [
        "### Python Program to Print Sum of Negative Numbers, Positive Even Numbers and Positive Odd numbers in a List"
      ]
    },
    {
      "cell_type": "code",
      "metadata": {
        "colab": {
          "base_uri": "https://localhost:8080/"
        },
        "id": "0EyWdM370ys1",
        "outputId": "e1dd8a1e-b052-4ce6-e230-5a3d6830fa5f"
      },
      "source": [
        "n = input(\"Enter NEGATIVE, POSITIVE EVEN and POSITIVE ODD NUMBERS: \").split(\",\")\n",
        "n = [int(i.strip()) for i in n]"
      ],
      "execution_count": null,
      "outputs": [
        {
          "name": "stdout",
          "output_type": "stream",
          "text": [
            "Enter NEGATIVE, POSITIVE EVEN and POSITIVE ODD NUMBERS: 1, 2, 3\n"
          ]
        },
        {
          "output_type": "execute_result",
          "data": {
            "text/plain": [
              "['1', ' 2', ' 3']"
            ]
          },
          "metadata": {},
          "execution_count": 32
        }
      ]
    },
    {
      "cell_type": "code",
      "metadata": {
        "id": "4VdgApKQ0yvX"
      },
      "source": [
        "def sum(n):\n",
        "  nn = 0; pe = 0; po = 0;\n",
        "  for i in n:\n",
        "    if i < 0:\n",
        "      nn += i\n",
        "    if i > 0 and i%2 == 0:\n",
        "      pe += i\n",
        "    if i > 0 and i%2 != 0:\n",
        "      po += i\n",
        "    \n",
        "  return nn, pe, po"
      ],
      "execution_count": null,
      "outputs": []
    },
    {
      "cell_type": "code",
      "metadata": {
        "colab": {
          "base_uri": "https://localhost:8080/"
        },
        "id": "tDoKVEOI0yy6",
        "outputId": "fee22e9c-01c0-4d4c-fb2a-7b24bb9db238"
      },
      "source": [
        "def main():\n",
        "  nn, pe, po = sum(n)\n",
        "  print(\"In a LIST :: {}\\n\\nSUM of NEGATIVE NUMBERS      :: {}\\nSUM of POSITIVE EVEN NUMBERS :: {}\\nSUM of POSITIVE ODD NUMBERS  :: {}\\n\".format(n, nn, pe, po))\n",
        "\n",
        "if __name__ == \"__main__\":\n",
        "  main()"
      ],
      "execution_count": null,
      "outputs": [
        {
          "output_type": "stream",
          "name": "stdout",
          "text": [
            "In a LIST :: [1, 2, 3]\n",
            "\n",
            "SUM of NEGATIVE NUMBERS      :: 0\n",
            "SUM of POSITIVE EVEN NUMBERS :: 2\n",
            "SUM of POSITIVE ODD NUMBERS  :: 4\n",
            "\n"
          ]
        }
      ]
    },
    {
      "cell_type": "markdown",
      "metadata": {
        "id": "bZNx26_rAiaD"
      },
      "source": [
        "### Python Program to Print Largest Even and Largest Odd Number in a List"
      ]
    },
    {
      "cell_type": "code",
      "metadata": {
        "id": "nIrgneI2AjcS"
      },
      "source": [
        "def largest(num):\n",
        "  return sorted([i for i in num if(i%2==0)])[-1], sorted([i for i in num if(i%2!=0)])[-1]"
      ],
      "execution_count": null,
      "outputs": []
    },
    {
      "cell_type": "code",
      "metadata": {
        "id": "adyjkqiaAjfq",
        "colab": {
          "base_uri": "https://localhost:8080/"
        },
        "outputId": "b65f6248-1763-4a96-a6ec-33400754c774"
      },
      "source": [
        "def main():\n",
        "  num = [int(i) for i in input(\"Enter Numbers into List:\\n\").split(\" \")]\n",
        "  e, o = largest(num)\n",
        "  print(\"\\nLIST: {}\\nLargest Even: {}\\nLargest Odd : {}\".format(num, e, o))\n",
        "\n",
        "if __name__ == \"__main__\":\n",
        "  main()"
      ],
      "execution_count": null,
      "outputs": [
        {
          "output_type": "stream",
          "name": "stdout",
          "text": [
            "Enter Numbers into List:\n",
            "1 3 2 4 5\n",
            "\n",
            "LIST: [1, 3, 2, 4, 5]\n",
            "Largest Even: 4\n",
            "Largest Odd : 5\n"
          ]
        }
      ]
    },
    {
      "cell_type": "markdown",
      "source": [
        "### Python Program to Form an Integer that has the Number of Digits at Ten's Place and the Least Significant Digit of the Entered Integer at One's Place"
      ],
      "metadata": {
        "id": "N_mkUqagU7mB"
      }
    },
    {
      "cell_type": "code",
      "metadata": {
        "id": "81_tIkX-AjvO"
      },
      "source": [
        "def integer(n): \n",
        "  return str(len(n)) + str(n[-1])"
      ],
      "execution_count": null,
      "outputs": []
    },
    {
      "cell_type": "code",
      "source": [
        "def main():\n",
        "  n = input(\"Enter a Number: \")\n",
        "  print(\"\\nFormed Integer: {}\".format(integer(n)))\n",
        "\n",
        "if __name__ == \"__main__\":\n",
        "  main()"
      ],
      "metadata": {
        "colab": {
          "base_uri": "https://localhost:8080/"
        },
        "id": "Wj4WpjQEWAGX",
        "outputId": "212a5ce8-ce92-4edc-d2b5-08c0d50d1a20"
      },
      "execution_count": null,
      "outputs": [
        {
          "output_type": "stream",
          "name": "stdout",
          "text": [
            "Enter a Number: 45\n",
            "\n",
            "Formed Integer: 25\n"
          ]
        }
      ]
    },
    {
      "cell_type": "markdown",
      "source": [
        "### Python Program to Find Those Numbers which are Divisible by 7 and Multiple of 5 in a Given Range of Numbers"
      ],
      "metadata": {
        "id": "1lkzndLdXRrz"
      }
    },
    {
      "cell_type": "code",
      "source": [
        "def multiples(low, high):\n",
        "  return list(set([i for i in range(low, high+1) if(i%7==0)]) & set([i for i in range(low, high+1) if(i%5==0)] ))"
      ],
      "metadata": {
        "id": "4x5XO7AzXSv6"
      },
      "execution_count": null,
      "outputs": []
    },
    {
      "cell_type": "code",
      "source": [
        "def main():\n",
        "  print(\"Enter a RANGE:\\n\")\n",
        "  low = int(input(\"Enter Lower Range: \"))\n",
        "  high = int(input(\"Enter Higher Range: \"))\n",
        "  print(multiples(low, high))\n",
        "\n",
        "if __name__ == \"__main__\":\n",
        "  main()"
      ],
      "metadata": {
        "colab": {
          "base_uri": "https://localhost:8080/"
        },
        "id": "d8q1am5HXS6B",
        "outputId": "8b55530d-c8cf-40e2-b515-ca78a6a26be6"
      },
      "execution_count": null,
      "outputs": [
        {
          "output_type": "stream",
          "name": "stdout",
          "text": [
            "Enter a RANGE:\n",
            "\n",
            "Enter Lower Range: 1\n",
            "Enter Higher Range: 70\n",
            "[35, 70]\n"
          ]
        }
      ]
    },
    {
      "cell_type": "markdown",
      "source": [
        "### Python Program to Check if a Number is an Armstrong Number"
      ],
      "metadata": {
        "id": "uhGmjz_sbXT9"
      }
    },
    {
      "cell_type": "code",
      "source": [
        "def armstrong(n):\n",
        "  armstrong = 0\n",
        "  for i in n:\n",
        "    armstrong += int(i)**len(n)\n",
        "  \n",
        "  return armstrong == int(n)"
      ],
      "metadata": {
        "id": "0yDlJ5ZybjJM"
      },
      "execution_count": null,
      "outputs": []
    },
    {
      "cell_type": "code",
      "source": [
        "def main():\n",
        "  n = input(\"Enter a Number: \")\n",
        "  print(\"\\n{} is an ARMSTRONG NUMBER: {}\".format(n, armstrong(n)))\n",
        "  \n",
        "if __name__ == \"__main__\":\n",
        "  main()"
      ],
      "metadata": {
        "colab": {
          "base_uri": "https://localhost:8080/"
        },
        "id": "ifiaGNTQbjMq",
        "outputId": "baf9430e-965e-4e3e-f5cf-f2ca8159d48e"
      },
      "execution_count": null,
      "outputs": [
        {
          "output_type": "stream",
          "name": "stdout",
          "text": [
            "Enter a Number: 1634\n",
            "\n",
            "1634 is an ARMSTRONG NUMBER: True\n"
          ]
        }
      ]
    },
    {
      "cell_type": "markdown",
      "source": [
        "### Python Program to Print the Pascal's triangle for n number of rows given by the user"
      ],
      "metadata": {
        "id": "fFjGPJmWATS-"
      }
    },
    {
      "cell_type": "code",
      "source": [
        "def pascal(n):\n",
        "  for i in range(1, n+1):\n",
        "    for k in range(i):\n",
        "      print(i)\n",
        "    print(\"\\n\")"
      ],
      "metadata": {
        "id": "NhfljNYpAVC2"
      },
      "execution_count": null,
      "outputs": []
    },
    {
      "cell_type": "code",
      "source": [
        "def main():\n",
        "  n  = int(input(\"Enter Number of Rows: \"))\n",
        "  pascal(n)\n",
        "\n",
        "if __name__ == \"__main__\":\n",
        "  main()"
      ],
      "metadata": {
        "colab": {
          "base_uri": "https://localhost:8080/"
        },
        "id": "bR1g5fSDF7Br",
        "outputId": "5e523ee3-79a0-445a-fac3-355887a09417"
      },
      "execution_count": null,
      "outputs": [
        {
          "output_type": "stream",
          "name": "stdout",
          "text": [
            "Enter Number of Rows: 2\n",
            "1\n",
            "\n",
            "\n",
            "2\n",
            "2\n",
            "\n",
            "\n"
          ]
        }
      ]
    },
    {
      "cell_type": "markdown",
      "source": [
        "### Python Program to Check if a Number is a Perfect Number"
      ],
      "metadata": {
        "id": "yh-UV3qFHqLT"
      }
    },
    {
      "cell_type": "code",
      "source": [
        "def perfect(n):\n",
        "  sum = 0\n",
        "  for i in range(1, n):\n",
        "    if n%i==0:\n",
        "      sum += i\n",
        "  \n",
        "  return sum == n"
      ],
      "metadata": {
        "id": "peZax8WbHrMo"
      },
      "execution_count": null,
      "outputs": []
    },
    {
      "cell_type": "code",
      "source": [
        "def main():\n",
        "  n = int(input(\"Enter a Number: \"))\n",
        "  print(\"\\n{} is a PERFECT NUMBER: {}\".format(n, perfect(n)))\n",
        "\n",
        "if __name__ == \"__main__\":\n",
        "  main()"
      ],
      "metadata": {
        "colab": {
          "base_uri": "https://localhost:8080/"
        },
        "id": "DhiEoqDxHrRG",
        "outputId": "42ff9645-0080-4ff6-c46d-f93547ddd900"
      },
      "execution_count": null,
      "outputs": [
        {
          "output_type": "stream",
          "name": "stdout",
          "text": [
            "Enter a Number: 6\n",
            "\n",
            "6 is a PERFECT NUMBER: True\n"
          ]
        }
      ]
    },
    {
      "cell_type": "markdown",
      "source": [
        "### Python Program to Check if a Number is a Strong Number"
      ],
      "metadata": {
        "id": "HzZAmc72I9FC"
      }
    },
    {
      "cell_type": "code",
      "source": [
        "def factorial(n):\n",
        "  if n<=1:\n",
        "    return 1\n",
        "  else: \n",
        "    return n*factorial(n-1)\n",
        "  \n",
        "def strong(n):\n",
        "  m = n\n",
        "  sum = 0\n",
        "  while n!=0:\n",
        "    r = n%10\n",
        "    sum += factorial(r)\n",
        "    n = n//10\n",
        "  return sum == m"
      ],
      "metadata": {
        "id": "JYeUaVAcI-Kr"
      },
      "execution_count": null,
      "outputs": []
    },
    {
      "cell_type": "code",
      "source": [
        "def main():\n",
        "  n = int(input(\"Enter a Number: \"))\n",
        "  print(\"\\n{} is a STRONG NUMBER: {}\".format(n, strong(n)))\n",
        "  \n",
        "if __name__ == \"__main__\":\n",
        "  main()"
      ],
      "metadata": {
        "colab": {
          "base_uri": "https://localhost:8080/"
        },
        "id": "f3gOcvDeI-OE",
        "outputId": "e62bb5b3-7708-40e4-dcca-3e1363591906"
      },
      "execution_count": null,
      "outputs": [
        {
          "output_type": "stream",
          "name": "stdout",
          "text": [
            "Enter a Number: 1\n",
            "\n",
            "1 is a STRONG NUMBER: True\n"
          ]
        }
      ]
    },
    {
      "cell_type": "markdown",
      "source": [
        "### Python Program to Find the GCD of Two Numbers"
      ],
      "metadata": {
        "id": "qowz1CDKMk2d"
      }
    },
    {
      "cell_type": "code",
      "source": [
        "def gcd(m, n):\n",
        "  return list(set([int(i) for i in range(1, m+1) if m%i==0]) & set([int(i) for i in range(1, n+1) if n%i==0]))[-1]"
      ],
      "metadata": {
        "id": "in2s5FK5o2ok"
      },
      "execution_count": 23,
      "outputs": []
    },
    {
      "cell_type": "code",
      "source": [
        "def main():\n",
        "  m, n = [int(i) for i in input(\"Enter Two Numbers: \").split(\" \")]  \n",
        "  print(\"\\nGCD of {} and {}: {}\".format(m, n, gcd(m, n)))\n",
        "  \n",
        "if __name__ == \"__main__\":\n",
        "  main()"
      ],
      "metadata": {
        "colab": {
          "base_uri": "https://localhost:8080/"
        },
        "id": "vfCAh6I4o2s1",
        "outputId": "e725a8f3-64ac-4a40-be2c-6542b321929a"
      },
      "execution_count": 24,
      "outputs": [
        {
          "output_type": "stream",
          "name": "stdout",
          "text": [
            "Enter Two Numbers: 15 25\n",
            "\n",
            "GCD of 15 and 25: 5\n"
          ]
        }
      ]
    },
    {
      "cell_type": "markdown",
      "source": [
        "### Python Program to Find the LCM of Two Numbers"
      ],
      "metadata": {
        "id": "U9YZ0MICMg_u"
      }
    },
    {
      "cell_type": "code",
      "source": [
        "def lcm(m, n):\n",
        "  return int(abs(m*n)/ gcd(m, n))"
      ],
      "metadata": {
        "id": "_sT-5U1Ccbh8"
      },
      "execution_count": 25,
      "outputs": []
    },
    {
      "cell_type": "code",
      "source": [
        "def main():\n",
        "  m, n = [int(i) for i in input(\"Enter Two Numbers: \").split()]\n",
        "  print(\"\\nLCM of {} and {}: {}\".format(m, n, lcm(m, n)))\n",
        "\n",
        "if __name__==\"__main__\":\n",
        "  main()"
      ],
      "metadata": {
        "colab": {
          "base_uri": "https://localhost:8080/"
        },
        "id": "h380a3tQMhPB",
        "outputId": "361d54fe-bc95-4271-d265-f807564aa2f3"
      },
      "execution_count": 26,
      "outputs": [
        {
          "output_type": "stream",
          "name": "stdout",
          "text": [
            "Enter Two Numbers: 15 25\n",
            "\n",
            "LCM of 15 and 25: 75\n"
          ]
        }
      ]
    },
    {
      "cell_type": "markdown",
      "source": [
        "### Python Program to Compute a Polynomial Equation given that the Coefficients of the Polynomial are stored in a List"
      ],
      "metadata": {
        "id": "Yj264YAuunPL"
      }
    },
    {
      "cell_type": "code",
      "source": [
        "def main():\n",
        "  n = int(input(\"Enter the Degree of Polynomial Equation: \"))\n",
        "  var = \"x\"\n",
        "  add = \" + \"\n",
        "  eqn = \"\"\n",
        "  for i in range(n, -1, -1):\n",
        "    if 3<i<10:\n",
        "      pow = str(i)\n",
        "      print(\"\\n\", pow + \"th\")\n",
        "      coeff = int(input(\"Enter Coefficient: \"))\n",
        "      eqn = eqn + str(coeff) + \"*\" + var + pow + add\n",
        "      print(eqn)\n",
        "    elif i==1:\n",
        "      pow = str(i)\n",
        "      print(\"\\n\", pow + \"st\")\n",
        "      coeff = int(input(\"Enter Coefficient: \"))\n",
        "      eqn = eqn + str(coeff) + \"*\" + var + pow + add\n",
        "      print(eqn)\n",
        "    elif i==2:\n",
        "      pow = str(i)\n",
        "      print(\"\\n\", pow + \"nd\")\n",
        "      coeff = int(input(\"Enter Coefficient: \"))\n",
        "      eqn = eqn + str(coeff) + \"*\" + var + pow + add\n",
        "      print(eqn)\n",
        "    elif i==3:\n",
        "      pow = str(i)\n",
        "      print(\"\\n\", pow + \"rd\")\n",
        "      coeff = int(input(\"Enter Coefficient: \"))\n",
        "      eqn = eqn + str(coeff) + \"*\" + var + pow + add\n",
        "      print(eqn)\n",
        "    elif i==0:\n",
        "      pow = str(i)\n",
        "      print(\"\\n\", pow + \"th\")\n",
        "      coeff = int(input(\"Enter Coefficient: \"))\n",
        "      eqn = eqn + str(coeff) #4+ \"*\" + var + pow\n",
        "      print(eqn)\n",
        "\n",
        "  print(\"\\n\\nPOLYNOMIAL EQUATION: {}\".format(eqn))\n",
        "\n",
        "if __name__==\"__main__\":\n",
        "  main()"
      ],
      "metadata": {
        "colab": {
          "base_uri": "https://localhost:8080/"
        },
        "id": "k8ncGo_BMlG3",
        "outputId": "e990e50b-c33d-4a8f-a3a7-89cb0eaed42a"
      },
      "execution_count": null,
      "outputs": [
        {
          "output_type": "stream",
          "name": "stdout",
          "text": [
            "Enter the Degree of Polynomial Equation: 4\n",
            "\n",
            " 4th\n",
            "Enter Coefficient: 1\n",
            "1*x4 + \n",
            "\n",
            " 3rd\n",
            "Enter Coefficient: 2\n",
            "1*x4 + 2*x3 + \n",
            "\n",
            " 2nd\n",
            "Enter Coefficient: 3\n",
            "1*x4 + 2*x3 + 3*x2 + \n",
            "\n",
            " 1st\n",
            "Enter Coefficient: 4\n",
            "1*x4 + 2*x3 + 3*x2 + 4*x1 + \n",
            "\n",
            " 0th\n",
            "Enter Coefficient: 5\n",
            "1*x4 + 2*x3 + 3*x2 + 4*x1 + 5\n",
            "\n",
            "\n",
            "POLYNOMIAL EQUATION: 1*x4 + 2*x3 + 3*x2 + 4*x1 + 5\n"
          ]
        }
      ]
    },
    {
      "cell_type": "markdown",
      "source": [
        "### Python Program to Check If Two Numbers are Amicable Numbers"
      ],
      "metadata": {
        "id": "fSMGEJvf_Y_a"
      }
    },
    {
      "cell_type": "code",
      "source": [
        "def amicable(m, n):\n",
        "  return sum([int(i) for i in range(1, m) if(m%i==0)]), sum([int(i) for i in range(1, n) if(n%i==0)])"
      ],
      "metadata": {
        "id": "myYzN27g_Z3y"
      },
      "execution_count": null,
      "outputs": []
    },
    {
      "cell_type": "code",
      "source": [
        "def main():\n",
        "  m, n = [int(i) for i in input(\"Enter Two Numbers: \").split()]\n",
        "  print(\"\\nNumbers: {} and {} Amicable: {}\".format(m, n, amicable(m, n)[0] == n and amicable(m, n)[1] == m))  \n",
        "  \n",
        "if __name__ == \"__main__\":\n",
        "  main()"
      ],
      "metadata": {
        "colab": {
          "base_uri": "https://localhost:8080/"
        },
        "id": "i3fLbEqv_Z7g",
        "outputId": "dde95817-cacd-43ee-f34b-4cb5b4e56ef7"
      },
      "execution_count": null,
      "outputs": [
        {
          "output_type": "stream",
          "name": "stdout",
          "text": [
            "Enter Two Numbers: 220 284\n",
            "\n",
            "Numbers: 220 and 284 Amicable: True\n"
          ]
        }
      ]
    },
    {
      "cell_type": "markdown",
      "source": [
        "### Python Program to Find the Area of a Triangle Given All Three Sides"
      ],
      "metadata": {
        "id": "w-vhg2o-Dtr0"
      }
    },
    {
      "cell_type": "code",
      "source": [
        "def area(a, b, c):\n",
        "  s = (a+b+c)/2\n",
        "  return (s*(s-a)*(s-b)*(s-c))**(1/2)"
      ],
      "metadata": {
        "id": "pi1wgxDRDyKp"
      },
      "execution_count": null,
      "outputs": []
    },
    {
      "cell_type": "code",
      "source": [
        "def main():\n",
        "  a, b, c = [int(i) for i in input(\"Enter of Sides of Triangle: \").split()]\n",
        "  print(\"\\nArea of Traingle: {}\".format(area(a, b, c)))\n",
        "\n",
        "if __name__ == \"__main__\":\n",
        "  main()"
      ],
      "metadata": {
        "colab": {
          "base_uri": "https://localhost:8080/"
        },
        "id": "DIQE05KbDyXP",
        "outputId": "77583cda-b146-4548-85af-b7171e257bcd"
      },
      "execution_count": null,
      "outputs": [
        {
          "output_type": "stream",
          "name": "stdout",
          "text": [
            "Enter of Sides of Triangle: 8 3 9\n",
            "\n",
            "Area of Traingle: 11.832159566199232\n"
          ]
        }
      ]
    },
    {
      "cell_type": "markdown",
      "source": [
        "### Python Program to Check if a Number is a Prime Number\n"
      ],
      "metadata": {
        "id": "zcFmN_YhHhxQ"
      }
    },
    {
      "cell_type": "code",
      "source": [
        "def prime(n):\n",
        "  for i in range(2, int(n**(1/2)+1)):\n",
        "    if n%i==0:\n",
        "      return \"NOT PRIME\"\n",
        "    return \"PRIME\""
      ],
      "metadata": {
        "colab": {
          "base_uri": "https://localhost:8080/",
          "height": 36
        },
        "id": "MA_iKA-BHioZ",
        "outputId": "57d999e1-f04b-4339-fa50-4b426c639f6e"
      },
      "execution_count": null,
      "outputs": [
        {
          "output_type": "execute_result",
          "data": {
            "application/vnd.google.colaboratory.intrinsic+json": {
              "type": "string"
            },
            "text/plain": [
              "'PRIME'"
            ]
          },
          "metadata": {},
          "execution_count": 96
        }
      ]
    },
    {
      "cell_type": "code",
      "source": [
        "def main():\n",
        "  n = int(input(\"Enter a Number: \"))\n",
        "  print(\"\\n{} is a {} NUMBER\".format(n, prime(n)))  \n",
        "  \n",
        "if __name__ == \"__main__\":\n",
        "  main()"
      ],
      "metadata": {
        "colab": {
          "base_uri": "https://localhost:8080/"
        },
        "id": "BK9t_El5Hir4",
        "outputId": "09bd7d94-2d50-4a34-d5e7-64a0d8a95c86"
      },
      "execution_count": null,
      "outputs": [
        {
          "output_type": "stream",
          "name": "stdout",
          "text": [
            "Enter a Number: 97\n",
            "\n",
            "97 is a PRIME NUMBER\n"
          ]
        }
      ]
    },
    {
      "cell_type": "markdown",
      "source": [
        "### Python Program to Print all the Prime Numbers within a Given Range"
      ],
      "metadata": {
        "id": "CEIdFy6wHkjB"
      }
    },
    {
      "cell_type": "code",
      "source": [
        "def prime(n, m):\n",
        "  num = []\n",
        "  for i in range(int(n**(1/2)), int(m**(1/2)+1)):\n",
        "    num.append(i)\n",
        "  return num"
      ],
      "metadata": {
        "id": "obOaLQa5HlGu"
      },
      "execution_count": null,
      "outputs": []
    },
    {
      "cell_type": "code",
      "source": [
        "def main():\n",
        "  n, m = [int(i) for i in input(\"Enter a Range: \").split()]\n",
        "  print(\"\\nPRIME NUMBER: {}\".format(prime(n, m)))  \n",
        "  \n",
        "if __name__ == \"__main__\":\n",
        "  main()"
      ],
      "metadata": {
        "colab": {
          "base_uri": "https://localhost:8080/"
        },
        "id": "xKfHnvrgHlKG",
        "outputId": "595268d7-cb81-480f-caed-2f6db4b40f15"
      },
      "execution_count": null,
      "outputs": [
        {
          "output_type": "stream",
          "name": "stdout",
          "text": [
            "Enter a Range: 4 100\n",
            "\n",
            "PRIME NUMBER: [2, 3, 4, 5, 6, 7, 8, 9, 10]\n"
          ]
        }
      ]
    },
    {
      "cell_type": "markdown",
      "source": [
        "### Python Program to Print Numbers in a Range (1,upper) Without Using any Loops"
      ],
      "metadata": {
        "id": "Ua-0oCPHHnxX"
      }
    },
    {
      "cell_type": "code",
      "source": [
        "def num(n, m):\n",
        "    return list(range(n, m))"
      ],
      "metadata": {
        "id": "0xmNs5OgHoXt"
      },
      "execution_count": null,
      "outputs": []
    },
    {
      "cell_type": "code",
      "source": [
        "def main():\n",
        "    n, m = [int(i) for i in input(\"Enter a Lower and Upper Limit Numbers of a Range: \\t\").split()]\n",
        "    print(\"Numbers in Range({}, {}): {}\".format(n, m, num(n, m)))\n",
        "\n",
        "if __name__ == \"__main__\":\n",
        "    main()"
      ],
      "metadata": {
        "id": "Kug0VWzIHobE",
        "colab": {
          "base_uri": "https://localhost:8080/"
        },
        "outputId": "1ffe538f-d92e-403c-c77a-08d43d04aeb6"
      },
      "execution_count": null,
      "outputs": [
        {
          "output_type": "stream",
          "name": "stdout",
          "text": [
            "Enter a Lower and Upper Limit Numbers of a Range: \t1 50\n",
            "Numbers in Range(1, 50): [1, 2, 3, 4, 5, 6, 7, 8, 9, 10, 11, 12, 13, 14, 15, 16, 17, 18, 19, 20, 21, 22, 23, 24, 25, 26, 27, 28, 29, 30, 31, 32, 33, 34, 35, 36, 37, 38, 39, 40, 41, 42, 43, 44, 45, 46, 47, 48, 49]\n"
          ]
        }
      ]
    },
    {
      "cell_type": "markdown",
      "source": [
        "### Python Program to Find the Sum of Sine Series"
      ],
      "metadata": {
        "id": "PGYOhBUKa3X1"
      }
    },
    {
      "cell_type": "code",
      "source": [
        "def sine(x, n, r):\n",
        "  sum = 0\n",
        "  for i in range(n):\n",
        "    s = (-1)**i\n",
        "    p = x**(2*i+1)\n",
        "    f = factorial(2*i+1)\n",
        "    sum += s*p/f\n",
        "  \n",
        "  return round(sum, r)"
      ],
      "metadata": {
        "id": "-AOg0nNOa66a"
      },
      "execution_count": null,
      "outputs": []
    },
    {
      "cell_type": "code",
      "source": [
        "def main():\n",
        "  x = int(input(\"Enter x: \"))\n",
        "  n = int(input(\"Set Max-Iterations: \"))\n",
        "  r = int(input(\"Desired Decimal Round-Off: \"))\n",
        "  print(\"\\nSum of SINE Series (x, n): {}\".format(sine(x, n, r)))\n",
        "\n",
        "if __name__==\"__main__\":\n",
        "  main()"
      ],
      "metadata": {
        "colab": {
          "base_uri": "https://localhost:8080/"
        },
        "id": "b8uVy0Lga69y",
        "outputId": "dac369ac-006b-4c33-b4b1-14cbc4ba29b0"
      },
      "execution_count": null,
      "outputs": [
        {
          "output_type": "stream",
          "name": "stdout",
          "text": [
            "Enter x: 1\n",
            "Set Max-Iterations: 100\n",
            "Desired Decimal Round-Off: 5\n",
            "\n",
            "Sum of SINE Series (x, n): 0.84147\n"
          ]
        }
      ]
    },
    {
      "cell_type": "markdown",
      "source": [
        "### Python Program to Find the Sum of Cosine Series"
      ],
      "metadata": {
        "id": "eetNqK35nZWd"
      }
    },
    {
      "cell_type": "code",
      "source": [
        "def cosine(x, n, r):\n",
        "  sum = 0\n",
        "  for i in range(n):\n",
        "    s = (-1)**i\n",
        "    p = x**(2*i)\n",
        "    f = factorial(2*i)\n",
        "    sum += s*p/f\n",
        "  \n",
        "  return round(sum, r)"
      ],
      "metadata": {
        "id": "SZA7UYypnW9Z"
      },
      "execution_count": null,
      "outputs": []
    },
    {
      "cell_type": "code",
      "source": [
        "def main():\n",
        "  x = int(input(\"Enter x: \"))\n",
        "  n = int(input(\"Set Max-Iterations: \"))\n",
        "  r = int(input(\"Desired Decimal Round-Off: \"))\n",
        "  print(\"\\nSum of COSINE Series (x, n): {}\".format(cosine(x, n, r)))\n",
        "\n",
        "if __name__==\"__main__\":\n",
        "  main()"
      ],
      "metadata": {
        "colab": {
          "base_uri": "https://localhost:8080/"
        },
        "outputId": "1a368af8-b710-4200-ec1d-017ebd528aa2",
        "id": "d3gzbXNGnW9a"
      },
      "execution_count": null,
      "outputs": [
        {
          "output_type": "stream",
          "name": "stdout",
          "text": [
            "Enter x: 1\n",
            "Set Max-Iterations: 2\n",
            "Desired Decimal Round-Off: 5\n",
            "\n",
            "Sum of COSINE Series (x, n): 0.5\n"
          ]
        }
      ]
    },
    {
      "cell_type": "markdown",
      "source": [
        "### Python Program to Find the Sum of First N Natural Numbers"
      ],
      "metadata": {
        "id": "0geQLgoRny5c"
      }
    },
    {
      "cell_type": "code",
      "source": [
        "def sum(n):\n",
        "  sum = 0\n",
        "  for i in range(1, n+1):\n",
        "    sum+=i\n",
        "  \n",
        "  return sum"
      ],
      "metadata": {
        "id": "heEFWt3Znzh3"
      },
      "execution_count": null,
      "outputs": []
    },
    {
      "cell_type": "code",
      "source": [
        "def main():\n",
        "  n = int(input(\"Enter n: \"))\n",
        "  print(\"\\nSUM of FIRST {} NATURAL NUMBERS: {}\".format(n, sum(n)))\n",
        "\n",
        "if __name__ == \"__main__\":\n",
        "  main()"
      ],
      "metadata": {
        "colab": {
          "base_uri": "https://localhost:8080/"
        },
        "id": "4nu6PFKznznf",
        "outputId": "4fc47b8a-2178-48a7-d8ea-b6d282e2acde"
      },
      "execution_count": null,
      "outputs": [
        {
          "output_type": "stream",
          "name": "stdout",
          "text": [
            "Enter n: 10\n",
            "\n",
            "SUM of FIRST 10 NATURAL NUMBERS: 55\n"
          ]
        }
      ]
    },
    {
      "cell_type": "markdown",
      "source": [
        "### Python Program to Find the Sum of the Series: 1 + 1/2 + 1/3 + ….. + 1/N"
      ],
      "metadata": {
        "id": "Xv7PliWgov3Y"
      }
    },
    {
      "cell_type": "code",
      "source": [
        "def series(n):\n",
        "  sum = 0\n",
        "  for i in range(1, n+1):\n",
        "    sum+= 1/i\n",
        "\n",
        "  return sum"
      ],
      "metadata": {
        "id": "06iTpatwowgq"
      },
      "execution_count": null,
      "outputs": []
    },
    {
      "cell_type": "code",
      "source": [
        "def main():\n",
        "  n = int(input(\"Enter N: \"))\n",
        "  print(\"\\nSUM of SERIES: {}\".format(series(n)))\n",
        "\n",
        "if __name__ == \"__main__\":\n",
        "  main()"
      ],
      "metadata": {
        "colab": {
          "base_uri": "https://localhost:8080/"
        },
        "id": "G7d_cFBnowkF",
        "outputId": "4ead2703-2a4e-4ec6-f5f0-bd453663998f"
      },
      "execution_count": null,
      "outputs": [
        {
          "output_type": "stream",
          "name": "stdout",
          "text": [
            "Enter N: 2\n",
            "\n",
            "SUM of SERIES: 1.5\n"
          ]
        }
      ]
    },
    {
      "cell_type": "markdown",
      "source": [
        "### Python Program to Find the Sum of the Series: 1 + x^2/2 + x^3/3 + … x^n/n"
      ],
      "metadata": {
        "id": "7Igwssnepa67"
      }
    },
    {
      "cell_type": "code",
      "source": [
        "def series(x, n):\n",
        "  sum = 0\n",
        "  for i in range(2, n+1):\n",
        "    sum += (x**i)/i\n",
        "\n",
        "  return sum + 1"
      ],
      "metadata": {
        "id": "xgw1bQPupccT"
      },
      "execution_count": null,
      "outputs": []
    },
    {
      "cell_type": "code",
      "source": [
        "def main():\n",
        "  x = int(input(\"Enter x: \"))\n",
        "  n = int(input(\"Enter n: \"))\n",
        "  print(\"\\nSUM of SERIES: {}\".format(series(x, n)))\n",
        "\n",
        "if __name__ == \"__main__\":\n",
        "  main()"
      ],
      "metadata": {
        "colab": {
          "base_uri": "https://localhost:8080/"
        },
        "id": "GcLHahttpv44",
        "outputId": "55894bac-e5a5-4d47-d6f3-02b6653f3a35"
      },
      "execution_count": null,
      "outputs": [
        {
          "output_type": "stream",
          "name": "stdout",
          "text": [
            "Enter x: 2\n",
            "Enter n: 2\n",
            "\n",
            "SUM of SERIES: 3.0\n"
          ]
        }
      ]
    },
    {
      "cell_type": "markdown",
      "source": [
        "### Python Program to Compute the Value of Euler's Number e. Use the Formula: e = 1 + 1/1! + 1/2! + …… 1/n!"
      ],
      "metadata": {
        "id": "JpzE4TA0qote"
      }
    },
    {
      "cell_type": "code",
      "source": [
        "def euler(n):\n",
        "  sum = 0\n",
        "  for i in range(1, n+1):\n",
        "    sum += 1/factorial(i)\n",
        "\n",
        "  return sum + 1"
      ],
      "metadata": {
        "id": "NqO78ND3qpXa"
      },
      "execution_count": null,
      "outputs": []
    },
    {
      "cell_type": "code",
      "source": [
        "def main():\n",
        "  n = int(input(\"Enter n: \"))\n",
        "  print(\"\\nValue of Euler's Number e: {}\".format(euler(n)))\n",
        "\n",
        "if __name__ == \"__main__\":\n",
        "  main()"
      ],
      "metadata": {
        "colab": {
          "base_uri": "https://localhost:8080/"
        },
        "id": "rGGj0kCpqpa_",
        "outputId": "ac8aef22-380f-4dff-f058-c6561f36937d"
      },
      "execution_count": null,
      "outputs": [
        {
          "output_type": "stream",
          "name": "stdout",
          "text": [
            "Enter n: 2\n",
            "\n",
            "Value of Euler's Number e: 2.5\n"
          ]
        }
      ]
    },
    {
      "cell_type": "code",
      "metadata": {
        "id": "b6RFr6Crb-cD"
      },
      "source": [
        "Python Program to Determine all Pythagorean Triplets in the Range\n",
        "Python Program to Search the Number of Times a Particular Number Occurs in a List\n",
        "Python Program to test Collatz Conjecture for a Given Number\n",
        "Python Program to Count Set Bits in a Number\n",
        "Python Program to Find Whether a Number is a Power of Two\n",
        "Python Program to Clear the Rightmost Set Bit of a Number\n",
        "Python Program to Generate Gray Codes using Recursion\n",
        "Python Program to Convert Gray Code to Binary\n",
        "Python Program to Convert Binary to Gray Code"
      ],
      "execution_count": null,
      "outputs": []
    },
    {
      "cell_type": "code",
      "metadata": {
        "id": "NeuMj6GQcBy4"
      },
      "source": [
        "Python Program to Find the Largest Number in a List\n",
        "Python Program to Find the Second Largest Number in a List\n",
        "Python Program to Put Even and Odd elements in a List into Two Different Lists\n",
        "Python Program to Merge Two Lists and Sort it\n",
        "Python Program to Sort the List According to the Second Element in Sublist\n",
        "Python Program to Find the Second Largest Number in a List Using Bubble Sort\n",
        "Python Program to Sort a List According to the Length of the Elements\n",
        "Python Program to Find the Union of two Lists\n",
        "Python Program to Find the Intersection of Two Lists\n",
        "Python Program to Create a List of Tuples with the First Element as the Number and Second Element as the Square of the Number\n",
        "Python Program to Find all Numbers in a Range which are Perfect Squares and Sum of all Digits in the Number is Less than 10\n",
        "Python Program to Find the Cumulative Sum of a List where the ith Element is the Sum of the First i+1 Elements From The Original List\n",
        "Python Program to Generate Random Numbers from 1 to 20 and Append Them to the List\n",
        "Python program to Sort a List of Tuples in Increasing Order by the Last Element in Each Tuple\n",
        "Python Program to Swap the First and Last Value of a List\n",
        "Python Program to Remove the Duplicate Items from a List\n",
        "Python Program to Read a List of Words and Return the Length of the Longest One\n",
        "Python Program to Remove the ith Occurrence of the Given Word in a List where Words can Repeat\n",
        "Python Program to Remove All Tuples in a List of Tuples with the USN Outside the Given Range\n",
        "Python Program to solve Maximum Subarray Problem using Divide and Conquer\n",
        "Python Program to solve Maximum Subarray Problem using Kadane’s Algorithm\n",
        "Python Program to Find Element Occurring Odd Number of Times in a List"
      ],
      "execution_count": null,
      "outputs": []
    },
    {
      "cell_type": "markdown",
      "metadata": {
        "id": "-ZAhxHFoXXHJ"
      },
      "source": [
        "# String"
      ]
    },
    {
      "cell_type": "markdown",
      "source": [
        "### Python Program to Replace all Occurrences of ‘a’ with $ in a String"
      ],
      "metadata": {
        "id": "1qh_O3Rdqvl9"
      }
    },
    {
      "cell_type": "code",
      "source": [
        "def replace(s):\n",
        "  return s.replace('a', '$')"
      ],
      "metadata": {
        "id": "oocxcmWEsQn_"
      },
      "execution_count": null,
      "outputs": []
    },
    {
      "cell_type": "code",
      "source": [
        "def main():\n",
        "  s = str(input(\"Enter a String (must contain a): \"))\n",
        "  print(\"\\nORIGINAL STRING: {}\\nREPLACED STRING: {}\".format(s, replace(s)))\n",
        "\n",
        "if __name__ == \"__main__\":\n",
        "  main()"
      ],
      "metadata": {
        "colab": {
          "base_uri": "https://localhost:8080/"
        },
        "id": "K03c7wgGqt13",
        "outputId": "ad124475-c274-4b7f-fba2-c7f6b4df29f0"
      },
      "execution_count": null,
      "outputs": [
        {
          "output_type": "stream",
          "name": "stdout",
          "text": [
            "Enter a String (must contain a): Stringaaa\n",
            "\n",
            "ORIGINAL STRING: Stringaaa\n",
            "REPLACED STRING: String$$$\n"
          ]
        }
      ]
    },
    {
      "cell_type": "markdown",
      "source": [
        "### Python Program to Remove the nth Index Character from a Non-Empty String"
      ],
      "metadata": {
        "id": "rksmAmijqydw"
      }
    },
    {
      "cell_type": "code",
      "source": [
        "def remove(s, n):\n",
        "  return s[:n-1]+s[n:]"
      ],
      "metadata": {
        "id": "0f9dnmTRtR03"
      },
      "execution_count": null,
      "outputs": []
    },
    {
      "cell_type": "code",
      "source": [
        "def main():\n",
        "  s = input(\"Enter a String: \")\n",
        "  n = int(input(\"Enter Position to Remove a Character: \"))\n",
        "  print(\"\\nORIGINAL STRING: {}\\nEDITED STRING: {}\".format(s, remove(s, n)))\n",
        "\n",
        "if __name__ == \"__main__\":\n",
        "  main()"
      ],
      "metadata": {
        "colab": {
          "base_uri": "https://localhost:8080/"
        },
        "id": "_QYfS21mqu3b",
        "outputId": "9a040a02-ca73-49c4-b257-8d782da1c662"
      },
      "execution_count": null,
      "outputs": [
        {
          "output_type": "stream",
          "name": "stdout",
          "text": [
            "Enter a String: Happy\n",
            "Enter Position to Remove a Character: 2\n",
            "\n",
            "ORIGINAL STRING: Happy\n",
            "EDITED STRING: Hppy\n"
          ]
        }
      ]
    },
    {
      "cell_type": "markdown",
      "source": [
        "### Python Program to Detect if Two Strings are Anagrams"
      ],
      "metadata": {
        "id": "hQUv9swnq1bz"
      }
    },
    {
      "cell_type": "code",
      "source": [
        "def anagrams(a, b):\n",
        "  return sorted(list(a)) == sorted(list(b))"
      ],
      "metadata": {
        "id": "zGhuh6bfwgG7"
      },
      "execution_count": null,
      "outputs": []
    },
    {
      "cell_type": "code",
      "source": [
        "def main():\n",
        "  a, b = [i for i in input(\"Enter 2 String: \").split()]\n",
        "  print('\\nSTRING 1: {}: \\nSTRING 2: {}\\n\\nANAFRAMS: {}'.format(a, b, anagrams(a, b)))\n",
        "\n",
        "if __name__ == \"__main__\":\n",
        "  main()"
      ],
      "metadata": {
        "colab": {
          "base_uri": "https://localhost:8080/"
        },
        "id": "DtdOytBhqu52",
        "outputId": "8ebeaef6-310c-47f8-bf87-4592452f3f8e"
      },
      "execution_count": null,
      "outputs": [
        {
          "output_type": "stream",
          "name": "stdout",
          "text": [
            "Enter 2 String: abc bca\n",
            "\n",
            "STRING 1: abc: \n",
            "STRING 2: bca\n",
            "\n",
            "ANAFRAMS: True\n"
          ]
        }
      ]
    },
    {
      "cell_type": "markdown",
      "source": [
        "### Python Program to Form a New String where the First Character and the Last Character have been Exchanged"
      ],
      "metadata": {
        "id": "7AiyLhbGq4Or"
      }
    },
    {
      "cell_type": "code",
      "source": [
        "def replace(s):\n",
        "  return s[-1] + s[1:-1] + s[0]"
      ],
      "metadata": {
        "id": "ezhEs2dqqu9d"
      },
      "execution_count": null,
      "outputs": []
    },
    {
      "cell_type": "code",
      "source": [
        "def main():\n",
        "  s = input('Enter a String: ')\n",
        "  print(\"\\nORIGINAL STRING: {}\\nEXCHANGED STRING: {}\".format(s, replace(s)))\n",
        "\n",
        "if __name__ == \"__main__\":\n",
        "  main()"
      ],
      "metadata": {
        "colab": {
          "base_uri": "https://localhost:8080/"
        },
        "id": "mJVUdV5m1Mqf",
        "outputId": "7531c094-ea03-473c-872d-f0f652bdc1bc"
      },
      "execution_count": null,
      "outputs": [
        {
          "output_type": "stream",
          "name": "stdout",
          "text": [
            "Enter a String: First\n",
            "\n",
            "ORIGINAL STRING: First\n",
            "EXCHANGED STRING: tirsF\n"
          ]
        }
      ]
    },
    {
      "cell_type": "markdown",
      "source": [
        "### Python Program to Count the Number of Vowels in a String"
      ],
      "metadata": {
        "id": "y8u9R78fq7Zc"
      }
    },
    {
      "cell_type": "code",
      "source": [
        "def vowels(s):\n",
        "  return len(list(set(list(s)) & set(list('aeiou'))))"
      ],
      "metadata": {
        "id": "FMU7cDVuq7m2"
      },
      "execution_count": null,
      "outputs": []
    },
    {
      "cell_type": "code",
      "source": [
        "def main():\n",
        "  s = input(\"Enter a String: \")\n",
        "  print(\"\\nSTRING: {}\\nVOWELS Count: {}\".format(s, vowels(s)))\n",
        "\n",
        "if __name__ == \"__main__\":\n",
        "  main()"
      ],
      "metadata": {
        "colab": {
          "base_uri": "https://localhost:8080/"
        },
        "id": "IqyzrvV42E11",
        "outputId": "653ee30d-bd33-4240-dd3f-35986c20b54f"
      },
      "execution_count": null,
      "outputs": [
        {
          "output_type": "stream",
          "name": "stdout",
          "text": [
            "Enter a String: aeio\n",
            "\n",
            "STRING: aeio\n",
            "VOWELS Count: 4\n"
          ]
        }
      ]
    },
    {
      "cell_type": "markdown",
      "source": [
        "### Python Program to Take in a String and Replace Every Blank Space with Hyphen"
      ],
      "metadata": {
        "id": "aNVglWHnq71n"
      }
    },
    {
      "cell_type": "code",
      "source": [
        "def replace(s):\n",
        "  return s.replace(' ', '-')"
      ],
      "metadata": {
        "id": "G58JG8AW5VlY"
      },
      "execution_count": null,
      "outputs": []
    },
    {
      "cell_type": "code",
      "source": [
        "def main():\n",
        "  s = str(input(\"Enter a String (must contain a): \"))\n",
        "  print(\"\\nORIGINAL STRING: {}\\nREPLACED STRING: {}\".format(s, replace(s)))\n",
        "\n",
        "if __name__ == \"__main__\":\n",
        "  main()"
      ],
      "metadata": {
        "colab": {
          "base_uri": "https://localhost:8080/"
        },
        "outputId": "0c61b43e-454c-41a1-c871-e4a9be8840a5",
        "id": "UyeZc8rB5VlZ"
      },
      "execution_count": null,
      "outputs": [
        {
          "output_type": "stream",
          "name": "stdout",
          "text": [
            "Enter a String (must contain a): a b c\n",
            "\n",
            "ORIGINAL STRING: a b c\n",
            "REPLACED STRING: a-b-c\n"
          ]
        }
      ]
    },
    {
      "cell_type": "markdown",
      "source": [
        "### Python Program to Remove the Characters of Odd Index Values in a String"
      ],
      "metadata": {
        "id": "rWM16DsjrEwF"
      }
    },
    {
      "cell_type": "code",
      "source": [
        "def remove(s):\n",
        "  return \"\".join(list(s)[1::2])"
      ],
      "metadata": {
        "id": "mBGacsro66B0"
      },
      "execution_count": null,
      "outputs": []
    },
    {
      "cell_type": "code",
      "source": [
        "def main():\n",
        "  s = str(input(\"Enter a String (must contain a): \"))\n",
        "  print(\"\\nORIGINAL STRING: {}\\nEDITED STRING: {}\".format(s, remove(s)))\n",
        "\n",
        "if __name__ == \"__main__\":\n",
        "  main()"
      ],
      "metadata": {
        "colab": {
          "base_uri": "https://localhost:8080/"
        },
        "outputId": "acb2a71a-dd6b-4433-d793-3dd3e2b64755",
        "id": "oYnwxtvZ66B0"
      },
      "execution_count": null,
      "outputs": [
        {
          "output_type": "stream",
          "name": "stdout",
          "text": [
            "Enter a String (must contain a): abcdefghij\n",
            "\n",
            "ORIGINAL STRING: abcdefghij\n",
            "EDITED STRING: bdfhj\n"
          ]
        }
      ]
    },
    {
      "cell_type": "markdown",
      "source": [
        "### Python Program to Calculate the Number of Words and the Number of Characters Present in a String"
      ],
      "metadata": {
        "id": "IJ4UmdYqrIXu"
      }
    },
    {
      "cell_type": "code",
      "source": [
        "def count(s):\n",
        "  return len(list(s.split())), len(list(s))"
      ],
      "metadata": {
        "id": "qHZmk1HVMnym"
      },
      "execution_count": null,
      "outputs": []
    },
    {
      "cell_type": "code",
      "source": [
        "def main():\n",
        "  s = input(\"Enter a Sentence: \")\n",
        "  wordCount, charCount = count(s)\n",
        "  print(\"\\nSENTENCE: {}\\nNo.of WORDS: {}\\nNo.of CHARACTERS: {}\".format(s, wordCount, charCount))\n",
        "\n",
        "if __name__ == \"__main__\":\n",
        "  main()"
      ],
      "metadata": {
        "colab": {
          "base_uri": "https://localhost:8080/"
        },
        "id": "e3nKFj1orJLs",
        "outputId": "85f21fec-274c-4314-95b4-39425e3194a2"
      },
      "execution_count": null,
      "outputs": [
        {
          "output_type": "stream",
          "name": "stdout",
          "text": [
            "Enter a Sentence: Python Program to Calculate the Number of Words and the Number of Characters Present in a String\n",
            "\n",
            "SENTENCE: Python Program to Calculate the Number of Words and the Number of Characters Present in a String\n",
            "No.of Words: 17\n",
            "No.of Characters: 96\n"
          ]
        }
      ]
    },
    {
      "cell_type": "markdown",
      "source": [
        "### Python Program to Take in Two Strings and Display the Larger String without Using Built-in Functions"
      ],
      "metadata": {
        "id": "je7vr7torLEj"
      }
    },
    {
      "cell_type": "code",
      "source": [
        "def large(s1, s2):\n",
        "  if len(list(s1.split())) == len(list(s2.split())):\n",
        "    return \"Identical Lengths\"\n",
        "  if len(list(s1.split())) > len(list(s2.split())):\n",
        "    return \"FIRST STRING\"\n",
        "  else:\n",
        "    return \"SECOND STRING\""
      ],
      "metadata": {
        "id": "GAWh_7G_PkI_"
      },
      "execution_count": null,
      "outputs": []
    },
    {
      "cell_type": "code",
      "source": [
        "def main():\n",
        "  s1 = input(\"Enter First Sentence: \")\n",
        "  s2 = input(\"Enter Second Sentence: \")\n",
        "  print(\"\\nFIRST SENTENCE: {}\\nSECOND SENTENCE: {}\\n\\nWhich String is Larger?: {}\".format(s1, s2, large(s1, s2)))\n",
        "\n",
        "if __name__ == \"__main__\":\n",
        "  main()"
      ],
      "metadata": {
        "colab": {
          "base_uri": "https://localhost:8080/"
        },
        "id": "qdH6_O83rLrV",
        "outputId": "7d84fc25-a6cc-44d8-f1ce-6a6156649e3e"
      },
      "execution_count": null,
      "outputs": [
        {
          "output_type": "stream",
          "name": "stdout",
          "text": [
            "Enter First Sentence: Which String is Larger\n",
            "Enter Second Sentence: Which String is Larger relative to the other one\n",
            "\n",
            "FIRST SENTENCE: Which String is Larger\n",
            "SECOND SENTENCE: Which String is Larger relative to the other one\n",
            "\n",
            "Which String is Larger?: SECOND STRING\n"
          ]
        }
      ]
    },
    {
      "cell_type": "markdown",
      "source": [
        "### Python Program to Count Number of Lowercase Characters in a String"
      ],
      "metadata": {
        "id": "LftUj09erNsW"
      }
    },
    {
      "cell_type": "code",
      "source": [
        "def count(s):\n",
        "  characters = []\n",
        "  for i in s:\n",
        "    if 97 <= ord(i) <= 122:\n",
        "      characters.append(i)\n",
        "  \n",
        "  return len(set(characters))"
      ],
      "metadata": {
        "id": "atvsPXNL9miQ"
      },
      "execution_count": null,
      "outputs": []
    },
    {
      "cell_type": "code",
      "source": [
        "def main():\n",
        "  s = input(\"Enter First Sentence: \")\n",
        "  print(\"\\nSENTENCE: {}\\nLOWER CASE Characters: {}\".format(s, count(s)))\n",
        "\n",
        "if __name__ == \"__main__\":\n",
        "  main()"
      ],
      "metadata": {
        "colab": {
          "base_uri": "https://localhost:8080/"
        },
        "outputId": "62f717ed-af73-4b4f-d3bd-78e346b2647e",
        "id": "V8YwhZ_T9miR"
      },
      "execution_count": null,
      "outputs": [
        {
          "output_type": "stream",
          "name": "stdout",
          "text": [
            "Enter First Sentence: LOWER CASE characters\n",
            "\n",
            "SENTENCE: LOWER CASE characters\n",
            "LOWER CASE Characters: 7\n"
          ]
        }
      ]
    },
    {
      "cell_type": "markdown",
      "source": [
        "### Python Program to Calculate the Number of Upper Case Letters and Lower Case Letters in a String"
      ],
      "metadata": {
        "id": "7CJqdhU9rSVr"
      }
    },
    {
      "cell_type": "code",
      "source": [
        "def count(s):\n",
        "  up = []\n",
        "  low = []\n",
        "  for i in s:\n",
        "    if 97 <= ord(i) <= 122:\n",
        "      low.append(i)\n",
        "    elif 65 <= ord(i) <= 90:\n",
        "      up.append(i)\n",
        "  \n",
        "  return len(set(up)), len(set(low))"
      ],
      "metadata": {
        "id": "REIyh81u_zhp"
      },
      "execution_count": null,
      "outputs": []
    },
    {
      "cell_type": "code",
      "source": [
        "def main():\n",
        "  s = input(\"Enter First Sentence: \")\n",
        "  upper, lower = count(s)\n",
        "  print(\"\\nSENTENCE: {}\\n\\nUPPER CASE Characters: {}\\nLOWER CASE Characters: {}\".format(s, upper, lower))\n",
        "\n",
        "if __name__ == \"__main__\":\n",
        "  main()"
      ],
      "metadata": {
        "colab": {
          "base_uri": "https://localhost:8080/"
        },
        "outputId": "b523d533-e782-4c43-e0cd-ab0553795b64",
        "id": "yZtPsAB6_zhq"
      },
      "execution_count": null,
      "outputs": [
        {
          "output_type": "stream",
          "name": "stdout",
          "text": [
            "Enter First Sentence: LOWER CASE Characters\n",
            "\n",
            "SENTENCE: LOWER CASE Characters\n",
            "\n",
            "UPPER CASE Characters: 8\n",
            "LOWER CASE Characters: 7\n"
          ]
        }
      ]
    },
    {
      "cell_type": "markdown",
      "source": [
        "### Python Program to Check if a String is a Pangram or Not"
      ],
      "metadata": {
        "id": "XVRYx6YorR2D"
      }
    },
    {
      "cell_type": "code",
      "source": [
        "def pangram(s):\n",
        "  for i in s:\n",
        "    if (ord(i) > 122 or ord(i) < 97 or ord(i) > 90 or ord(i) < 65 or ord(i) != 32):\n",
        "      return i, ord(i), False\n",
        "\n",
        "  return True\n",
        "\n",
        "pangram(\"PANGRAM Sentence:\")"
      ],
      "metadata": {
        "colab": {
          "base_uri": "https://localhost:8080/"
        },
        "id": "v7iqzDGYAle5",
        "outputId": "77fe4959-827a-410f-b1d2-e79b87517b84"
      },
      "execution_count": null,
      "outputs": [
        {
          "output_type": "execute_result",
          "data": {
            "text/plain": [
              "('P', 80, False)"
            ]
          },
          "metadata": {},
          "execution_count": 91
        }
      ]
    },
    {
      "cell_type": "code",
      "source": [
        "def main():\n",
        "  s = input(\"Enter First Sentence: \")\n",
        "  upper, lower = count(s)\n",
        "  print(\"\\nSENTENCE: {}\\n\\nPANGRAM Sentence: {}\".format(s, pangram(s)))\n",
        "\n",
        "if __name__ == \"__main__\":\n",
        "  main()"
      ],
      "metadata": {
        "colab": {
          "base_uri": "https://localhost:8080/"
        },
        "outputId": "b8ba8bee-5fb9-4fd7-8651-8e0675cc66a0",
        "id": "gDtkUMhvAle7"
      },
      "execution_count": null,
      "outputs": [
        {
          "output_type": "stream",
          "name": "stdout",
          "text": [
            "Enter First Sentence: PANGRAM Sentence\n",
            "\n",
            "SENTENCE: PANGRAM Sentence\n",
            "\n",
            "PANGRAM Sentence: 80\n"
          ]
        }
      ]
    },
    {
      "cell_type": "markdown",
      "source": [
        "### Python Program to Accept a Hyphen Separated Sequence of Words as Input and Print the Words in a Hyphen-Separated Sequence after Sorting them Alphabetically"
      ],
      "metadata": {
        "id": "QGsDPCNarZNj"
      }
    },
    {
      "cell_type": "code",
      "source": [
        "def check(x):\n",
        "  if len(list(x.split('-'))) == len(list(\" \".join(x.split('-')).split())):\n",
        "    return True\n",
        "  else:\n",
        "    return False\n",
        "  \n",
        "def hyphen(x):\n",
        "  return \"-\".join(sorted(x.split('-')))"
      ],
      "metadata": {
        "id": "WapS6qpRrZbs"
      },
      "execution_count": null,
      "outputs": []
    },
    {
      "cell_type": "code",
      "source": [
        "def main():\n",
        "  x = input(\"Enter a Sentence: \")\n",
        "  if check(x) == True:\n",
        "    print('The Sequence is HYPHEN Seperated')\n",
        "    print(\"Original Sequence: {} Sorted Sequence: {}\".format(x, hyphen(x)))\n",
        "  else:\n",
        "    print('The Sequence is NOT HYPHEN Seperated')\n",
        "\n",
        "if __name__ == \"__main__\":\n",
        "  main()"
      ],
      "metadata": {
        "colab": {
          "base_uri": "https://localhost:8080/"
        },
        "id": "WvO3y72glT7g",
        "outputId": "4c8fc275-d608-4ef1-fb6c-9e4d67489a05"
      },
      "execution_count": null,
      "outputs": [
        {
          "output_type": "stream",
          "name": "stdout",
          "text": [
            "Enter a Sentence: Python-Program\n",
            "The Sequence is HYPHEN Seperated\n",
            "Original Sequence: Python-Program Sorted Sequence: Program-Python\n"
          ]
        }
      ]
    },
    {
      "cell_type": "markdown",
      "source": [
        "### Python Program to Calculate the Number of Digits and Letters in a String"
      ],
      "metadata": {
        "id": "MbAnCa4ZrZo_"
      }
    },
    {
      "cell_type": "code",
      "source": [
        "import re \n",
        "\n",
        "def freq(s):\n",
        "  return len(list(re.findall('[0-9]+', s)[0])), len(list(re.sub('[^a-zA-Z]', '', s)))"
      ],
      "metadata": {
        "id": "_1XOrEPJR2X5"
      },
      "execution_count": null,
      "outputs": []
    },
    {
      "cell_type": "code",
      "source": [
        "def main():\n",
        "  s = input(\"Enter a string: \")\n",
        "  d, l = freq(s)\n",
        "  print(\"Number of Digits: {}\\nNumber of Letter: {}\".format(d, l))\n",
        "\n",
        "if __name__ == \"__main__\":\n",
        "  main()"
      ],
      "metadata": {
        "colab": {
          "base_uri": "https://localhost:8080/"
        },
        "id": "aYBqO012R2bV",
        "outputId": "83a67784-59d5-4830-f928-1fa833db8d3d"
      },
      "execution_count": null,
      "outputs": [
        {
          "output_type": "stream",
          "name": "stdout",
          "text": [
            "Enter a string: ertyuio3456789\n",
            "Number of Digits: 7\n",
            "Number of Letter: 7\n"
          ]
        }
      ]
    },
    {
      "cell_type": "markdown",
      "source": [
        "### Python Program to Form a New String Made of the First 2 and Last 2 characters From a Given String"
      ],
      "metadata": {
        "id": "r0ROEZszraGb"
      }
    },
    {
      "cell_type": "code",
      "source": [
        "def new(s):\n",
        "  return s[:2] + s[-2:]"
      ],
      "metadata": {
        "id": "k9I-j0OvraVR"
      },
      "execution_count": null,
      "outputs": []
    },
    {
      "cell_type": "code",
      "source": [
        "def main():\n",
        "  s = input(\"Enter a String: \")\n",
        "  print(\"\\nNew String: {}\".format(new(s)))\n",
        "\n",
        "if __name__ == \"__main__\":\n",
        "  main()"
      ],
      "metadata": {
        "colab": {
          "base_uri": "https://localhost:8080/"
        },
        "id": "p87-jrwPwtML",
        "outputId": "9b2ea0fd-b3dc-4cd5-cd19-581b0e7d5095"
      },
      "execution_count": null,
      "outputs": [
        {
          "output_type": "stream",
          "name": "stdout",
          "text": [
            "Enter a String: Buffalo\n",
            "\n",
            "New String: Bulo\n"
          ]
        }
      ]
    },
    {
      "cell_type": "markdown",
      "source": [
        "### Python Program to Count the Occurrences of Each Word in a Given String Sentence"
      ],
      "metadata": {
        "id": "jMzQhpogranB"
      }
    },
    {
      "cell_type": "code",
      "source": [
        "def occur(s):\n",
        "  record = {}\n",
        "  for i in set(list(s.split())):\n",
        "    count = 0\n",
        "    for k in list(s.split()):\n",
        "      if i==k:\n",
        "        count+=1\n",
        "    record[i] = count\n",
        "  \n",
        "  return record"
      ],
      "metadata": {
        "id": "znN22eAiBZ1h"
      },
      "execution_count": null,
      "outputs": []
    },
    {
      "cell_type": "code",
      "source": [
        "import pandas as pd\n",
        "\n",
        "def main():\n",
        "  s = input(\"Enter a Sentence: \")\n",
        "  print(\"\\nWord Count:\")\n",
        "  print(occur(s))\n",
        "  \n",
        "if __name__ == \"__main__\":\n",
        "  main()"
      ],
      "metadata": {
        "id": "KtyUcSxYra1y",
        "colab": {
          "base_uri": "https://localhost:8080/"
        },
        "outputId": "3519c099-53b5-4600-d573-537205cb3bab"
      },
      "execution_count": null,
      "outputs": [
        {
          "output_type": "stream",
          "name": "stdout",
          "text": [
            "Enter a Sentence: ### Python Program to Form a New String Made of the First 2 and Last 2 characters From a Given String\n",
            "\n",
            "Word Count:\n",
            "{'Given': 1, 'Form': 1, '###': 1, 'Made': 1, 'the': 1, 'Python': 1, '2': 2, 'and': 1, 'Last': 1, 'a': 2, 'of': 1, 'characters': 1, 'Program': 1, 'From': 1, 'New': 1, 'to': 1, 'First': 1, 'String': 2}\n"
          ]
        }
      ]
    },
    {
      "cell_type": "markdown",
      "source": [
        "### Python Program to Print All Permutations of a String in Lexicographic Order without Recursion"
      ],
      "metadata": {
        "id": "CpkuYLlurjso"
      }
    },
    {
      "cell_type": "code",
      "source": [
        "def permutation(s):\n",
        "  order = []\n",
        "  for i in range(len(list(s))):\n",
        "    x = s.replace(s[i], \"\")\n",
        "    for k in range(len(list(s))):\n",
        "      order.append(x[:k] + s[i] + x[k:])\n",
        "\n",
        "  return sorted(set(order))"
      ],
      "metadata": {
        "id": "kQPc1RPjrj4p"
      },
      "execution_count": null,
      "outputs": []
    },
    {
      "cell_type": "code",
      "source": [
        "def main():\n",
        "  s = input(\"Enter a String: \")\n",
        "  print(permutation(s))\n",
        "  \n",
        "if __name__ == \"__main__\":\n",
        "  main()"
      ],
      "metadata": {
        "colab": {
          "base_uri": "https://localhost:8080/"
        },
        "id": "EyZRnr88RXzj",
        "outputId": "6a2b9c7e-36e4-4fba-95ec-67bd95387f19"
      },
      "execution_count": null,
      "outputs": [
        {
          "output_type": "stream",
          "name": "stdout",
          "text": [
            "Enter a String: abcdef\n",
            "['abcdef', 'abcdfe', 'abcedf', 'abcefd', 'abcfde', 'abdcef', 'abdecf', 'abdefc', 'abecdf', 'abfcde', 'acbdef', 'acdbef', 'acdebf', 'acdefb', 'adbcef', 'aebcdf', 'afbcde', 'bacdef', 'bcadef', 'bcdaef', 'bcdeaf', 'bcdefa', 'cabdef', 'dabcef', 'eabcdf', 'fabcde']\n"
          ]
        }
      ]
    },
    {
      "cell_type": "markdown",
      "source": [
        "### Python Program to Print All Permutations of a String in Lexicographic Order using Recursion"
      ],
      "metadata": {
        "id": "Qsogy_kfrpjb"
      }
    },
    {
      "cell_type": "code",
      "source": [
        ""
      ],
      "metadata": {
        "id": "QpvZNelmrpwV"
      },
      "execution_count": null,
      "outputs": []
    },
    {
      "cell_type": "markdown",
      "metadata": {
        "id": "tKmMSVr3Xbge"
      },
      "source": [
        "# Dictionary"
      ]
    },
    {
      "cell_type": "markdown",
      "source": [
        "### Python Program to Add a Key-Value Pair to the Dictionary"
      ],
      "metadata": {
        "id": "oLMwf2e-wBSv"
      }
    },
    {
      "cell_type": "code",
      "source": [
        "def keyvalue(n):\n",
        "  kv = {}\n",
        "  for i in range(n):\n",
        "    key = input(\"\\nEnter a Key: \")\n",
        "    val = input(\"Enter a Value: \")\n",
        "    kv[key] = val\n",
        "\n",
        "  return kv"
      ],
      "metadata": {
        "id": "cSKX2S3WwBr4"
      },
      "execution_count": null,
      "outputs": []
    },
    {
      "cell_type": "code",
      "source": [
        "def main():\n",
        "  n = int(input(\"Enter the Number of Key-Valye Pairs to add: \"))\n",
        "  print(\"\\nFormed Dictionary: \", keyvalue(n))\n",
        "\n",
        "if __name__ == \"__main__\":\n",
        "  main()"
      ],
      "metadata": {
        "colab": {
          "base_uri": "https://localhost:8080/"
        },
        "id": "5CVI3H9XwBvL",
        "outputId": "a8ce15f4-bbeb-4228-a6ef-676fd96ecda2"
      },
      "execution_count": null,
      "outputs": [
        {
          "output_type": "stream",
          "name": "stdout",
          "text": [
            "Enter the Number of Key-Valye Pairs to add: 3\n",
            "\n",
            "Enter a Key: A\n",
            "Enter a Value: 123\n",
            "\n",
            "Enter a Key: B\n",
            "Enter a Value: 456\n",
            "\n",
            "Enter a Key: C\n",
            "Enter a Value: 789\n",
            "\n",
            "Formed Dictionary:  {'A': '123', 'B': '456', 'C': '789'}\n"
          ]
        }
      ]
    },
    {
      "cell_type": "markdown",
      "source": [
        "### Python Program to Concatenate Two Dictionaries Into One"
      ],
      "metadata": {
        "id": "akAzeDfNwB-k"
      }
    },
    {
      "cell_type": "code",
      "source": [
        "def keyvalue(n):\n",
        "  kv = {}\n",
        "  for i in range(n):\n",
        "    key = input(\"\\nEnter a Key: \")\n",
        "    val = input(\"Enter a Value: \")\n",
        "    kv[key] = val\n",
        "\n",
        "  return kv"
      ],
      "metadata": {
        "colab": {
          "base_uri": "https://localhost:8080/"
        },
        "id": "daB2oHvZwCSl",
        "outputId": "6f1860a2-8291-4a4f-8cbb-c076b1afb77f"
      },
      "execution_count": null,
      "outputs": [
        {
          "output_type": "execute_result",
          "data": {
            "text/plain": [
              "{'a': 1, 'b': 2}"
            ]
          },
          "metadata": {},
          "execution_count": 25
        }
      ]
    },
    {
      "cell_type": "code",
      "source": [
        "def main():\n",
        "  n = int(input(\"DICTIONARY 1:\\nEnter the Number of Key-Value Pairs to add: \"))\n",
        "  dc1 = keyvalue(n)\n",
        "  print(\"\\nFormed Dictionary: \", dc1)\n",
        "\n",
        "  n = int(input(\"DICTIONARY 2:\\nEnter the Number of Key-Value Pairs to add: \"))\n",
        "  dc2 = keyvalue(n)\n",
        "  print(\"\\nFormed Dictionary: \", dc2)\n",
        "\n",
        "  print(\"\\nCONCATENATED DICTIONARY: {}\".format({**dc1, **dc2}))\n",
        "\n",
        "if __name__ == \"__main__\":\n",
        "  main()"
      ],
      "metadata": {
        "colab": {
          "base_uri": "https://localhost:8080/"
        },
        "id": "UiR9cj2IwCV9",
        "outputId": "25d9bc34-8c37-435d-fef6-5f7105800221"
      },
      "execution_count": null,
      "outputs": [
        {
          "output_type": "stream",
          "name": "stdout",
          "text": [
            "DICTIONARY 1:\n",
            "Enter the Number of Key-Valye Pairs to add: 1\n",
            "\n",
            "Enter a Key: a\n",
            "Enter a Value: 1\n",
            "\n",
            "Formed Dictionary:  {'a': '1'}\n",
            "DICTIONARY 2:\n",
            "Enter the Number of Key-Valye Pairs to add: 2\n",
            "\n",
            "Enter a Key: b\n",
            "Enter a Value: 2\n",
            "\n",
            "Enter a Key: c\n",
            "Enter a Value: 3\n",
            "\n",
            "Formed Dictionary:  {'b': '2', 'c': '3'}\n",
            "\n",
            "CONCATENATED DICTIONARY: {'a': '1', 'b': '2', 'c': '3'}\n"
          ]
        }
      ]
    },
    {
      "cell_type": "markdown",
      "source": [
        "### Python Program to Check if a Given Key Exists in a Dictionary or Not"
      ],
      "metadata": {
        "id": "-Nhri6RFwCsG"
      }
    },
    {
      "cell_type": "code",
      "source": [
        "def search(dictionary, key):\n",
        "  return key in dictionary.keys()\n",
        "  \n",
        "def keyvalue(n):\n",
        "  kv = {}\n",
        "  for i in range(n):\n",
        "    key = input(\"\\nEnter a Key: \")\n",
        "    val = input(\"Enter a Value: \")\n",
        "    kv[key] = val\n",
        "\n",
        "  return kv"
      ],
      "metadata": {
        "id": "cPtUtv6_wDIo"
      },
      "execution_count": null,
      "outputs": []
    },
    {
      "cell_type": "code",
      "source": [
        "def main():\n",
        "  n = int(input(\"Enter the Number of Key-Value Pairs to add: \"))\n",
        "  dictionary = keyvalue(n)\n",
        "  print(\"\\nFormed Dictionary: \", dictionary)\n",
        "\n",
        "  key = input(\"\\nSearch Warrent For KEY: \")\n",
        "  print(\"KEY INVESTIGATION STATUS: {}\".format(search(dictionary, key)))\n",
        "\n",
        "if __name__ == \"__main__\":\n",
        "  main()c"
      ],
      "metadata": {
        "colab": {
          "base_uri": "https://localhost:8080/"
        },
        "id": "VEVK6EsPwDME",
        "outputId": "55f370ec-8805-4548-ec02-ea0150c2c273"
      },
      "execution_count": null,
      "outputs": [
        {
          "output_type": "stream",
          "name": "stdout",
          "text": [
            "Enter the Number of Key-Valye Pairs to add: 2\n",
            "\n",
            "Enter a Key: a\n",
            "Enter a Value: 1\n",
            "\n",
            "Enter a Key: b\n",
            "Enter a Value: 2\n",
            "\n",
            "Formed Dictionary:  {'a': '1', 'b': '2'}\n",
            "\n",
            "Search Warrent For KEY: \n",
            "Key Investigation Status: False\n"
          ]
        }
      ]
    },
    {
      "cell_type": "markdown",
      "source": [
        "### Python Program to Generate a Dictionary that Contains Numbers (between 1 and n) in the Form (x,x*x)."
      ],
      "metadata": {
        "id": "S_j63E7QwL1s"
      }
    },
    {
      "cell_type": "code",
      "source": [
        "def keyvalue(n):\n",
        "  kv = {}\n",
        "  for i in range(n):\n",
        "    key = int(input(\"\\nEnter a Numeric Key: \"))\n",
        "    kv[key] = key**2\n",
        "\n",
        "  return kv"
      ],
      "metadata": {
        "id": "Aqj_evN0wMBz"
      },
      "execution_count": null,
      "outputs": []
    },
    {
      "cell_type": "code",
      "source": [
        "def main():\n",
        "  n = int(input(\"Enter the Number of Key-Value Pairs to add: \"))\n",
        "  dictionary = keyvalue(n)\n",
        "  print(\"\\nDICTIONARY: \", dictionary)\n",
        "\n",
        "if __name__ == \"__main__\":\n",
        "  main()"
      ],
      "metadata": {
        "colab": {
          "base_uri": "https://localhost:8080/"
        },
        "id": "80YWbmqrwMFL",
        "outputId": "119e1714-3bce-4a28-d794-3a1be60593d0"
      },
      "execution_count": null,
      "outputs": [
        {
          "output_type": "stream",
          "name": "stdout",
          "text": [
            "Enter the Number of Key-Valye Pairs to add: 3\n",
            "Enter a Numeric Key: 1\n",
            "Enter a Numeric Key: 2\n",
            "Enter a Numeric Key: 3\n",
            "\n",
            "Formed Dictionary:  {1: 1, 2: 4, 3: 9}\n"
          ]
        }
      ]
    },
    {
      "cell_type": "markdown",
      "source": [
        "### Python Program to Sum All the Items in a Dictionary"
      ],
      "metadata": {
        "id": "qNeT5kxswP-E"
      }
    },
    {
      "cell_type": "code",
      "source": [
        "def sum(dictionary):\n",
        "  sum = 0\n",
        "  for i in dictionary.keys():\n",
        "    sum+=dictionary[i]\n",
        "\n",
        "  return sum\n",
        "  \n",
        " \n",
        "def keyvalue(n):\n",
        "  kv = {}\n",
        "  for i in range(n):\n",
        "    key = input(\"\\nEnter a Key: \")\n",
        "    val = int(input(\"Enter a Numeric Value: \"))\n",
        "    kv[key] = val\n",
        "\n",
        "  return kv"
      ],
      "metadata": {
        "id": "Q7rAMpvBf8WC"
      },
      "execution_count": null,
      "outputs": []
    },
    {
      "cell_type": "code",
      "source": [
        "def main():\n",
        "  n = int(input(\"Enter the Number of Key-Value Pairs to add: \"))\n",
        "  dictionary = keyvalue(n)\n",
        "  print(\"\\nFormed Dictionary: \", dictionary)\n",
        "\n",
        "  print(\"\\nSUM OF DICTIONARY ITEMS: {}\".format(sum(dictionary)))\n",
        "\n",
        "if __name__ == \"__main__\":\n",
        "  main()"
      ],
      "metadata": {
        "colab": {
          "base_uri": "https://localhost:8080/"
        },
        "id": "yGRBiTpywQT2",
        "outputId": "9615606d-5f7f-4153-c451-6ccad035dc09"
      },
      "execution_count": null,
      "outputs": [
        {
          "output_type": "stream",
          "name": "stdout",
          "text": [
            "Enter the Number of Key-Value Pairs to add: 3\n",
            "\n",
            "Enter a Key: A\n",
            "Enter a Numeric Value: 1\n",
            "\n",
            "Enter a Key: B\n",
            "Enter a Numeric Value: 2\n",
            "\n",
            "Enter a Key: C\n",
            "Enter a Numeric Value: 3\n",
            "\n",
            "Formed Dictionary:  {'A': 1, 'B': 2, 'C': 3}\n",
            "\n",
            "SUM OF DICTIONARY ITEMS: 6\n"
          ]
        }
      ]
    },
    {
      "cell_type": "markdown",
      "source": [
        "### Python Program to Multiply All the Items in a Dictionary"
      ],
      "metadata": {
        "id": "Y66Db0SWwW2j"
      }
    },
    {
      "cell_type": "code",
      "source": [
        "def mul(dictionary):\n",
        "  mul = 1\n",
        "  for i in dictionary.keys():\n",
        "    mul*=dictionary[i]\n",
        "\n",
        "  return mul\n",
        "  \n",
        " \n",
        "def keyvalue(n):\n",
        "  kv = {}\n",
        "  for i in range(n):\n",
        "    key = input(\"\\nEnter a Key: \")\n",
        "    val = int(input(\"Enter a Numeric Value: \"))\n",
        "    kv[key] = val\n",
        "\n",
        "  return kv"
      ],
      "metadata": {
        "id": "A42Pv2o3wXHc"
      },
      "execution_count": null,
      "outputs": []
    },
    {
      "cell_type": "code",
      "source": [
        "def main():\n",
        "  n = int(input(\"Enter the Number of Key-Value Pairs to add: \"))\n",
        "  dictionary = keyvalue(n)\n",
        "  print(\"\\nFormed Dictionary: \", dictionary)\n",
        "\n",
        "  print(\"\\nSUM OF DICTIONARY ITEMS: {}\".format(mul(dictionary)))\n",
        "\n",
        "if __name__ == \"__main__\":\n",
        "  main()"
      ],
      "metadata": {
        "colab": {
          "base_uri": "https://localhost:8080/"
        },
        "id": "a9oTPJA-wXK9",
        "outputId": "aba57335-31de-424b-9147-17170ca68d97"
      },
      "execution_count": null,
      "outputs": [
        {
          "output_type": "stream",
          "name": "stdout",
          "text": [
            "Enter the Number of Key-Value Pairs to add: 3\n",
            "\n",
            "Enter a Key: a\n",
            "Enter a Numeric Value: 2\n",
            "\n",
            "Enter a Key: b\n",
            "Enter a Numeric Value: 4\n",
            "\n",
            "Enter a Key: c\n",
            "Enter a Numeric Value: 6\n",
            "\n",
            "Formed Dictionary:  {'a': 2, 'b': 4, 'c': 6}\n",
            "\n",
            "SUM OF DICTIONARY ITEMS: 48\n"
          ]
        }
      ]
    },
    {
      "cell_type": "markdown",
      "source": [
        "### Python Program to Remove the Given Key from a Dictionary"
      ],
      "metadata": {
        "id": "P520RJW5wY8Z"
      }
    },
    {
      "cell_type": "code",
      "source": [
        "def delete(dictionary, key):\n",
        "  dictionary.pop(key)\n",
        "  return dictionary\n",
        "  \n",
        "def keyvalue(n):\n",
        "  kv = {}\n",
        "  for i in range(n):\n",
        "    key = input(\"\\nEnter a Key: \")\n",
        "    val = input(\"Enter a Value: \")\n",
        "    kv[key] = val\n",
        "\n",
        "  return kv"
      ],
      "metadata": {
        "id": "lH2aX7RTiAiV"
      },
      "execution_count": null,
      "outputs": []
    },
    {
      "cell_type": "code",
      "source": [
        "def main():\n",
        "  n = int(input(\"Enter the Number of Key-Value Pairs to add: \"))\n",
        "  dictionary = keyvalue(n)\n",
        "  print(\"\\nFormed Dictionary: \", dictionary)\n",
        "\n",
        "  key = input(\"\\nSearch Warrent For KEY: \")\n",
        "  print(\"\\nKEY REMOVED\\nNEW DICTIONARY: {}\".format(delete(dictionary, key)))\n",
        "\n",
        "if __name__ == \"__main__\":\n",
        "  main()"
      ],
      "metadata": {
        "colab": {
          "base_uri": "https://localhost:8080/"
        },
        "outputId": "139abfb4-e36f-4470-86e9-20b49dfcd5ee",
        "id": "XfiLAGu_iAiW"
      },
      "execution_count": null,
      "outputs": [
        {
          "output_type": "stream",
          "name": "stdout",
          "text": [
            "Enter the Number of Key-Value Pairs to add: 3\n",
            "\n",
            "Enter a Key: a\n",
            "Enter a Value: 1\n",
            "\n",
            "Enter a Key: b\n",
            "Enter a Value: 2\n",
            "\n",
            "Enter a Key: c\n",
            "Enter a Value: 3\n",
            "\n",
            "Formed Dictionary:  {'a': '1', 'b': '2', 'c': '3'}\n",
            "\n",
            "Search Warrent For KEY: c\n",
            "\n",
            "KEY REMOVED\n",
            "NEW DICTIONARY: {'a': '1', 'b': '2'}\n"
          ]
        }
      ]
    },
    {
      "cell_type": "markdown",
      "source": [
        "### Python Program to Form a Dictionary from an Object of a Class"
      ],
      "metadata": {
        "id": "IWWml8hEwZc9"
      }
    },
    {
      "cell_type": "code",
      "source": [
        ""
      ],
      "metadata": {
        "id": "RpbRhj6iwZ0l"
      },
      "execution_count": null,
      "outputs": []
    },
    {
      "cell_type": "code",
      "source": [
        "if __name__ == \"__main__\":\n",
        "  main()"
      ],
      "metadata": {
        "id": "yEM1CMpwwZ38"
      },
      "execution_count": null,
      "outputs": []
    },
    {
      "cell_type": "markdown",
      "source": [
        "### Python Program to Map Two Lists into a Dictionary"
      ],
      "metadata": {
        "id": "Bea9iPWswhX-"
      }
    },
    {
      "cell_type": "code",
      "source": [
        "def mapping(l1, l2):\n",
        "  return {key:value for key, value in zip(l1, l2)}"
      ],
      "metadata": {
        "id": "asOrgx73whtx"
      },
      "execution_count": null,
      "outputs": []
    },
    {
      "cell_type": "code",
      "source": [
        "def main():\n",
        "  print(\"LIST 1:\")\n",
        "  l1 = [i for i in input(\"Enter Elements: \").split(\" \")]\n",
        "\n",
        "  print(\"\\nLIST 2:\")\n",
        "  l2 = [i for i in input(\"Enter Elements: \").split(\" \")]\n",
        "\n",
        "  print(\"\\nMAPPING LISTS INTO DICTIONARY:\\n\")\n",
        "\n",
        "  print(\"DICTIONARY: {}\".format(mapping(l1, l2)))\n",
        "  \n",
        "if __name__ == \"__main__\":\n",
        "  main()"
      ],
      "metadata": {
        "colab": {
          "base_uri": "https://localhost:8080/"
        },
        "id": "lpz-qNSOwhxS",
        "outputId": "72047fa5-31bf-4830-8681-c29d1130800a"
      },
      "execution_count": null,
      "outputs": [
        {
          "output_type": "stream",
          "name": "stdout",
          "text": [
            "LIST 1:\n",
            "Enter Elements: a b c d\n",
            "\n",
            "LIST 2:\n",
            "Enter Elements: 1 2 3 4\n",
            "\n",
            "MAPPING LISTS INTO DICTIONARY:\n",
            "\n",
            "DICTIONARY: {'a': '1', 'b': '2', 'c': '3', 'd': '4'}\n"
          ]
        }
      ]
    },
    {
      "cell_type": "markdown",
      "source": [
        "### Python Program to Create a Dictionary with Key as First Character and Value as Words Starting with that Character"
      ],
      "metadata": {
        "id": "Oe3rQj_8wipQ"
      }
    },
    {
      "cell_type": "code",
      "source": [
        "def edit(sentence):\n",
        "  unique = set([i[0] for i in set(list(sentence.split()))])\n",
        "  print(unique)\n",
        "\n",
        "  words = []\n",
        "  for i in unique:\n",
        "    word = []\n",
        "    for k in list(sentence.split()):\n",
        "      if i == k[0]:\n",
        "        word.append(k)\n",
        "    words.append(word)\n",
        "\n",
        "  return {key:value for key, value in zip(unique, words)}"
      ],
      "metadata": {
        "id": "jHV9ynPywjEY"
      },
      "execution_count": null,
      "outputs": []
    },
    {
      "cell_type": "code",
      "source": [
        "def main():\n",
        "  sentence = input(\"Enter a Sentence: \")\n",
        "  print(edit(sentence))\n",
        "\n",
        "  \n",
        "if __name__ == \"__main__\":\n",
        "  main()"
      ],
      "metadata": {
        "colab": {
          "base_uri": "https://localhost:8080/"
        },
        "id": "T4WEnqd0wjH4",
        "outputId": "af37c9bc-bf0c-45f3-9292-d7ed239b97d8"
      },
      "execution_count": null,
      "outputs": [
        {
          "output_type": "stream",
          "name": "stdout",
          "text": [
            "Enter a Sentence: Python Program to Create a Dictionary with Key as First Character and Value as Words Starting with that Character\n",
            "{'w', 'C', 'V', 'K', 'S', 'P', 'F', 'W', 'a', 'D', 't'}\n",
            "{'w': ['with', 'with'], 'C': ['Create', 'Character', 'Character'], 'V': ['Value'], 'K': ['Key'], 'S': ['Starting'], 'P': ['Python', 'Program'], 'F': ['First'], 'W': ['Words'], 'a': ['a', 'as', 'and', 'as'], 'D': ['Dictionary'], 't': ['to', 'that']}\n"
          ]
        }
      ]
    },
    {
      "cell_type": "markdown",
      "metadata": {
        "id": "wapmg6voXfX1"
      },
      "source": [
        "# Sets\n",
        "\n"
      ]
    },
    {
      "cell_type": "markdown",
      "source": [
        "### Python Program to Count the Number of Vowels Present in a String using Sets"
      ],
      "metadata": {
        "id": "ID5h4hOqXAdu"
      }
    },
    {
      "cell_type": "code",
      "source": [
        "def vowels(s):\n",
        "  return len(set(\"aeiou\").intersection(s))"
      ],
      "metadata": {
        "id": "we3irOmqXAtd"
      },
      "execution_count": null,
      "outputs": []
    },
    {
      "cell_type": "code",
      "source": [
        "def main():\n",
        "  s = input(\"Enter a String: \")\n",
        "  print(\"\\nVOWELS COUNT: {}\".format(vowels(s)))\n",
        "  \n",
        "if __name__ == \"__main__\":\n",
        "  main()"
      ],
      "metadata": {
        "colab": {
          "base_uri": "https://localhost:8080/"
        },
        "id": "QlZpPFWhXAw9",
        "outputId": "2c900502-59b2-4b4e-c3dc-001a9d42f3a8"
      },
      "execution_count": null,
      "outputs": [
        {
          "output_type": "stream",
          "name": "stdout",
          "text": [
            "Enter a String: asderty\n",
            "\n",
            "VOWELS COUNT: 2\n"
          ]
        }
      ]
    },
    {
      "cell_type": "markdown",
      "source": [
        "### Python Program to Check Common Letters in Two Input Strings"
      ],
      "metadata": {
        "id": "tC99L_CpXBII"
      }
    },
    {
      "cell_type": "code",
      "source": [
        "def common(s1, s2):\n",
        "  return len(set(s1).intersection(s2))"
      ],
      "metadata": {
        "id": "MQoMG5AiXBWl"
      },
      "execution_count": null,
      "outputs": []
    },
    {
      "cell_type": "code",
      "source": [
        "def main():\n",
        "  s1 = input(\"Enter First String: \")\n",
        "  s2 = input(\"Enter Second String: \")\n",
        "  print(\"\\nCOUNT of COMMON LETTERS: {}\".format(common(s1, s2)))\n",
        "  \n",
        "if __name__ == \"__main__\":\n",
        "  main()"
      ],
      "metadata": {
        "colab": {
          "base_uri": "https://localhost:8080/"
        },
        "id": "GNukq19ZXBZ6",
        "outputId": "a4b75551-bc9e-4035-c5e5-08624b69eed5"
      },
      "execution_count": null,
      "outputs": [
        {
          "output_type": "stream",
          "name": "stdout",
          "text": [
            "Enter First String: alpha\n",
            "Enter Second String: beta\n",
            "\n",
            "COUNT of COMMON LETTERS: 1\n"
          ]
        }
      ]
    },
    {
      "cell_type": "markdown",
      "source": [
        "### Python Program that Displays which Letters are in the First String but not in the Second"
      ],
      "metadata": {
        "id": "n9CvmQU0XBo6"
      }
    },
    {
      "cell_type": "code",
      "source": [
        "def common(s1, s2):\n",
        "  return set(s1) - set(s1).intersection(s2)"
      ],
      "metadata": {
        "id": "qWhQT0-Ir7Ue"
      },
      "execution_count": null,
      "outputs": []
    },
    {
      "cell_type": "code",
      "source": [
        "def main():\n",
        "  s1 = input(\"Enter First String: \")\n",
        "  s2 = input(\"Enter Second String: \")\n",
        "  print(\"\\nCOUNT of COMMON LETTERS: {}\".format(common(s1, s2)))\n",
        "  \n",
        "if __name__ == \"__main__\":\n",
        "  main()"
      ],
      "metadata": {
        "colab": {
          "base_uri": "https://localhost:8080/"
        },
        "outputId": "46bb66d3-022d-47c3-a146-7c19f18fd0a4",
        "id": "SZy8Vnc-r7Ue"
      },
      "execution_count": null,
      "outputs": [
        {
          "output_type": "stream",
          "name": "stdout",
          "text": [
            "Enter First String: asdfghjkl\n",
            "Enter Second String: ghjkl\n",
            "\n",
            "COUNT of COMMON LETTERS: {'a', 'd', 'f', 's'}\n"
          ]
        }
      ]
    },
    {
      "cell_type": "markdown",
      "source": [
        "### Python Program that Displays which Letters are Present in Both the Strings"
      ],
      "metadata": {
        "id": "4SxNU2xjXCF4"
      }
    },
    {
      "cell_type": "code",
      "source": [
        "def common(s1, s2):\n",
        "  return set(s1).intersection(s2)"
      ],
      "metadata": {
        "id": "YAqUmQH_r7_U"
      },
      "execution_count": null,
      "outputs": []
    },
    {
      "cell_type": "code",
      "source": [
        "def main():\n",
        "  s1 = input(\"Enter First String: \")\n",
        "  s2 = input(\"Enter Second String: \")\n",
        "  print(\"\\nCOUNT of COMMON LETTERS: {}\".format(common(s1, s2)))\n",
        "  \n",
        "if __name__ == \"__main__\":\n",
        "  main()"
      ],
      "metadata": {
        "colab": {
          "base_uri": "https://localhost:8080/"
        },
        "outputId": "23cecf4b-a09e-41f2-fe80-aaef2cf62096",
        "id": "_OdM-_csr7_U"
      },
      "execution_count": null,
      "outputs": [
        {
          "output_type": "stream",
          "name": "stdout",
          "text": [
            "Enter First String: alpha\n",
            "Enter Second String: beta\n",
            "\n",
            "COUNT of COMMON LETTERS: {'a'}\n"
          ]
        }
      ]
    },
    {
      "cell_type": "markdown",
      "source": [
        "### Python Program that Displays which Letters are in the Two Strings but not in Both"
      ],
      "metadata": {
        "id": "Iyh5kM_LXCkZ"
      }
    },
    {
      "cell_type": "code",
      "source": [
        "def common(s1, s2):\n",
        "  return sorted(set(\"abcdefghijklmnopqrstuvwxyz\") - set(s1).intersection(s2))"
      ],
      "metadata": {
        "id": "up5HA0Fgr8cN"
      },
      "execution_count": null,
      "outputs": []
    },
    {
      "cell_type": "code",
      "source": [
        "def main():\n",
        "  s1 = input(\"Enter First String: \")\n",
        "  s2 = input(\"Enter Second String: \")\n",
        "  print(\"\\nCOUNT of COMMON LETTERS: {}\".format(common(s1, s2)))\n",
        "  \n",
        "if __name__ == \"__main__\":\n",
        "  main()"
      ],
      "metadata": {
        "colab": {
          "base_uri": "https://localhost:8080/"
        },
        "outputId": "3c02b58b-21c4-4e15-c798-5bc4e89b6e42",
        "id": "WQc_2yq3r8cN"
      },
      "execution_count": null,
      "outputs": [
        {
          "output_type": "stream",
          "name": "stdout",
          "text": [
            "Enter First String: abcd\n",
            "Enter Second String: cd\n",
            "\n",
            "COUNT of COMMON LETTERS: ['a', 'b', 'e', 'f', 'g', 'h', 'i', 'j', 'k', 'l', 'm', 'n', 'o', 'p', 'q', 'r', 's', 't', 'u', 'v', 'w', 'x', 'y', 'z']\n"
          ]
        }
      ]
    },
    {
      "cell_type": "markdown",
      "metadata": {
        "id": "yHgr6jvvXiTl"
      },
      "source": [
        "# Recursions\n",
        "\n"
      ]
    },
    {
      "cell_type": "markdown",
      "source": [
        "### Python Program to Determine Whether a Given Number is Even or Odd Recursively"
      ],
      "metadata": {
        "id": "zy7EHkCAzK-T"
      }
    },
    {
      "cell_type": "code",
      "source": [
        "def recursion(n):\n",
        "  if n<1:\n",
        "    return True\n",
        "  elif n == 1:\n",
        "    return False\n",
        "  else:\n",
        "    return not recursion(n-1) or recursion(n-2)"
      ],
      "metadata": {
        "id": "RSC_PGh-0nV8"
      },
      "execution_count": null,
      "outputs": []
    },
    {
      "cell_type": "code",
      "source": [
        "def main():\n",
        "  n = int(input(\"Enter a Number: \"))\n",
        "  print(\"\\nNUMBER IS EVEN: {}\".format(recursion(n)))  \n",
        "  \n",
        "if __name__ == \"__main__\":\n",
        "  main()"
      ],
      "metadata": {
        "colab": {
          "base_uri": "https://localhost:8080/"
        },
        "id": "LPugYkH_zLNb",
        "outputId": "4ef8d491-fcf8-4c78-e27b-371225baf69f"
      },
      "execution_count": null,
      "outputs": [
        {
          "output_type": "stream",
          "name": "stdout",
          "text": [
            "Enter a Number: 7\n",
            "\n",
            "NUMBER IS EVEN: False\n"
          ]
        }
      ]
    },
    {
      "cell_type": "markdown",
      "source": [
        "### Python Program to Determine How Many Times a Given Letter Occurs in a String Recursively"
      ],
      "metadata": {
        "id": "xDJEvYvszLcz"
      }
    },
    {
      "cell_type": "code",
      "source": [
        "def times(i, k):\n",
        "  if i==k:\n",
        "    return 1\n",
        "  else:\n",
        "    return 0"
      ],
      "metadata": {
        "id": "xPplhFLmzLpH"
      },
      "execution_count": null,
      "outputs": []
    },
    {
      "cell_type": "code",
      "source": [
        "def main():\n",
        "  s = input(\"Enter a String: \")\n",
        "  \n",
        "  for i in s:\n",
        "    sum = 0\n",
        "    for k in s:\n",
        "      sum += times(i, k)\n",
        "    print(i, sum)\n",
        "  \n",
        "if __name__ == \"__main__\":\n",
        "  main()"
      ],
      "metadata": {
        "colab": {
          "base_uri": "https://localhost:8080/"
        },
        "id": "ABtIIxW-NqnK",
        "outputId": "801ed5b0-1f23-4177-d037-4bc7306ecd0f"
      },
      "execution_count": null,
      "outputs": [
        {
          "output_type": "stream",
          "name": "stdout",
          "text": [
            "Enter a String: hello\n",
            "h 1\n",
            "e 1\n",
            "l 2\n",
            "l 2\n",
            "o 1\n"
          ]
        }
      ]
    },
    {
      "cell_type": "markdown",
      "source": [
        "### Python Program to Find the Fibonacci Series Using Recursion"
      ],
      "metadata": {
        "id": "z6cmiVOZzL19"
      }
    },
    {
      "cell_type": "code",
      "source": [
        "def fibonacci(n):\n",
        "  if n<=2:\n",
        "    return 1\n",
        "  else: \n",
        "    return fibonacci(n-1) + fibonacci(n-2)"
      ],
      "metadata": {
        "id": "dF-A2S4KzMDN"
      },
      "execution_count": null,
      "outputs": []
    },
    {
      "cell_type": "code",
      "source": [
        "def main():\n",
        "\n",
        "  print(\"-----FIBONACCI SERIES-----\\n\")\n",
        "\n",
        "  n = int(input(\"Enter the No.of Iterations: \")) \n",
        "  \n",
        "  print(\"\\nSERIES: \")\n",
        "\n",
        "  for i in range(1, n+1):\n",
        "    print(fibonacci(i), end = \" \")\n",
        "  \n",
        "if __name__ == \"__main__\":\n",
        "  main()"
      ],
      "metadata": {
        "colab": {
          "base_uri": "https://localhost:8080/"
        },
        "id": "uh6kc50yMRPN",
        "outputId": "1e2f60f9-dcd9-4133-cd2b-552f0ae90738"
      },
      "execution_count": null,
      "outputs": [
        {
          "output_type": "stream",
          "name": "stdout",
          "text": [
            "-----FIBONACCI SERIES-----\n",
            "\n",
            "Enter the No.of Iterations: 10\n",
            "\n",
            "SERIES: \n",
            "1 1 2 3 5 8 13 21 34 55 "
          ]
        }
      ]
    },
    {
      "cell_type": "markdown",
      "source": [
        "### Python Program to Find the Factorial of a Number Using Recursion"
      ],
      "metadata": {
        "id": "B--iRT0GzMWF"
      }
    },
    {
      "cell_type": "code",
      "source": [
        "def factorial(n):\n",
        "  if n<=1:\n",
        "    return 1\n",
        "  else: \n",
        "    return n*factorial(n-1)"
      ],
      "metadata": {
        "id": "C3NsQUHhzMk8"
      },
      "execution_count": null,
      "outputs": []
    },
    {
      "cell_type": "code",
      "source": [
        "def main():\n",
        "\n",
        "  print(\"-----FACTORIAL SERIES-----\\n\")\n",
        "\n",
        "  n = int(input(\"Enter the No.of Iterations: \")) \n",
        "  \n",
        "  print(\"\\nSERIES: \")\n",
        "\n",
        "  for i in range(1, n+1):\n",
        "    print(factorial(i), end = \" \")\n",
        "  \n",
        "if __name__ == \"__main__\":\n",
        "  main()"
      ],
      "metadata": {
        "colab": {
          "base_uri": "https://localhost:8080/"
        },
        "id": "iaePtZ2rMQlM",
        "outputId": "eba41137-8d85-4a9a-c3b0-a655b7a77eaa"
      },
      "execution_count": null,
      "outputs": [
        {
          "output_type": "stream",
          "name": "stdout",
          "text": [
            "-----FACTORIAL SERIES-----\n",
            "\n",
            "Enter the No.of Iterations: 5\n",
            "\n",
            "SERIES: \n",
            "1 2 6 24 120 "
          ]
        }
      ]
    },
    {
      "cell_type": "markdown",
      "source": [
        "### Python Program to Find the Sum of Elements in a List Recursively"
      ],
      "metadata": {
        "id": "1IMO9W_lzM5v"
      }
    },
    {
      "cell_type": "code",
      "source": [
        "def series(n):\n",
        "  if len(n) < 1:\n",
        "    return 0\n",
        "  else:\n",
        "    return n[-1] + series(n[:-1])"
      ],
      "metadata": {
        "id": "5sQkwqlYzNHB"
      },
      "execution_count": null,
      "outputs": []
    },
    {
      "cell_type": "code",
      "source": [
        "def main():\n",
        "\n",
        "  print(\"-----SUM OF ELEMENTS-----\\n\")\n",
        "\n",
        "  n = [int(i) for i in input(\"Enter the Numbers: \").split()] \n",
        "  print(\"\\nSUMMATION: {}\".format(series(n)))\n",
        "  \n",
        "if __name__ == \"__main__\":\n",
        "  main()"
      ],
      "metadata": {
        "colab": {
          "base_uri": "https://localhost:8080/"
        },
        "outputId": "e5b0b565-12f3-474f-afdd-449917914aab",
        "id": "5g7g8VtOcKmk"
      },
      "execution_count": null,
      "outputs": [
        {
          "output_type": "stream",
          "name": "stdout",
          "text": [
            "-----SUM OF ELEMENTS-----\n",
            "\n",
            "Enter the Numbers: 1 2 3 4 5\n",
            "\n",
            "SUMMATION: 15\n"
          ]
        }
      ]
    },
    {
      "cell_type": "markdown",
      "source": [
        "### Python Program to Find the Binary Equivalent of a Number Recursively"
      ],
      "metadata": {
        "id": "IS3k8Wyi030z"
      }
    },
    {
      "cell_type": "code",
      "source": [
        "def binary(b, n):\n",
        "  if n==0:\n",
        "    print(\"\\nBINARY EQUIVALENT: {}\".format(b[::-1]))\n",
        "    return 0\n",
        "  else:\n",
        "    q = n//2\n",
        "    r = n%2\n",
        "    b += str(r)\n",
        "    binary(b, n//2)"
      ],
      "metadata": {
        "id": "D1t9SSlz04Ck"
      },
      "execution_count": null,
      "outputs": []
    },
    {
      "cell_type": "code",
      "source": [
        "def main():\n",
        "  n = int(input(\"Enter a Number: \"))\n",
        "  binary('', n)  \n",
        "  \n",
        "if __name__ == \"__main__\":\n",
        "  main()"
      ],
      "metadata": {
        "colab": {
          "base_uri": "https://localhost:8080/"
        },
        "id": "uEDdrtfmg3T_",
        "outputId": "3536449a-8087-48d5-fdc5-53429cbb0367"
      },
      "execution_count": null,
      "outputs": [
        {
          "output_type": "stream",
          "name": "stdout",
          "text": [
            "Enter a Number: 7\n",
            "BINARY EQUIVALENT: 111\n"
          ]
        }
      ]
    },
    {
      "cell_type": "markdown",
      "source": [
        "### Python Program to Find the Sum of the Digits of the Number Recursively"
      ],
      "metadata": {
        "id": "Q0eRrfPP04P-"
      }
    },
    {
      "cell_type": "code",
      "source": [
        "def digits(b, n):\n",
        "  if n==0:\n",
        "    print(\"SUM OF DIGITS: {}\".format(b))\n",
        "    return 0\n",
        "  else:\n",
        "    q = n//10\n",
        "    r = n%10\n",
        "    b += r\n",
        "    digits(b, n//10)"
      ],
      "metadata": {
        "id": "-wgwqKyO8hm3"
      },
      "execution_count": null,
      "outputs": []
    },
    {
      "cell_type": "code",
      "source": [
        "def main():\n",
        "  n = int(input(\"Enter a Number: \"))\n",
        "  digits(0, n)  \n",
        "  \n",
        "if __name__ == \"__main__\":\n",
        "  main()"
      ],
      "metadata": {
        "colab": {
          "base_uri": "https://localhost:8080/"
        },
        "outputId": "192160a2-4764-4521-85f6-11954d28c301",
        "id": "DzD2R9oa8hrq"
      },
      "execution_count": null,
      "outputs": [
        {
          "output_type": "stream",
          "name": "stdout",
          "text": [
            "Enter a Number: 101\n",
            "SUM OF DIGITS: 2\n"
          ]
        }
      ]
    },
    {
      "cell_type": "markdown",
      "source": [
        "### Python Program to Find the GCD of Two Numbers Using Recursion"
      ],
      "metadata": {
        "id": "d2hagLtG05G4"
      }
    },
    {
      "cell_type": "code",
      "source": [
        "def gcd(m, n):\n",
        "  if n==0:\n",
        "    return m\n",
        "  else:\n",
        "    return gcd(n, m%n)"
      ],
      "metadata": {
        "id": "uDIkj24Z0434"
      },
      "execution_count": 47,
      "outputs": []
    },
    {
      "cell_type": "code",
      "source": [
        "def main():\n",
        "  m, n = [int(i) for i in input(\"Enter TWO Numbers: \").split()]\n",
        "  print(\"\\nGCD Of {}:{} :: {}\".format(m, n, gcd(m, n)))\n",
        "\n",
        "if __name__ == \"__main__\":\n",
        "  main()"
      ],
      "metadata": {
        "colab": {
          "base_uri": "https://localhost:8080/"
        },
        "id": "4Wzh5zRzCKFb",
        "outputId": "7e6c6819-f273-4ab2-cf75-d7a4b629966b"
      },
      "execution_count": 46,
      "outputs": [
        {
          "output_type": "stream",
          "name": "stdout",
          "text": [
            "Enter TWO Numbers: 10 4\n",
            "\n",
            "GCD Of 10:4 :: 2\n"
          ]
        }
      ]
    },
    {
      "cell_type": "markdown",
      "source": [
        "### Python Program to Find the LCM of Two Numbers Using Recursion"
      ],
      "metadata": {
        "id": "5dRpeBE704qh"
      }
    },
    {
      "cell_type": "code",
      "source": [
        "def lcm(x, gcd):\n",
        "  if x < gcd: \n",
        "    return 0\n",
        "  else:\n",
        "    return 1 + lcm(x - gcd, gcd)"
      ],
      "metadata": {
        "id": "AtgKVIDG05UZ"
      },
      "execution_count": 55,
      "outputs": []
    },
    {
      "cell_type": "code",
      "source": [
        "def main():\n",
        "  m, n = [int(i) for i in input(\"Enter TWO Numbers: \").split()]\n",
        "  print(\"\\nLCD Of {}:{} :: {}\".format(m, n, lcm(int(abs(m*n)), gcd(m, n))))\n",
        "\n",
        "if __name__ == \"__main__\":\n",
        "  main()"
      ],
      "metadata": {
        "colab": {
          "base_uri": "https://localhost:8080/"
        },
        "id": "77afFHnACz9e",
        "outputId": "7fd7da81-a6dc-4f7d-e32a-be7f09f514a9"
      },
      "execution_count": 56,
      "outputs": [
        {
          "output_type": "stream",
          "name": "stdout",
          "text": [
            "Enter TWO Numbers: 10 4\n",
            "\n",
            "LCD Of 10:4 :: 20\n"
          ]
        }
      ]
    },
    {
      "cell_type": "markdown",
      "source": [
        "### Python Program to Find if a Number is Prime or Not Prime Using Recursion"
      ],
      "metadata": {
        "id": "0LJ0PSHg1Rkk"
      }
    },
    {
      "cell_type": "code",
      "source": [
        "def prime(n):\n",
        "  for i in range(2, int(n**(1/2)) + 1):\n",
        "    if n%i == 0:\n",
        "      return False\n",
        "    else:\n",
        "      return True"
      ],
      "metadata": {
        "id": "rbarGKau1R-E"
      },
      "execution_count": 21,
      "outputs": []
    },
    {
      "cell_type": "code",
      "source": [
        "def main():\n",
        "  n = int(input(\"Enter a Number: \"))\n",
        "  print(\"\\nIs the NUMBER {} PRIME: {}\".format(n, prime(n)))\n",
        "\n",
        "if __name__ == \"__main__\":\n",
        "  main()"
      ],
      "metadata": {
        "colab": {
          "base_uri": "https://localhost:8080/"
        },
        "id": "h9XZzRtT-Ouk",
        "outputId": "ec671db9-a543-4ab2-c319-e472fa8dc7a6"
      },
      "execution_count": 12,
      "outputs": [
        {
          "output_type": "stream",
          "name": "stdout",
          "text": [
            "Enter a Number: 101\n",
            "\n",
            "Is the NUMBER 101 PRIME: True\n"
          ]
        }
      ]
    },
    {
      "cell_type": "markdown",
      "source": [
        "### Python Program to Find the Product of two Numbers Using Recursion"
      ],
      "metadata": {
        "id": "HqGCVzWK1SWK"
      }
    },
    {
      "cell_type": "code",
      "source": [
        "def product(x, n):\n",
        "  if n==1:\n",
        "    return x\n",
        "  else:\n",
        "    return x + product(x, n-1)"
      ],
      "metadata": {
        "id": "1QJnoSse-ids"
      },
      "execution_count": null,
      "outputs": []
    },
    {
      "cell_type": "code",
      "source": [
        "def main():\n",
        "  x = int(input(\"Enter First Number: \"))\n",
        "  n = int(input(\"Enter Second Number: \"))\n",
        "  print(\"\\nPRODUCT NUMBER {} and {} USING RECURSION: {}\".format(x, n, product(x, n)))\n",
        "  \n",
        "if __name__ == \"__main__\":\n",
        "  main()"
      ],
      "metadata": {
        "colab": {
          "base_uri": "https://localhost:8080/"
        },
        "outputId": "96a06dc6-4fbf-4996-812c-2fa4ced749d7",
        "id": "sGXp_eMv-idt"
      },
      "execution_count": null,
      "outputs": [
        {
          "output_type": "stream",
          "name": "stdout",
          "text": [
            "Enter First Number: 23\n",
            "Enter Second Number: 3\n",
            "\n",
            "PRODUCT NUMBER 23 and 3 USING RECURSION: 69\n"
          ]
        }
      ]
    },
    {
      "cell_type": "markdown",
      "source": [
        "### Python Program to Find the Power of a Number Using Recursion"
      ],
      "metadata": {
        "id": "5_iLFYsy1S5v"
      }
    },
    {
      "cell_type": "code",
      "source": [
        "def power(x, n):\n",
        "  if n==0:\n",
        "    return 1\n",
        "  else:\n",
        "    return x*power(x, n-1)"
      ],
      "metadata": {
        "colab": {
          "base_uri": "https://localhost:8080/"
        },
        "id": "d0vOGoy_9lQ8",
        "outputId": "a357842a-8f5a-4720-9839-6ba39f9c75bd"
      },
      "execution_count": null,
      "outputs": [
        {
          "output_type": "execute_result",
          "data": {
            "text/plain": [
              "16"
            ]
          },
          "metadata": {},
          "execution_count": 126
        }
      ]
    },
    {
      "cell_type": "code",
      "source": [
        "def main():\n",
        "  x = int(input(\"Enter a Number: \"))\n",
        "  n = int(input(\"Enter a Power: \"))\n",
        "  print(\"\\nPOWER OF A NUMBER {} USING RECURSION: {}\".format(x, power(x, n)))\n",
        "  \n",
        "if __name__ == \"__main__\":\n",
        "  main()"
      ],
      "metadata": {
        "colab": {
          "base_uri": "https://localhost:8080/"
        },
        "outputId": "5f97d021-ff50-419b-e3ca-dbc4d34d1b10",
        "id": "EHejiHAf9lQ8"
      },
      "execution_count": null,
      "outputs": [
        {
          "output_type": "stream",
          "name": "stdout",
          "text": [
            "Enter a Number: 2\n",
            "Enter a Power: 5\n",
            "POWER OF A NUMBER 2 USING RECURSION: 32\n"
          ]
        }
      ]
    },
    {
      "cell_type": "markdown",
      "source": [
        "### Python Program to Check Whether a String is a Palindrome or not Using Recursion"
      ],
      "metadata": {
        "id": "C971g75K1Tas"
      }
    },
    {
      "cell_type": "code",
      "source": [
        "def palindrome(s, x, l):\n",
        "  if s[-1] != x[0]:\n",
        "    return False\n",
        "  elif s[-1] == x[0] and len(s) == 2:\n",
        "    return True\n",
        "  else:\n",
        "    return palindrome(s[:-1:], x[1::], len(s))"
      ],
      "metadata": {
        "id": "aKUAh7ZV1Tx5"
      },
      "execution_count": null,
      "outputs": []
    },
    {
      "cell_type": "code",
      "source": [
        "def main():\n",
        "  s = input(\"Enter a String: \")\n",
        "  print(\"\\nSTRING PALINDROME: {}\".format(palindrome(s, s[::-1], len(s))))\n",
        "\n",
        "if __name__ == \"__main__\":\n",
        "  main()"
      ],
      "metadata": {
        "colab": {
          "base_uri": "https://localhost:8080/"
        },
        "id": "kDwVCRQVBpo0",
        "outputId": "0e6a57c1-9d5d-44a7-9cb0-0ba6cdce6436"
      },
      "execution_count": null,
      "outputs": [
        {
          "output_type": "stream",
          "name": "stdout",
          "text": [
            "Enter a String: goog\n",
            "\n",
            "STRING PALINDROME: True\n"
          ]
        }
      ]
    },
    {
      "cell_type": "markdown",
      "source": [
        "### Python Program to Reverse a String Using Recursion"
      ],
      "metadata": {
        "id": "H5BSekwR1UEr"
      }
    },
    {
      "cell_type": "code",
      "source": [
        "def reverse(l, s):\n",
        "  if len(s) == 0:\n",
        "    return \"\"\n",
        "  else:\n",
        "    return s[-1] + reverse(len(s), s[:-1])"
      ],
      "metadata": {
        "id": "GXyZwR3GT-FD"
      },
      "execution_count": null,
      "outputs": []
    },
    {
      "cell_type": "code",
      "source": [
        "def main():\n",
        "  s = input(\"Enter a String: \")\n",
        "  print(\"\\nORIGINAL STRNG: {}\\nREVERSAL STRING: {}\".format(s, reverse(len(s), s)))\n",
        "  \n",
        "if __name__ == \"__main__\":\n",
        "  main()"
      ],
      "metadata": {
        "id": "ojShuGyN1UT5",
        "colab": {
          "base_uri": "https://localhost:8080/"
        },
        "outputId": "9cd9c219-8f39-4126-abda-7e52a792c902"
      },
      "execution_count": null,
      "outputs": [
        {
          "output_type": "stream",
          "name": "stdout",
          "text": [
            "Enter a String: hello\n",
            "\n",
            "ORIGINAL STRNG: hello\n",
            "REVERSAL STRING: olleh\n"
          ]
        }
      ]
    },
    {
      "cell_type": "markdown",
      "source": [
        "### Python Program to Flatten a Nested List using Recursion"
      ],
      "metadata": {
        "id": "HqRlh_OP1l91"
      }
    },
    {
      "cell_type": "code",
      "source": [
        "import numpy as np\n",
        "import random"
      ],
      "metadata": {
        "id": "KF9r4_E7YfLB"
      },
      "execution_count": null,
      "outputs": []
    },
    {
      "cell_type": "code",
      "source": [
        "def flatten(nl, l):\n",
        "  if len(l) == 0:\n",
        "    pass\n",
        "  else:\n",
        "    for i in l[0]:\n",
        "      nl.append(i)\n",
        "      \n",
        "    flatten(nl, l[1:][:])\n",
        "\n",
        "  return nl"
      ],
      "metadata": {
        "id": "gexG3SMEYfOZ"
      },
      "execution_count": null,
      "outputs": []
    },
    {
      "cell_type": "code",
      "source": [
        "def main():\n",
        "  r = int(input(\"No.of Rows: \"))\n",
        "  c = int(input(\"No.of Columns: \"))\n",
        "  l = np.reshape([random.randint(0, r*c) for i in range(r*c)], (r, c)).tolist()\n",
        "  print(\"\\nRANDOMLY CREATED LIST: {}\".format(l))\n",
        "  print(\"\\nFLATTENED NESTED LIST: {}\".format(flatten([], l)))\n",
        "  \n",
        "if __name__ == \"__main__\":\n",
        "  main()"
      ],
      "metadata": {
        "id": "FAb9jeaR1mOA",
        "colab": {
          "base_uri": "https://localhost:8080/"
        },
        "outputId": "2cd1d000-2943-45fc-965d-85e81219059c"
      },
      "execution_count": null,
      "outputs": [
        {
          "output_type": "stream",
          "name": "stdout",
          "text": [
            "No.of Rows: 3\n",
            "No.of Columns: 4\n",
            "\n",
            "RANDOMLY CREATED LIST: [[5, 1, 9, 12], [12, 6, 1, 3], [4, 3, 6, 12]]\n",
            "\n",
            "FLATTENED NESTED LIST: [5, 1, 9, 12, 12, 6, 1, 3, 4, 3, 6, 12]\n"
          ]
        }
      ]
    },
    {
      "cell_type": "markdown",
      "source": [
        "### Python Program to Find the Total Sum of a Nested List Using Recursion"
      ],
      "metadata": {
        "id": "4KXAIF9q1mjx"
      }
    },
    {
      "cell_type": "code",
      "source": [
        "import numpy as np\n",
        "import random"
      ],
      "metadata": {
        "id": "AcjtAVIZ1mxH"
      },
      "execution_count": null,
      "outputs": []
    },
    {
      "cell_type": "code",
      "source": [
        "def total(nl, l):\n",
        "  if len(l) == 0:\n",
        "    pass\n",
        "  else:\n",
        "    for i in l[0]:\n",
        "      nl.append(i)\n",
        "      \n",
        "    total(nl, l[1:][:])\n",
        "\n",
        "  return sum(nl)"
      ],
      "metadata": {
        "id": "WlECKAtVXkUP"
      },
      "execution_count": null,
      "outputs": []
    },
    {
      "cell_type": "code",
      "source": [
        "def main():\n",
        "  r = int(input(\"No.of Rows: \"))\n",
        "  c = int(input(\"No.of Columns: \"))\n",
        "  l = np.reshape([random.randint(0, r*c) for i in range(r*c)], (r, c)).tolist()\n",
        "  print(\"\\nRANDOMLY CREATED LIST: {}\".format(l))\n",
        "  print(\"\\nSUM OF NESTED LIST: {}\".format(total([], l)))\n",
        "  \n",
        "if __name__ == \"__main__\":\n",
        "  main()"
      ],
      "metadata": {
        "colab": {
          "base_uri": "https://localhost:8080/"
        },
        "outputId": "141bb811-dfb3-4c42-d28f-c2933a421259",
        "id": "IVDUXs6OXkUS"
      },
      "execution_count": null,
      "outputs": [
        {
          "output_type": "stream",
          "name": "stdout",
          "text": [
            "No.of Rows: 4\n",
            "No.of Columns: 5\n",
            "\n",
            "RANDOMLY CREATED LIST: [[14, 3, 3, 1, 6], [2, 4, 2, 20, 5], [1, 5, 20, 6, 19], [5, 5, 14, 3, 16]]\n",
            "\n",
            "SUM OF NESTED LIST: 154\n"
          ]
        }
      ]
    },
    {
      "cell_type": "markdown",
      "source": [
        "### Python Program to Find the Length of a List Using Recursion"
      ],
      "metadata": {
        "id": "XmD_wnsh1u2y"
      }
    },
    {
      "cell_type": "code",
      "source": [
        "def leng(length, l):\n",
        "  if len(l) == 0:\n",
        "    return length\n",
        "  else:\n",
        "    length += 1\n",
        "    return leng(length, l[:-1])"
      ],
      "metadata": {
        "id": "z_1mHZMDYAlg"
      },
      "execution_count": null,
      "outputs": []
    },
    {
      "cell_type": "code",
      "source": [
        "def main():\n",
        "  l = [int(i) for i in input(\"ENTER NUMBERS: \").split()]\n",
        "  print(\"\\nLENGTH OF LIST: {}\".format(leng(0, l)))\n",
        "  \n",
        "if __name__ == \"__main__\":\n",
        "  main()"
      ],
      "metadata": {
        "colab": {
          "base_uri": "https://localhost:8080/"
        },
        "outputId": "54696255-11e0-4887-f8ee-574a450dc46f",
        "id": "Rk1EwHbvYAlg"
      },
      "execution_count": null,
      "outputs": [
        {
          "output_type": "stream",
          "name": "stdout",
          "text": [
            "ENTER NUMBERS: 1 2 3 4 5\n",
            "\n",
            "LENGTH OF LIST: 5\n"
          ]
        }
      ]
    },
    {
      "cell_type": "markdown",
      "metadata": {
        "id": "Jds1OgibXmJv"
      },
      "source": [
        "# Without Recursions\n",
        "\n"
      ]
    },
    {
      "cell_type": "markdown",
      "source": [
        "### Python Program to Find the Fibonacci Series without Using Recursion"
      ],
      "metadata": {
        "id": "jLlpkF1QPwT0"
      }
    },
    {
      "cell_type": "code",
      "source": [
        "def fib(n):\n",
        "  a = 1\n",
        "  b = 1\n",
        "  print(\"\\nSERIES: \", a, end= \" \")\n",
        "  print(b, end = \" \")\n",
        "\n",
        "  for i in range(n-2):\n",
        "    c = a + b\n",
        "    print(c, end = \" \")\n",
        "    a = b\n",
        "    b = c\n",
        "    c = a + b"
      ],
      "metadata": {
        "id": "SLGdZvbhPwh3"
      },
      "execution_count": null,
      "outputs": []
    },
    {
      "cell_type": "code",
      "source": [
        "def main():\n",
        "  n = int(input(\"Enter Desired Iteration: \"))\n",
        "  fib(n)\n",
        "\n",
        "if __name__ == \"__main__\":\n",
        "  main()"
      ],
      "metadata": {
        "colab": {
          "base_uri": "https://localhost:8080/"
        },
        "id": "d980GaLGD8h0",
        "outputId": "721822c8-12cd-4646-facf-707fdbe60196"
      },
      "execution_count": null,
      "outputs": [
        {
          "output_type": "stream",
          "name": "stdout",
          "text": [
            "Enter Desired Iteration: 6\n",
            "\n",
            "SERIES:  1 1 2 3 5 8 "
          ]
        }
      ]
    },
    {
      "cell_type": "markdown",
      "source": [
        "###  Python Program to find the factorial of a number without recursion"
      ],
      "metadata": {
        "id": "DKGygWPMPwyt"
      }
    },
    {
      "cell_type": "code",
      "source": [
        "def factorial(n):\n",
        "  sum = 1\n",
        "  for i in range(1, n+1):\n",
        "    sum *=i\n",
        "  return sum"
      ],
      "metadata": {
        "id": "DSryRwRPPxC3"
      },
      "execution_count": null,
      "outputs": []
    },
    {
      "cell_type": "code",
      "source": [
        "def main():\n",
        "  n = int(input(\"Enter Desired Iteration: \"))\n",
        "  print(\"\\nFACTORIAL of {}: {}\".format(n, factorial(n)))\n",
        "\n",
        "if __name__ == \"__main__\":\n",
        "  main()"
      ],
      "metadata": {
        "colab": {
          "base_uri": "https://localhost:8080/"
        },
        "id": "0HYqRDf0H46t",
        "outputId": "d6e7c02d-9c2d-4f43-caee-6de54e6b856e"
      },
      "execution_count": null,
      "outputs": [
        {
          "output_type": "stream",
          "name": "stdout",
          "text": [
            "Enter Desired Iteration: 4\n",
            "\n",
            "FACTORIAL of 4: 24\n"
          ]
        }
      ]
    },
    {
      "cell_type": "markdown",
      "source": [
        "### Python Program to Flatten a List without using Recursion"
      ],
      "metadata": {
        "id": "H7HCuv59PxRA"
      }
    },
    {
      "cell_type": "code",
      "source": [
        "def flatten(l):\n",
        "  flat = []\n",
        "  for i in l:\n",
        "    for k in i:\n",
        "      flat.append(k)\n",
        "\n",
        "  return flat"
      ],
      "metadata": {
        "id": "5yy37iiaPxek"
      },
      "execution_count": null,
      "outputs": []
    },
    {
      "cell_type": "code",
      "source": [
        "import numpy as np\n",
        "import random\n",
        "\n",
        "def main():\n",
        "  r = int(input(\"No.of Rows: \"))\n",
        "  c = int(input(\"No.of Columns: \"))\n",
        "  l = np.reshape([random.randint(0, r*c) for i in range(r*c)], (r, c)).tolist()\n",
        "  print(\"\\nRANDOMLY CREATED LIST: {}\".format(l))\n",
        "  print(\"\\nFLATTENED NESTED LIST: {}\".format(flatten(l)))\n",
        "  \n",
        "if __name__ == \"__main__\":\n",
        "  main()"
      ],
      "metadata": {
        "colab": {
          "base_uri": "https://localhost:8080/"
        },
        "id": "CSjD7cJoH5wT",
        "outputId": "d927d050-9412-4116-9f22-9b10c9662273"
      },
      "execution_count": null,
      "outputs": [
        {
          "output_type": "stream",
          "name": "stdout",
          "text": [
            "No.of Rows: 3\n",
            "No.of Columns: 3\n",
            "\n",
            "RANDOMLY CREATED LIST: [[6, 5, 3], [7, 6, 4], [0, 9, 4]]\n",
            "\n",
            "FLATTENED NESTED LIST: [6, 5, 3, 7, 6, 4, 0, 9, 4]\n"
          ]
        }
      ]
    },
    {
      "cell_type": "markdown",
      "source": [
        "### Python Program to Reverse a String without using Recursion"
      ],
      "metadata": {
        "id": "QS6GTrEnPx2b"
      }
    },
    {
      "cell_type": "code",
      "source": [
        "def reverse(s):\n",
        "  return s[::-1]"
      ],
      "metadata": {
        "id": "46MLE774PyTA"
      },
      "execution_count": null,
      "outputs": []
    },
    {
      "cell_type": "code",
      "source": [
        "def main():\n",
        "  s = input(\"Enter a String: \")\n",
        "  print(\"\\nSTRING REVERSAL: {}\".format(reverse(s)))\n",
        "\n",
        "if __name__ == \"__main__\":\n",
        "  main()"
      ],
      "metadata": {
        "colab": {
          "base_uri": "https://localhost:8080/"
        },
        "id": "4SCfHl8yH6hp",
        "outputId": "7efce131-da9b-46a5-ecaf-ac15e1176004"
      },
      "execution_count": null,
      "outputs": [
        {
          "output_type": "stream",
          "name": "stdout",
          "text": [
            "Enter a String: hello\n",
            "\n",
            "STRING REVERSAL: olleh\n"
          ]
        }
      ]
    },
    {
      "cell_type": "markdown",
      "source": [
        "### Python Program to Find the Binary Equivalent of a Number without Using Recursion"
      ],
      "metadata": {
        "id": "kre7mG0mP8SL"
      }
    },
    {
      "cell_type": "code",
      "source": [
        "def binary(n):\n",
        "  sum = \"\"\n",
        "  while(n!=0):\n",
        "    sum += str(n%2)\n",
        "    n = n//2\n",
        "  \n",
        "  return sum[::-1]"
      ],
      "metadata": {
        "id": "ra2P-mU6P8dw"
      },
      "execution_count": null,
      "outputs": []
    },
    {
      "cell_type": "code",
      "source": [
        "def main():\n",
        "  n = int(input(\"Enter a Number: \"))\n",
        "  print(\"\\nBINARY EQUIVALENT of {}: {}\".format(n, binary(n)))\n",
        "\n",
        "if __name__ == \"__main__\":\n",
        "  main()"
      ],
      "metadata": {
        "colab": {
          "base_uri": "https://localhost:8080/"
        },
        "id": "gq04x_PkH7NQ",
        "outputId": "4f90e86e-0fc9-446d-a69c-35716f0a127f"
      },
      "execution_count": null,
      "outputs": [
        {
          "output_type": "stream",
          "name": "stdout",
          "text": [
            "Enter a Number: 8\n",
            "\n",
            "BINARY EQUIVALENT of 8: 1000\n"
          ]
        }
      ]
    },
    {
      "cell_type": "markdown",
      "source": [
        "### Python Program to Find All Numbers which are Odd and Palindromes Between a Range of Numbers without using Recursion"
      ],
      "metadata": {
        "id": "2hYOZ1D-P8p9"
      }
    },
    {
      "cell_type": "code",
      "source": [
        "def palindrome(odd):\n",
        "  num = []\n",
        "  for i in odd:\n",
        "    if str(i) == str(i)[::-1]:\n",
        "      num.append(i)\n",
        "       \n",
        "  return num\n",
        "  \n",
        "def odd(x, z):\n",
        "  odd = []\n",
        "  for i in range(x, z):\n",
        "    if i%2!=0:\n",
        "      odd.append(i)\n",
        "    \n",
        "  return palindrome(odd)"
      ],
      "metadata": {
        "id": "fdcwZY-IP817"
      },
      "execution_count": null,
      "outputs": []
    },
    {
      "cell_type": "code",
      "source": [
        "def main():\n",
        "  x, z = [int(i) for i in input(\"Enter a Range: \").split(\" \")]\n",
        "  \n",
        "  print(\"\\nLIST OF ODD PALINDROMES: {}\".format(odd(x, z)))\n",
        "  #print(\"\\nODD NUMBERS: {}.format()\".format(odd(n)))\n",
        "  \n",
        "if __name__ == \"__main__\":\n",
        "  main()"
      ],
      "metadata": {
        "colab": {
          "base_uri": "https://localhost:8080/"
        },
        "id": "TCDO64XOH8GX",
        "outputId": "beb89730-6a46-45c3-c527-c4cbeb93217c"
      },
      "execution_count": null,
      "outputs": [
        {
          "output_type": "stream",
          "name": "stdout",
          "text": [
            "Enter a Range: 10 50\n",
            "\n",
            "LIST OF ODD PALINDROMES: [11, 33]\n"
          ]
        }
      ]
    },
    {
      "cell_type": "markdown",
      "source": [
        "### Python Program to Find the Sum of Digits in a Number without Recursion"
      ],
      "metadata": {
        "id": "VQ2CUMAnQDjJ"
      }
    },
    {
      "cell_type": "code",
      "metadata": {
        "id": "6kp4MvIacVq7"
      },
      "source": [
        "def digits(n):\n",
        "  sum = 0\n",
        "  for i in n:\n",
        "    sum += int(i)\n",
        "\n",
        "  return sum"
      ],
      "execution_count": null,
      "outputs": []
    },
    {
      "cell_type": "code",
      "source": [
        "def main():\n",
        "  n = input(\"Enter a NUMBER: \")\n",
        "  print(\"\\nSUM OF DIGITS: {}\".format(digits(n)))\n",
        "\n",
        "if __name__ == \"__main__\":\n",
        "  main()"
      ],
      "metadata": {
        "colab": {
          "base_uri": "https://localhost:8080/"
        },
        "id": "K_eW7w0lH9AP",
        "outputId": "b7d1e3cf-73b4-4801-ea77-da63dff9ca52"
      },
      "execution_count": null,
      "outputs": [
        {
          "output_type": "stream",
          "name": "stdout",
          "text": [
            "Enter a NUMBER: 123\n",
            "\n",
            "SUM OF DIGITS: 6\n"
          ]
        }
      ]
    },
    {
      "cell_type": "markdown",
      "metadata": {
        "id": "ITYBJ3TuXrAm"
      },
      "source": [
        "# File Handling\n",
        "\n"
      ]
    },
    {
      "cell_type": "markdown",
      "source": [
        "### Python Program to Read the Contents of a File"
      ],
      "metadata": {
        "id": "dYBmeYRdWFyD"
      }
    },
    {
      "cell_type": "code",
      "source": [
        "def file():\n",
        "  f = open(\"file.txt\",\"w+\")\n",
        "  f.write(input(\"Add Text to File: \"))\n",
        "  f.close()\n",
        "\n",
        "  line = open(\"file.txt\", \"rt\")\n",
        "  #lines = f.readlines()\n",
        "\n",
        "  return line.read()"
      ],
      "metadata": {
        "id": "WpipJno3WGHy"
      },
      "execution_count": 3,
      "outputs": []
    },
    {
      "cell_type": "code",
      "source": [
        "def main():\n",
        "  print(\"\\nTEXT: {}\".format(file()))\n",
        "\n",
        "if __name__ == \"__main__\":\n",
        "  main()"
      ],
      "metadata": {
        "colab": {
          "base_uri": "https://localhost:8080/"
        },
        "id": "vd70KZU3T4oF",
        "outputId": "cebaa8da-0b3e-45bf-e6a9-0b71b11cf711"
      },
      "execution_count": 4,
      "outputs": [
        {
          "output_type": "stream",
          "name": "stdout",
          "text": [
            "Add Text to File: Hello World\n",
            "\n",
            "TEXT: Hello World\n"
          ]
        }
      ]
    },
    {
      "cell_type": "markdown",
      "source": [
        "### Python Program to Count the Number of Words in a Text File"
      ],
      "metadata": {
        "id": "oexKIIWFWGUD"
      }
    },
    {
      "cell_type": "code",
      "source": [
        "def file():\n",
        "  f = open(\"file.txt\",\"w+\")\n",
        "  f.write(input(\"Add Text to File: \"))\n",
        "  f.close()\n",
        "\n",
        "  line = open(\"file.txt\", \"rt\")\n",
        "  #lines = f.readlines()\n",
        "\n",
        "  return len(line.read().split())"
      ],
      "metadata": {
        "id": "Prh8tFsXWGfr"
      },
      "execution_count": 3,
      "outputs": []
    },
    {
      "cell_type": "code",
      "source": [
        "def main():\n",
        "  print(\"\\nTOTAL WORDS IN THE TEXT FILE: {}\".format(file()))\n",
        "\n",
        "if __name__ == \"__main__\":\n",
        "  main()"
      ],
      "metadata": {
        "colab": {
          "base_uri": "https://localhost:8080/"
        },
        "id": "F147SkLYPSfg",
        "outputId": "b34e1fa4-c843-4bf0-d1fa-7b660bf5171b"
      },
      "execution_count": 4,
      "outputs": [
        {
          "output_type": "stream",
          "name": "stdout",
          "text": [
            "Add Text to File: Hello World \n",
            "\n",
            "TOTAL WORDS IN THE TEXT FILE: 2\n"
          ]
        }
      ]
    },
    {
      "cell_type": "markdown",
      "source": [
        "### Python Program to Count the Number of Lines in a Text File"
      ],
      "metadata": {
        "id": "_l_M9cPGWGrQ"
      }
    },
    {
      "cell_type": "code",
      "source": [
        "def file():\n",
        "  f = open(\"file.txt\",\"w+\")\n",
        "  f.write(input(\"Add Text to File: \"))\n",
        "  f.close()\n",
        "\n",
        "  line = open(\"file.txt\", \"rt\")\n",
        "  #lines = f.readlines()\n",
        "\n",
        "  return len(line.read().split(\"\\n\"))"
      ],
      "metadata": {
        "id": "o4PW0LjXWG2N"
      },
      "execution_count": 5,
      "outputs": []
    },
    {
      "cell_type": "code",
      "source": [
        "def main():\n",
        "  print(\"\\nTOTAL LINES IN THE TEXT FILE: {}\".format(file()))\n",
        "\n",
        "if __name__ == \"__main__\":\n",
        "  main()"
      ],
      "metadata": {
        "colab": {
          "base_uri": "https://localhost:8080/"
        },
        "id": "bTGMkgFfPPC4",
        "outputId": "fd9caab8-b5dc-4f47-ddc5-03e9c284a873"
      },
      "execution_count": 6,
      "outputs": [
        {
          "output_type": "stream",
          "name": "stdout",
          "text": [
            "Add Text to File: 1. An individual thing or element of a class; a particular object or item: an article of clothing; articles of food. 2. A particular section or item of a series in a written document, as in a contract, constitution, or treaty. 3. A nonfictional literary composition that forms an independent part of a publication, as of a newspaper or magazine. 4. Grammar a. The part of speech used to indicate nouns and to specify their application. b. Any of the words belonging to this part of speech. In English, the indefinite articles are a and an and the definite article is the. 5. A particular part or subject; a specific matter or point. tr.v. ar·ti·cled, ar·ti·cling, ar·ti·cles To bind by articles set forth in a contract, such as one of apprenticeship.\n",
            "\n",
            "TOTAL LINES IN THE TEXT FILE: 1\n"
          ]
        }
      ]
    },
    {
      "cell_type": "markdown",
      "source": [
        "### Python Program to Read a String from the User and Append it into a File"
      ],
      "metadata": {
        "id": "eVq1kQLnWHA5"
      }
    },
    {
      "cell_type": "code",
      "source": [
        "def append():\n",
        "  return input(\" Enter a String: \")\n",
        "  \n",
        "def file():\n",
        "  f = open(\"file.txt\",\"w+\")\n",
        "  f.write(input(\"Add Text to File: \"))\n",
        "  return f.write(append())"
      ],
      "metadata": {
        "id": "1apYja2fWHMS"
      },
      "execution_count": 7,
      "outputs": []
    },
    {
      "cell_type": "code",
      "source": [
        "def main():\n",
        "  print(\"\\nNEW SENTENCE: {}\".format(append(file())))\n",
        "\n",
        "if __name__ == \"__main__\":\n",
        "  main()"
      ],
      "metadata": {
        "colab": {
          "base_uri": "https://localhost:8080/",
          "height": 371
        },
        "id": "NWr_tPZmRssY",
        "outputId": "4ef59fb7-6f3e-4add-9b4a-95f69686ff7b"
      },
      "execution_count": 11,
      "outputs": [
        {
          "name": "stdout",
          "output_type": "stream",
          "text": [
            "Add Text to File: hello\n",
            " Enter a String: world\n"
          ]
        },
        {
          "output_type": "error",
          "ename": "TypeError",
          "evalue": "ignored",
          "traceback": [
            "\u001b[0;31m---------------------------------------------------------------------------\u001b[0m",
            "\u001b[0;31mTypeError\u001b[0m                                 Traceback (most recent call last)",
            "\u001b[0;32m<ipython-input-11-9859d053c27b>\u001b[0m in \u001b[0;36m<module>\u001b[0;34m()\u001b[0m\n\u001b[1;32m      3\u001b[0m \u001b[0;34m\u001b[0m\u001b[0m\n\u001b[1;32m      4\u001b[0m \u001b[0;32mif\u001b[0m \u001b[0m__name__\u001b[0m \u001b[0;34m==\u001b[0m \u001b[0;34m\"__main__\"\u001b[0m\u001b[0;34m:\u001b[0m\u001b[0;34m\u001b[0m\u001b[0;34m\u001b[0m\u001b[0m\n\u001b[0;32m----> 5\u001b[0;31m   \u001b[0mmain\u001b[0m\u001b[0;34m(\u001b[0m\u001b[0;34m)\u001b[0m\u001b[0;34m\u001b[0m\u001b[0;34m\u001b[0m\u001b[0m\n\u001b[0m",
            "\u001b[0;32m<ipython-input-11-9859d053c27b>\u001b[0m in \u001b[0;36mmain\u001b[0;34m()\u001b[0m\n\u001b[1;32m      1\u001b[0m \u001b[0;32mdef\u001b[0m \u001b[0mmain\u001b[0m\u001b[0;34m(\u001b[0m\u001b[0;34m)\u001b[0m\u001b[0;34m:\u001b[0m\u001b[0;34m\u001b[0m\u001b[0;34m\u001b[0m\u001b[0m\n\u001b[0;32m----> 2\u001b[0;31m   \u001b[0mprint\u001b[0m\u001b[0;34m(\u001b[0m\u001b[0;34m\"\\nNEW SENTENCE: {}\"\u001b[0m\u001b[0;34m.\u001b[0m\u001b[0mformat\u001b[0m\u001b[0;34m(\u001b[0m\u001b[0mappend\u001b[0m\u001b[0;34m(\u001b[0m\u001b[0mfile\u001b[0m\u001b[0;34m(\u001b[0m\u001b[0;34m)\u001b[0m\u001b[0;34m)\u001b[0m\u001b[0;34m)\u001b[0m\u001b[0;34m)\u001b[0m\u001b[0;34m\u001b[0m\u001b[0;34m\u001b[0m\u001b[0m\n\u001b[0m\u001b[1;32m      3\u001b[0m \u001b[0;34m\u001b[0m\u001b[0m\n\u001b[1;32m      4\u001b[0m \u001b[0;32mif\u001b[0m \u001b[0m__name__\u001b[0m \u001b[0;34m==\u001b[0m \u001b[0;34m\"__main__\"\u001b[0m\u001b[0;34m:\u001b[0m\u001b[0;34m\u001b[0m\u001b[0;34m\u001b[0m\u001b[0m\n\u001b[1;32m      5\u001b[0m   \u001b[0mmain\u001b[0m\u001b[0;34m(\u001b[0m\u001b[0;34m)\u001b[0m\u001b[0;34m\u001b[0m\u001b[0;34m\u001b[0m\u001b[0m\n",
            "\u001b[0;31mTypeError\u001b[0m: append() takes 0 positional arguments but 1 was given"
          ]
        }
      ]
    },
    {
      "cell_type": "markdown",
      "source": [
        "### Python Program to Count the Occurrences of a Word in a Text File"
      ],
      "metadata": {
        "id": "XZgxnvG7WHa9"
      }
    },
    {
      "cell_type": "code",
      "source": [
        ""
      ],
      "metadata": {
        "id": "0pcynHqzWHot"
      },
      "execution_count": null,
      "outputs": []
    },
    {
      "cell_type": "code",
      "source": [
        "def main():\n",
        "  print(\"\\nTOTAL LINES IN THE TEXT FILE: {}\".format(file()))\n",
        "\n",
        "if __name__ == \"__main__\":\n",
        "  main()"
      ],
      "metadata": {
        "id": "mmhYaen9Rt3x"
      },
      "execution_count": null,
      "outputs": []
    },
    {
      "cell_type": "markdown",
      "source": [
        "### Python Program to Copy the Contents of One File into Another"
      ],
      "metadata": {
        "id": "M8dT6XG_WIDd"
      }
    },
    {
      "cell_type": "code",
      "source": [
        ""
      ],
      "metadata": {
        "id": "IfERkMP6WIQS"
      },
      "execution_count": null,
      "outputs": []
    },
    {
      "cell_type": "markdown",
      "source": [
        "### Python Program that Reads a Text File and Counts the Number of Times a Certain Letter Appears in the Text File"
      ],
      "metadata": {
        "id": "mCpit8TTWcGK"
      }
    },
    {
      "cell_type": "code",
      "source": [
        ""
      ],
      "metadata": {
        "id": "-sDNrPMHWcXP"
      },
      "execution_count": null,
      "outputs": []
    },
    {
      "cell_type": "markdown",
      "source": [
        "### Python Program to Read a Text File and Print all the Numbers Present in the Text File"
      ],
      "metadata": {
        "id": "unciv5sWWciH"
      }
    },
    {
      "cell_type": "code",
      "source": [
        ""
      ],
      "metadata": {
        "id": "fdiMmgF2Wctp"
      },
      "execution_count": null,
      "outputs": []
    },
    {
      "cell_type": "markdown",
      "source": [
        "### Python Program to Append the Contents of One File to Another File"
      ],
      "metadata": {
        "id": "qXCYIS3tWc4j"
      }
    },
    {
      "cell_type": "code",
      "source": [
        ""
      ],
      "metadata": {
        "id": "ASB9XNDNWdEB"
      },
      "execution_count": null,
      "outputs": []
    },
    {
      "cell_type": "markdown",
      "source": [
        "### Python Program to Count the Number of Blank Spaces in a Text File"
      ],
      "metadata": {
        "id": "3-TCNyBAWdPp"
      }
    },
    {
      "cell_type": "code",
      "source": [
        ""
      ],
      "metadata": {
        "id": "TYaPCDcDWda5"
      },
      "execution_count": null,
      "outputs": []
    },
    {
      "cell_type": "markdown",
      "source": [
        "### Python Program to Read a File and Capitalize the First Letter of Every Word in the File"
      ],
      "metadata": {
        "id": "vflZOeSvWeHM"
      }
    },
    {
      "cell_type": "code",
      "source": [
        ""
      ],
      "metadata": {
        "id": "zHukIsO9WeSg"
      },
      "execution_count": null,
      "outputs": []
    },
    {
      "cell_type": "markdown",
      "source": [
        "### Python Program to Read the Contents of a File in Reverse Order"
      ],
      "metadata": {
        "id": "UrvOWBvLWqyt"
      }
    },
    {
      "cell_type": "code",
      "metadata": {
        "id": "il0V4g8kcXlm"
      },
      "source": [
        ""
      ],
      "execution_count": null,
      "outputs": []
    },
    {
      "cell_type": "markdown",
      "metadata": {
        "id": "GZnnNaZlXwwa"
      },
      "source": [
        "# Class and Objects\n",
        "\n"
      ]
    },
    {
      "cell_type": "code",
      "metadata": {
        "id": "7DSpoYcncZVd"
      },
      "source": [
        "Python Program to Find the Area of a Rectangle Using Classes\n",
        "Python Program to Append, Delete and Display Elements of a List Using Classes\n",
        "Python Program to Create a Class and Compute the Area and the Perimeter of the Circle\n",
        "Python Program to Create a Class which Performs Basic Calculator Operations\n",
        "Python Program to Create a Class in which One Method Accepts a String from the User and Another Prints it\n",
        "Python Program to Create a Class and Get All Possible Subsets from a Set of Distinct Integers"
      ],
      "execution_count": null,
      "outputs": []
    },
    {
      "cell_type": "markdown",
      "metadata": {
        "id": "kQwlpWZyXUTi"
      },
      "source": [
        "# Linked Lists\n",
        "\n",
        "https://www.sanfoundry.com/python-programming-examples-linked-lists/"
      ]
    },
    {
      "cell_type": "markdown",
      "metadata": {
        "id": "I277B31BYQCJ"
      },
      "source": [
        "# Stack and Queues\n",
        "\n",
        "https://www.sanfoundry.com/python-programming-examples-stacks-queues/"
      ]
    },
    {
      "cell_type": "markdown",
      "metadata": {
        "id": "37YTSFxlYVsD"
      },
      "source": [
        "# Searching and Sorting\n",
        "\n",
        "https://www.sanfoundry.com/python-programming-examples-searching-sorting/"
      ]
    },
    {
      "cell_type": "markdown",
      "metadata": {
        "id": "EEsSznqpYZ2c"
      },
      "source": [
        "# Trees\n",
        "\n",
        "https://www.sanfoundry.com/python-programming-examples-trees/"
      ]
    },
    {
      "cell_type": "markdown",
      "metadata": {
        "id": "gSA2DsOhYeqN"
      },
      "source": [
        "# Heap\n",
        "\n"
      ]
    },
    {
      "cell_type": "code",
      "metadata": {
        "id": "6PBtwimlcbjy"
      },
      "source": [
        "Python Program to Implement Binary Heap\n",
        "Python Program to Implement Binomial Tree\n",
        "Python Program to Implement Binomial Heap\n",
        "Python Program to Implement Fibonacci Heap\n",
        "Python Program to Implement Ternary Heap\n",
        "Python Program to Implement D-ary-Heap"
      ],
      "execution_count": null,
      "outputs": []
    },
    {
      "cell_type": "markdown",
      "metadata": {
        "id": "85Do9Bz0YfuT"
      },
      "source": [
        "# Graphs\n",
        "\n",
        "https://www.sanfoundry.com/python-programming-examples-graphs/"
      ]
    },
    {
      "cell_type": "markdown",
      "metadata": {
        "id": "UVx_It12YiBk"
      },
      "source": [
        "# Games\n",
        "\n",
        "\n"
      ]
    },
    {
      "cell_type": "code",
      "metadata": {
        "id": "rKvSRp_9cdW-"
      },
      "source": [
        "Python Program to Implement Tower of Hanoi\n",
        "Python Program to Solve n-Queen Problem without Recursion\n",
        "Python Program to Solve the Celebrity Problem\n",
        "Python Program to Solve n-Queen Problem with Recursion"
      ],
      "execution_count": null,
      "outputs": []
    },
    {
      "cell_type": "markdown",
      "metadata": {
        "id": "ePSdkjIhYlZs"
      },
      "source": [
        "# Greedy Algorithms\n",
        "\n"
      ]
    },
    {
      "cell_type": "code",
      "metadata": {
        "id": "IV8mV6o5cfQ0"
      },
      "source": [
        "Python Program to Solve Fractional Knapsack Problem using Greedy Algorithm\n",
        "Python Program to Solve Interval Scheduling Problem using Greedy Algorithm\n",
        "Python Program to Find the Smallest Set of Unit-Length Closed Intervals that Contains All Points using Greedy Algorithm\n",
        "Python Program to Minimize Lateness using Greedy Algorithm"
      ],
      "execution_count": null,
      "outputs": []
    },
    {
      "cell_type": "markdown",
      "metadata": {
        "id": "EYR4v8iYYsAo"
      },
      "source": [
        "# Dynamic Programming\n",
        "\n",
        "\n"
      ]
    },
    {
      "cell_type": "code",
      "metadata": {
        "id": "cSDaTJe1chR0"
      },
      "source": [
        "Python Program to Solve Rod Cutting Problem using Dynamic Programming with Memoization\n",
        "Python Program to Solve Rod Cutting Problem using Dynamic Programming with Bottom-Up Approach\n",
        "Python Program to Print nth Fibonacci Number using Dynamic Programming with Memoization\n",
        "Python Program to Print nth Fibonacci Number using Dynamic Programming with Bottom-Up Approach\n",
        "Python Program to Solve Matrix-Chain Multiplication using Dynamic Programming with Memoization\n",
        "Python Program to Solve Matrix-Chain Multiplication using Dynamic Programming with Bottom-Up Approach\n",
        "Python Program to Find Longest Common Subsequence using Dynamic Programming with Memoization\n",
        "Python Program to Find Longest Common Subsequence using Dynamic Programming with Bottom-Up Approach\n",
        "Python Program to Find Longest Common Substring using Dynamic Programming with Memoization\n",
        "Python Program to Find Longest Common Substring using Dynamic Programming with Bottom-Up Approach\n",
        "Python Program to Solve 0-1 Knapsack Problem using Dynamic Programming with Bottom-Up Approach\n",
        "Python Program to Solve 0-1 Knapsack Problem using Dynamic Programming with Memoization\n",
        "Python Program to Count all Paths in a Grid with Holes using Dynamic Programming with Memoization\n",
        "Python Program to Count all Paths in a Grid with Holes using Dynamic Programming with Bottom-Up Approach"
      ],
      "execution_count": null,
      "outputs": []
    }
  ]
}